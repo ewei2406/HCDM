{
 "cells": [
  {
   "cell_type": "markdown",
   "metadata": {},
   "source": [
    "# Setup"
   ]
  },
  {
   "cell_type": "code",
   "execution_count": 1,
   "metadata": {},
   "outputs": [],
   "source": [
    "import dataloader\n",
    "import torch\n",
    "import numpy as np\n",
    "import argparse\n",
    "import importlib"
   ]
  },
  {
   "cell_type": "code",
   "execution_count": 2,
   "metadata": {},
   "outputs": [],
   "source": [
    "# Arguments ===================================\n",
    "parser = argparse.ArgumentParser()\n",
    "\n",
    "parser.add_argument('--gpu_id', type=int, default=0)\n",
    "parser.add_argument('--seed', type=int, default=123)\n",
    "parser.add_argument('--config', type=str, default='config.yml')\n",
    "parser.add_argument('--dataset', type=str, default='BlogCatalog', choices=['cora', 'BlogCatalog', 'chameleon'])\n",
    "parser.add_argument('--g0_method', type=str, default='random', choices=[\n",
    "  'random', # randomly distribution of g0\n",
    "  'bias', # a random class has a 3x higher likelihood of being in g0\n",
    "  'large_cluster', # a random node and [g0_size] of its neighbors are in g0\n",
    "  'many_clusters', # 10 random nodes and [g0_size] of their neighbors are in g0\n",
    "  ])\n",
    "parser.add_argument('--switch', type=bool, default=True)\n",
    "parser.add_argument('--nolabeltask', type=bool, default=True)\n",
    "\n",
    "parser.add_argument('--g0_size', type=float, default=0.1)\n",
    "parser.add_argument('--attack_method', type=str, default='sll_no_g', choices=[\n",
    "  'sll', # Selective Learnability Lock\n",
    "  'sll_no_g', # Disable gradient guidance\n",
    "  'noise', # Noise protection\n",
    "  'heuristic', # Heuristic protection\n",
    "  'edge_reconstruction' # Edge Reconstructions\n",
    "  ])\n",
    "parser.add_argument('--budget_pct', type=float, default=0.25)\n",
    "parser.add_argument('--attack_epochs', type=int, default=30)\n",
    "parser.add_argument('--save_results', type=str, default='Y', choices=['N', 'Y'])\n",
    "parser.add_argument('--save_graph', type=str, default='N', choices=['N', 'Y'])\n",
    "\n",
    "args = parser.parse_args(\"\")\n",
    "\n",
    "if args.gpu_id >= 0:\n",
    "  device = torch.device(f'cuda:{args.gpu_id}' if torch.cuda.is_available() else 'cpu')\n",
    "else:\n",
    "  device = torch.device('cpu')\n",
    "\n",
    "np.random.seed(args.seed)\n",
    "torch.manual_seed(args.seed)\n",
    "if device != 'cpu': torch.cuda.manual_seed(args.seed)\n",
    "\n",
    "import yaml\n",
    "from yaml import SafeLoader\n",
    "config = yaml.load(open(args.config), Loader=SafeLoader)[args.dataset]"
   ]
  },
  {
   "cell_type": "code",
   "execution_count": 3,
   "metadata": {},
   "outputs": [
    {
     "name": "stdout",
     "output_type": "stream",
     "text": [
      "H: 40.11%\n"
     ]
    }
   ],
   "source": [
    "import dgl\n",
    "import numpy as np\n",
    "import loadSNAP\n",
    "import importlib\n",
    "import utils\n",
    "importlib.reload(loadSNAP)\n",
    "importlib.reload(utils)\n",
    "\n",
    "# Load graph ===================================\n",
    "if args.dataset in [\"chameleon\"]:\n",
    "\n",
    "    graph = dgl.from_networkx(loadSNAP.load_graph(\"chameleon/musae_chameleon_edges.csv\"))\n",
    "\n",
    "    # Load labels\n",
    "    labels = torch.tensor(loadSNAP.load_labels(\"chameleon/musae_chameleon_target.csv\"))\n",
    "    labels = utils.discretize(labels, 5)\n",
    "\n",
    "    graph.ndata['label'] = labels\n",
    "    labels = labels.to(device)\n",
    "\n",
    "    # Load feats\n",
    "    rawFeat = loadSNAP.load_features(\"chameleon/musae_chameleon_features.json\")\n",
    "    feat = torch.zeros((graph.num_nodes(), 4000))\n",
    "    for key in rawFeat:\n",
    "        feat[key] = utils.idx_to_bool(torch.tensor(rawFeat[key]), 4000)\n",
    "    graph.ndata['feat'] = feat\n",
    "    feat = feat.to(device)\n",
    "\n",
    "    # Train test split\n",
    "    train_mask = torch.bernoulli(torch.full([graph.num_nodes()], 0.3)).bool()\n",
    "    graph.ndata['train_mask'] = train_mask\n",
    "    graph.ndata['test_mask'] = ~train_mask\n",
    "    adj = graph.adj().to_dense()\n",
    "\n",
    "else:\n",
    "    graph = dataloader.load_DGL(args.dataset)\n",
    "    feat = graph.ndata['feat'].to(device)\n",
    "    labels = graph.ndata['label'].to(device)\n",
    "    adj = graph.adj().to_dense()\n",
    "\n",
    "H = utils.calc_homophily(adj, labels)\n",
    "print(f'H: {H:.2%}')"
   ]
  },
  {
   "cell_type": "code",
   "execution_count": 4,
   "metadata": {},
   "outputs": [
    {
     "data": {
      "text/plain": [
       "(array([2828.,    0.,    0.,    0.,    0.,    0.,    0.,    0.,    0.,\n",
       "        2368.]),\n",
       " array([0. , 0.1, 0.2, 0.3, 0.4, 0.5, 0.6, 0.7, 0.8, 0.9, 1. ]),\n",
       " <BarContainer object of 10 artists>)"
      ]
     },
     "execution_count": 4,
     "metadata": {},
     "output_type": "execute_result"
    },
    {
     "data": {
      "image/png": "[encoded data removed]",
      "text/plain": [
       "<Figure size 432x288 with 1 Axes>"
      ]
     },
     "metadata": {
      "needs_background": "light"
     },
     "output_type": "display_data"
    }
   ],
   "source": [
    "# Select features\n",
    "# TOP 10 cora: [1263, 1301, 1138, 19, 135, 1336, 495, 99, 1123],\n",
    "# TOP 10 chameleon: [1794, 2753,  528,  598,  415, 2297,  735,   73, 2408, 2539],\n",
    "# TOP 10 blogcatalog: [6, 10,  9,  7, 17, 18]\n",
    "import scipy\n",
    "num_tasks = 2\n",
    "tasks = torch.zeros((num_tasks, feat.shape[0]), dtype=torch.int64).to(device)\n",
    "\n",
    "tasks[0] = labels\n",
    "doMedian = False\n",
    "if args.dataset == 'cora':\n",
    "    feat1 = 1263\n",
    "    feat2 = 1301\n",
    "    doMedian = True\n",
    "elif args.dataset == 'chameleon':\n",
    "    feat1 = 1794\n",
    "    feat2 = 2753\n",
    "elif args.dataset == 'BlogCatalog':\n",
    "    feat1 = 6\n",
    "    feat2 = 10\n",
    "\n",
    "if args.nolabeltask:\n",
    "    if doMedian:\n",
    "        med = feat[:, feat2].median()\n",
    "        tasks[0] = (feat[:, feat2] > med).long()\n",
    "    else:\n",
    "        tasks[0] = feat[:, feat2]\n",
    "    feat[:, feat2] = 0\n",
    "\n",
    "if doMedian:\n",
    "    med = feat[:, feat1].median()\n",
    "    tasks[1] = (feat[:, feat1] > med).long()\n",
    "else:\n",
    "    tasks[1] = feat[:, feat1]\n",
    "feat[:, feat1] = 0\n",
    "\n",
    "if args.switch:\n",
    "    temp = tasks[0].clone()\n",
    "    tasks[0] = tasks[1].clone()\n",
    "    tasks[1] = temp\n",
    "\n",
    "tasks = tasks.to(device)\n",
    "\n",
    "import matplotlib.pyplot as plt\n",
    "plt.hist(tasks[1].cpu().numpy())"
   ]
  },
  {
   "cell_type": "code",
   "execution_count": 5,
   "metadata": {},
   "outputs": [
    {
     "name": "stdout",
     "output_type": "stream",
     "text": [
      "G0 size: 550\n",
      "G0 pct: 10.59%\n"
     ]
    }
   ],
   "source": [
    "# Designate g0 ===================================\n",
    "g0_size = int(args.g0_size * graph.num_nodes())\n",
    "\n",
    "def get_clusters(num_roots: int, max_hops: int, target_size: int) -> torch.tensor:\n",
    "  root_nodes = torch.rand(graph.num_nodes()).topk(num_roots).indices\n",
    "\n",
    "  for hop in range(max_hops):\n",
    "    newNodes = adj[root_nodes].nonzero().t()[1]\n",
    "    root_nodes = torch.cat((root_nodes, newNodes))\n",
    "    root_nodes = torch.unique(root_nodes)\n",
    "    if root_nodes.shape[0] >= target_size:\n",
    "      break\n",
    "\n",
    "  g0 = torch.zeros(graph.num_nodes())\n",
    "  g0[root_nodes[:target_size]] = 1\n",
    "  g0 = g0.bool()\n",
    "  return g0\n",
    "\n",
    "if args.g0_method == 'many_clusters': # 10 nodes and their neighbors\n",
    "  g0 = get_clusters(10, 10, g0_size)\n",
    "elif args.g0_method == 'large_cluster': # 1 node and its neighbors\n",
    "  g0 = get_clusters(1, 10, g0_size)\n",
    "elif args.g0_method == 'random': # g0 is random/bias\n",
    "  g0_probs = torch.ones(graph.num_nodes())\n",
    "  g0_probs = g0_probs * (g0_size / g0_probs.sum())\n",
    "  g0_probs.clamp_(0, 1)\n",
    "  g0 = torch.bernoulli(g0_probs).bool()\n",
    "elif args.g0_method == 'bias': # g0 is skewed toward a class by factor of 3\n",
    "  bias = torch.randint(0, labels.max() + 1, [1]).item()\n",
    "  print(f'G0 class bias: {bias}')\n",
    "  g0_probs = torch.ones(graph.num_nodes())\n",
    "  g0_probs[labels == bias] = 3\n",
    "  g0_probs = g0_probs * (g0_size / g0_probs.sum())\n",
    "  g0_probs.clamp_(0, 1)\n",
    "  g0 = torch.bernoulli(g0_probs).bool()\n",
    "\n",
    "print(f'G0 size: {g0.sum().item()}')\n",
    "print(f'G0 pct: {g0.sum().item() / graph.num_nodes():.2%}')\n",
    "\n",
    "g0 = g0.cpu()\n",
    "gX = ~g0"
   ]
  },
  {
   "cell_type": "markdown",
   "metadata": {},
   "source": [
    "# Do Attack"
   ]
  },
  {
   "cell_type": "code",
   "execution_count": 6,
   "metadata": {},
   "outputs": [
    {
     "name": "stdout",
     "output_type": "stream",
     "text": [
      "Attacking with method: sll_no_g\n"
     ]
    },
    {
     "name": "stderr",
     "output_type": "stream",
     "text": [
      "SLL (no gradient guidance): 100%|██████████| 30/30 [00:07<00:00,  4.02it/s, adj_l=-.235, adj_g=-76, pre-p=42304, target=85871, model_loss=2.16]  \n"
     ]
    },
    {
     "name": "stdout",
     "output_type": "stream",
     "text": [
      "Best sample loss: -0.80\n",
      "Edges modified: 17575\n"
     ]
    }
   ],
   "source": [
    "# Perform attack ==========================\n",
    "\n",
    "import utils\n",
    "import models\n",
    "import torch.nn.functional as F\n",
    "from tqdm import tqdm\n",
    "\n",
    "\n",
    "num_perturbations = (graph.num_edges()) * args.budget_pct\n",
    "\n",
    "print(f'Attacking with method: {args.attack_method}')\n",
    "\n",
    "if args.attack_method == 'heuristic':\n",
    "  locked_adj = adj.clone()\n",
    "  locked_adj[:, g0] = 0\n",
    "  locked_adj[g0, :] = 0\n",
    "elif args.attack_method == 'noise':\n",
    "  noise = torch.zeros_like(adj)\n",
    "  noise[g0, :] = 1\n",
    "  noise[:, gX] = 0\n",
    "  noise *= 2 * num_perturbations / noise.sum()\n",
    "  noise = torch.bernoulli(noise.clamp(0, 1))\n",
    "  noise = utils.make_symmetric(noise)\n",
    "  locked_adj = utils.get_modified_adj(adj, noise)\n",
    "elif args.attack_method == 'sll_no_g':\n",
    "  import scipy\n",
    "  factor_s = 1 / scipy.stats.entropy(tasks[0].cpu().numpy())\n",
    "  factor_u = 1 / scipy.stats.entropy(tasks[1].cpu().numpy())\n",
    "  factor_avg = (factor_s + factor_u) / 2\n",
    "  factor_s /= factor_avg\n",
    "  factor_u /= factor_avg\n",
    "\n",
    "  # Initialize perturbations\n",
    "  perturbations = torch.zeros_like(adj).float()\n",
    "\n",
    "  # Create surrogate model to mimic downstream\n",
    "  surrogates = []\n",
    "  for task in tasks:\n",
    "    surrogates.append(models.DenseGCN(\n",
    "      in_size=feat.shape[1],\n",
    "      out_size=int(task.max().item())+1,\n",
    "      hid_size=config['hid_size'],\n",
    "      lr=config['lr'],\n",
    "      dropout=config['dropout'],\n",
    "      weight_decay=config['weight_decay']\n",
    "  ).to(device))\n",
    "\n",
    "  t = tqdm(range(args.attack_epochs), bar_format='{l_bar}{bar:10}{r_bar}{bar:-10b}')\n",
    "  t.set_description(\"SLL (no gradient guidance)\")\n",
    "\n",
    "  for epoch in t:\n",
    "    # Re-initialize adj_grad\n",
    "    adj_grad = torch.zeros_like(adj).float()\n",
    "\n",
    "    # Get modified adj\n",
    "    modified_adj = utils.get_modified_adj(adj, perturbations).requires_grad_(True).float().to(device)\n",
    "\n",
    "    # Get grad of modified adj w.r.t attack loss\n",
    "    loss = 0\n",
    "    for i, surrogate in enumerate(surrogates):\n",
    "      pred = surrogate(feat, modified_adj)\n",
    "\n",
    "      if i == 0:\n",
    "        loss += factor_s * (F.cross_entropy(pred[g0], tasks[0][g0]) \\\n",
    "            - F.cross_entropy(pred[gX], tasks[0][gX]))\n",
    "      else:\n",
    "        loss += - factor_u * F.cross_entropy(pred, tasks[i])\n",
    "\n",
    "    adj_grad = torch.autograd.grad(loss, modified_adj)[0].cpu()\n",
    "\n",
    "    # Update perturbations\n",
    "    lr = (config['sll_no_g_lr']) / ((epoch + 1))\n",
    "    pre_projection = int(perturbations.sum())\n",
    "    perturbations = perturbations + (lr * adj_grad)\n",
    "    perturbations = utils.projection(perturbations, num_perturbations)\n",
    "\n",
    "    # Train the surrogate\n",
    "    modified_adj = utils.get_modified_adj(adj, perturbations).to(device)\n",
    "    model_loss = 0\n",
    "\n",
    "    for i, surrogate in enumerate(surrogates):\n",
    "       model_loss += surrogate.fit(feat, modified_adj, tasks[i].to(device), epochs=1, verbose=False)\n",
    "\n",
    "    t.set_postfix({\"adj_l\": loss.item(),\n",
    "                    \"adj_g\": (adj_grad.sum().item()),\n",
    "                    \"pre-p\": pre_projection,\n",
    "                    \"target\": int(num_perturbations),\n",
    "                    \"model_loss\": model_loss})\n",
    "elif args.attack_method == 'sll':\n",
    "  labels = tasks[0].to(device)\n",
    "  # Initialize perturbations\n",
    "  perturbations = torch.zeros_like(adj).float()\n",
    "\n",
    "  # Initialize sampling matrix\n",
    "  import sampling_matrix\n",
    "  samplingMatrix = sampling_matrix.SamplingMatrix(\n",
    "    g0=g0, gX=gX, adj=adj, sample_size=config['sll_sample_size'])\n",
    "  count = torch.zeros_like(adj).float()\n",
    "\n",
    "  # Create surrogate model to mimic downstream\n",
    "  surrogate = models.DenseGCN(\n",
    "      in_size=feat.shape[1],\n",
    "      out_size=labels.max().item()+1,\n",
    "      hid_size=config['hid_size'],\n",
    "      lr=config['lr'],\n",
    "      dropout=config['dropout'],\n",
    "      weight_decay=config['weight_decay']\n",
    "  ).to(device)\n",
    "\n",
    "  t = tqdm(range(args.attack_epochs), bar_format='{l_bar}{bar:10}{r_bar}{bar:-10b}')\n",
    "  t.set_description(\"SLL\")\n",
    "\n",
    "  for epoch in t:\n",
    "    # Re-initialize adj_grad\n",
    "    adj_grad = torch.zeros_like(adj).float()\n",
    "\n",
    "    # Get modified adj\n",
    "    modified_adj = utils.get_modified_adj(adj, perturbations).float().to(device)\n",
    "\n",
    "    for sample_epoch in range(config['sll_num_samples']): \n",
    "      # Get sample indices\n",
    "      idx = samplingMatrix.get_sample()\n",
    "\n",
    "      # Map sample to adj\n",
    "      sample = modified_adj[idx[0], idx[1]].clone().detach().requires_grad_(True).to(device)\n",
    "      modified_adj[idx[0], idx[1]] = sample\n",
    "\n",
    "      # Get grad\n",
    "      pred = surrogate(feat, modified_adj)\n",
    "      loss = F.cross_entropy(pred[g0], labels[g0]) \\\n",
    "          - F.cross_entropy(pred[gX], labels[gX])\n",
    "\n",
    "      grad = torch.autograd.grad(loss, sample)[0]\n",
    "\n",
    "      # Implement averaging of duplicate samples\n",
    "      adj_grad[idx[0], idx[1]] += grad.cpu()\n",
    "      count[idx[0], idx[1]] += 1\n",
    "\n",
    "    # Update the sampling matrix\n",
    "    samplingMatrix.updateByGrad(adj_grad, count)\n",
    "\n",
    "    # Average the gradient\n",
    "    adj_grad = torch.div(adj_grad, count)\n",
    "    adj_grad[adj_grad != adj_grad] = 0\n",
    "    \n",
    "    # Update perturbations\n",
    "    lr = (config['sll_lr']) / ((epoch + 1))\n",
    "    pre_projection = int(perturbations.sum())\n",
    "    perturbations = perturbations + (lr * adj_grad)\n",
    "    perturbations = utils.projection(perturbations, num_perturbations)\n",
    "\n",
    "    # Train the model\n",
    "    modified_adj = utils.get_modified_adj(adj, perturbations).to(device)\n",
    "    model_loss = surrogate.fit(feat, modified_adj, labels, epochs=1, verbose=False)\n",
    "\n",
    "    t.set_postfix({\"attack_loss\": loss.item(),\n",
    "                    # \"adj_g\": (adj_grad.sum().item()),\n",
    "                    \"pre-projection\": pre_projection,\n",
    "                    \"target\": int(num_perturbations),\n",
    "                    \"surrogate_loss\": model_loss})\n",
    "elif args.attack_method == 'edge_reconstruction':\n",
    "  task0same = tasks[0].repeat(tasks[0].shape[0], 1)\n",
    "  task0same = (task0same == task0same.t()).long()\n",
    "  task0same[g0, :][:, g0] = 1 - task0same[g0, :][:, g0]\n",
    "  task0same.fill_diagonal_(0)\n",
    "\n",
    "  task1same = tasks[1].repeat(tasks[0].shape[0], 1)\n",
    "  task1same = (task1same == task1same.t()).long()\n",
    "  task1same.fill_diagonal_(0)\n",
    "\n",
    "  possibleEdges = task0same * task1same\n",
    "  possibleEdges[:, g0][gX, :] = 0\n",
    "  possibleEdges[:, gX][g0, :] = 0\n",
    "  possibleEdges = possibleEdges * (graph.num_edges() / possibleEdges.sum())\n",
    "  locked_adj = torch.bernoulli(possibleEdges).cpu()\n",
    "\n",
    "# Discretize the best locked_adj ============\n",
    "if args.attack_method in ['sll', 'sll_no_g']:\n",
    "  locked_adj = None\n",
    "  with torch.no_grad():\n",
    "    max_loss = -1000\n",
    "    for k in range(0,3):\n",
    "        sample = torch.bernoulli(perturbations)\n",
    "        modified_adj = utils.get_modified_adj(adj, sample)\n",
    "        modified_adj = utils.make_symmetric(modified_adj) \n",
    "\n",
    "        loss = 0\n",
    "        for i, surrogate in enumerate(surrogates):\n",
    "          pred = surrogate(feat, modified_adj.to(device))\n",
    "\n",
    "          if i == 0:\n",
    "            loss += F.cross_entropy(pred[g0], tasks[0][g0]) \\\n",
    "                - F.cross_entropy(pred[gX], tasks[0][gX])\n",
    "          else:\n",
    "            loss += - F.cross_entropy(pred, tasks[i])\n",
    "\n",
    "        if loss > max_loss:\n",
    "            max_loss = loss\n",
    "            locked_adj = modified_adj\n",
    "    \n",
    "    print(f\"Best sample loss: {max_loss:.2f}\")\n",
    "\n",
    "diff = adj - locked_adj\n",
    "print(f'Edges modified: {diff.abs().sum() / 2:.0f}')"
   ]
  },
  {
   "cell_type": "markdown",
   "metadata": {},
   "source": [
    "# Eval"
   ]
  },
  {
   "cell_type": "code",
   "execution_count": 7,
   "metadata": {},
   "outputs": [
    {
     "data": {
      "text/plain": [
       "(0.986759684315447, 1.013240315684553)"
      ]
     },
     "execution_count": 7,
     "metadata": {},
     "output_type": "execute_result"
    }
   ],
   "source": [
    "factor_s = 1 / scipy.stats.entropy(tasks[0].cpu().numpy())\n",
    "factor_u = 1 / scipy.stats.entropy(tasks[1].cpu().numpy())\n",
    "factor_avg = (factor_s + factor_u) / 2\n",
    "factor_s /= factor_avg\n",
    "factor_u /= factor_avg\n",
    "factor_s, factor_u"
   ]
  },
  {
   "cell_type": "code",
   "execution_count": 8,
   "metadata": {},
   "outputs": [],
   "source": [
    "def warn(*args, **kwargs):\n",
    "    pass\n",
    "import warnings\n",
    "warnings.warn = warn\n",
    "\n",
    "import matplotlib.pyplot as plt\n",
    "import numpy as np\n",
    "from sklearn.manifold import TSNE"
   ]
  },
  {
   "cell_type": "code",
   "execution_count": 9,
   "metadata": {},
   "outputs": [],
   "source": [
    "gX_train = torch.logical_and(gX, graph.ndata['train_mask'])\n",
    "gX_test = torch.logical_and(gX, graph.ndata['test_mask'])\n",
    "g0_test = torch.logical_and(g0, graph.ndata['test_mask'])\n",
    "\n",
    "def get_emb(test_adj: torch.tensor, task):\n",
    "    model = models.DenseGCN(\n",
    "        in_size=feat.shape[1],\n",
    "        out_size=int(task.max().item())+1,\n",
    "        hid_size=config['hid_size'],\n",
    "        lr=config['lr'],\n",
    "        dropout=config['dropout'],\n",
    "        weight_decay=config['weight_decay']\n",
    "    ).to(device)\n",
    "\n",
    "    model.fit(feat, test_adj, task, epochs=100, mask=gX_train)\n",
    "    \n",
    "    pred = model(feat, test_adj).cpu()\n",
    "\n",
    "    acc_gX = utils.eval_acc(model, feat, test_adj, task, gX_test)\n",
    "    acc_g0 = utils.eval_acc(model, feat, test_adj, task, g0_test)\n",
    "\n",
    "    return pred, acc_g0, acc_gX\n",
    "\n"
   ]
  },
  {
   "cell_type": "code",
   "execution_count": 10,
   "metadata": {},
   "outputs": [
    {
     "name": "stdout",
     "output_type": "stream",
     "text": [
      "BlogCatalog @ sll_no_g | TASKS: taskB, taskC\n"
     ]
    }
   ],
   "source": [
    "print(f\"{args.dataset} @ {args.attack_method}\", end=\" \")\n",
    "labs = ['taskA', 'taskB']\n",
    "if args.nolabeltask: labs[0] = 'taskC'\n",
    "if args.switch: labs = labs[::-1]\n",
    "print(\"| TASKS: \" + (\", \".join(labs)))"
   ]
  },
  {
   "cell_type": "code",
   "execution_count": 11,
   "metadata": {},
   "outputs": [
    {
     "name": "stderr",
     "output_type": "stream",
     "text": [
      "GCN Training: 100%|██████████| 100/100 [00:03<00:00, 30.37it/s, loss=0.53]\n",
      "GCN Training: 100%|██████████| 100/100 [00:02<00:00, 36.22it/s, loss=0.45]\n",
      "GCN Training: 100%|██████████| 100/100 [00:03<00:00, 29.22it/s, loss=0.46]\n",
      "GCN Training: 100%|██████████| 100/100 [00:05<00:00, 19.14it/s, loss=0.5]\n"
     ]
    }
   ],
   "source": [
    "a = []\n",
    "\n",
    "for i, task in enumerate(tasks):\n",
    "  # Base\n",
    "  base_pred, base_acc_g0, base_acc_gX = get_emb(adj, task)\n",
    "\n",
    "  lock_pred, lock_acc_g0, lock_acc_gX = get_emb(locked_adj, task)\n",
    "\n",
    "  a.append([\n",
    "    (lock_acc_g0 - base_acc_g0) / base_acc_g0,\n",
    "    (lock_acc_gX - base_acc_gX) / base_acc_gX,\n",
    "  ])"
   ]
  },
  {
   "cell_type": "code",
   "execution_count": 12,
   "metadata": {},
   "outputs": [
    {
     "data": {
      "image/png": "[encoded data removed]",
      "text/plain": [
       "<Figure size 432x288 with 1 Axes>"
      ]
     },
     "metadata": {
      "needs_background": "light"
     },
     "output_type": "display_data"
    }
   ],
   "source": [
    "fig, ax = plt.subplots()\n",
    "ax.matshow(a, vmin=-1, vmax=1, cmap='bwr')\n",
    "ax.set_xticklabels([''] + ['Delta G0', 'Delta GX'])\n",
    "ax.set_yticklabels([''] + ['TASK 0', 'TASK 1'])\n",
    "# Loop over data dimensions and create text annotations.\n",
    "for i in range(2):\n",
    "    for j in range(2):\n",
    "        text = ax.text(j, i, f'{a[i][j]:.2%}',\n",
    "                       ha=\"center\", va=\"center\", color=\"black\")"
   ]
  },
  {
   "cell_type": "code",
   "execution_count": 13,
   "metadata": {},
   "outputs": [
    {
     "data": {
      "text/plain": [
       "[[-0.18367345765797813, -0.0582329031183401],\n",
       " [0.042553188656184855, -0.012195127240348953]]"
      ]
     },
     "execution_count": 13,
     "metadata": {},
     "output_type": "execute_result"
    }
   ],
   "source": [
    "a"
   ]
  },
  {
   "cell_type": "code",
   "execution_count": 14,
   "metadata": {},
   "outputs": [
    {
     "data": {
      "text/plain": [
       "{'dataset': 'BlogCatalog',\n",
       " 'seed': 123,\n",
       " 'config': 'config.yml',\n",
       " 'g0_method': 'random',\n",
       " 'g0_size': 0.1,\n",
       " 'attack_epochs': 30,\n",
       " 'attack_method': 'sll_no_g',\n",
       " 'budget_pct': 0.25,\n",
       " 'lr': 500,\n",
       " 's': 'taskB',\n",
       " 'u': 'taskC',\n",
       " 'H0_s': 0.5369360032141048,\n",
       " 'H1_s': 0.5313948075580288,\n",
       " 'H0_u': 0.5117006224416716,\n",
       " 'H1_u': 0.5103573771185544,\n",
       " 'MI': 0.002825789153575897,\n",
       " 'dacc_s_g0': -0.18367345765797813,\n",
       " 'dacc_s_gX': -0.0582329031183401,\n",
       " 'dacc_u_g0': 0.042553188656184855,\n",
       " 'dacc_u_gX': -0.012195127240348953,\n",
       " 'e': 0.15579861595547392,\n",
       " 'edges_modified': 17575,\n",
       " 'classes_s': 2,\n",
       " 'classes_u': 2,\n",
       " 'num_edges': 343486,\n",
       " 'num_nodes': 5196}"
      ]
     },
     "execution_count": 14,
     "metadata": {},
     "output_type": "execute_result"
    }
   ],
   "source": [
    "# Save the results\n",
    "import export\n",
    "import FeatureMetrics\n",
    "\n",
    "results = {\n",
    "  'dataset': args.dataset,\n",
    "  'seed': args.seed,\n",
    "  'config': args.config,\n",
    "  'g0_method': args.g0_method,\n",
    "  'g0_size': args.g0_size,\n",
    "  'attack_epochs': args.attack_epochs,\n",
    "  'attack_method': args.attack_method,\n",
    "  'budget_pct': args.budget_pct,\n",
    "  'lr': config['sll_no_g_lr'],\n",
    "  's': labs[0],\n",
    "  'u': labs[1],\n",
    "  'H0_s': utils.calc_homophily(adj, tasks[0]),\n",
    "  'H1_s': utils.calc_homophily(locked_adj, tasks[0]),\n",
    "  'H0_u': utils.calc_homophily(adj, tasks[1]),\n",
    "  'H1_u': utils.calc_homophily(locked_adj, tasks[1]),\n",
    "  'MI': FeatureMetrics.mutual_information(tasks[0], tasks[1]),\n",
    "  'dacc_s_g0': a[0][0],\n",
    "  'dacc_s_gX': a[0][1],\n",
    "  'dacc_u_g0': a[1][0],\n",
    "  'dacc_u_gX': a[1][1],\n",
    "  'e': - a[0][0] + a[0][1] + a[1][0] + a[1][1],\n",
    "  'edges_modified': int(diff.abs().sum() / 2),\n",
    "  'classes_s': int(tasks[0].max().item()+1),\n",
    "  'classes_u': int(tasks[1].max().item()+1),\n",
    "  'num_edges': int(graph.num_edges()),\n",
    "  'num_nodes': graph.num_nodes(),\n",
    "}\n",
    "results"
   ]
  },
  {
   "cell_type": "code",
   "execution_count": 15,
   "metadata": {},
   "outputs": [
    {
     "name": "stdout",
     "output_type": "stream",
     "text": [
      "Error: Column mismatch (orig_edges in csv but not in data to append)\n"
     ]
    },
    {
     "data": {
      "text/plain": [
       "False"
      ]
     },
     "execution_count": 15,
     "metadata": {},
     "output_type": "execute_result"
    }
   ],
   "source": [
    "export.saveData('./results1.csv', results)"
   ]
  }
 ],
 "metadata": {
  "kernelspec": {
   "display_name": "Python 3.10.4 ('pytorch_c116')",
   "language": "python",
   "name": "python3"
  },
  "language_info": {
   "codemirror_mode": {
    "name": "ipython",
    "version": 3
   },
   "file_extension": ".py",
   "mimetype": "text/x-python",
   "name": "python",
   "nbconvert_exporter": "python",
   "pygments_lexer": "ipython3",
   "version": "3.10.4"
  },
  "orig_nbformat": 4,
  "vscode": {
   "interpreter": {
    "hash": "ace00f8df87249d7fb913fbec74912fd8ad566274bc64c0a2570c224c3461cb4"
   }
  }
 },
 "nbformat": 4,
 "nbformat_minor": 2
}
