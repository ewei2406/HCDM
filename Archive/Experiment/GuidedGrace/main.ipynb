{
 "cells": [
  {
   "cell_type": "code",
   "execution_count": 2,
   "metadata": {},
   "outputs": [],
   "source": [
    "import argparse\n",
    "from model import Grace\n",
    "from aug import aug\n",
    "from dataset import load\n",
    "\n",
    "import numpy as np\n",
    "import torch as th\n",
    "import torch.nn as nn\n",
    "\n",
    "from eval import label_classification\n",
    "import warnings\n",
    "\n",
    "warnings.filterwarnings('ignore')\n",
    "\n",
    "\n",
    "def count_parameters(model):\n",
    "    return sum([np.prod(p.size()) for p in model.parameters() if p.requires_grad])\n",
    "\n",
    "\n",
    "parser = argparse.ArgumentParser()\n",
    "parser.add_argument('--dataname', type=str, default='cora')\n",
    "parser.add_argument('--gpu', type=int, default=0)\n",
    "parser.add_argument('--split', type=str, default='random')\n",
    "parser.add_argument('--one_view', type=str, default='N')\n",
    "parser.add_argument('--seed', type=int, default=100)\n",
    "\n",
    "parser.add_argument('--epochs', type=int, default=200, help='Number of training periods.')\n",
    "parser.add_argument('--lr', type=float, default=0.001, help='Learning rate.')\n",
    "parser.add_argument('--wd', type=float, default=1e-5, help='Weight decay.')\n",
    "parser.add_argument('--temp', type=float, default=1.0, help='Temperature.')\n",
    "\n",
    "parser.add_argument('--act_fn', type=str, default='relu')\n",
    "\n",
    "parser.add_argument(\"--hid_dim\", type=int, default=256, help='Hidden layer dim.')\n",
    "parser.add_argument(\"--out_dim\", type=int, default=256, help='Output layer dim.')\n",
    "\n",
    "parser.add_argument(\"--num_layers\", type=int, default=2, help='Number of GNN layers.')\n",
    "parser.add_argument('--der1', type=float, default=0.2, help='Drop edge ratio of the 1st augmentation.')\n",
    "parser.add_argument('--der2', type=float, default=0.2, help='Drop edge ratio of the 2nd augmentation.')\n",
    "parser.add_argument('--dfr1', type=float, default=0.2, help='Drop feature ratio of the 1st augmentation.')\n",
    "parser.add_argument('--dfr2', type=float, default=0.2, help='Drop feature ratio of the 2nd augmentation.')\n",
    "\n",
    "args = parser.parse_args(\"\")\n",
    "\n",
    "if args.gpu != -1 and th.cuda.is_available():\n",
    "    args.device = 'cuda:{}'.format(args.gpu)\n",
    "else:\n",
    "    args.device = 'cpu'\n",
    "\n",
    "np.random.seed(args.seed)\n",
    "th.manual_seed(args.seed)\n",
    "\n",
    "if args.device != 'cpu':\n",
    "    th.cuda.manual_seed(args.seed)\n",
    "\n",
    "\n",
    "# Step 1: Load hyperparameters =================================================================== #\n",
    "lr = args.lr\n",
    "hid_dim = args.hid_dim\n",
    "out_dim = args.out_dim\n",
    "\n",
    "num_layers = args.num_layers\n",
    "act_fn = ({'relu': nn.ReLU(), 'prelu': nn.PReLU()})[args.act_fn]\n",
    "\n",
    "drop_edge_rate_1 = args.der1\n",
    "drop_edge_rate_2 = args.der2\n",
    "drop_feature_rate_1 = args.dfr1\n",
    "drop_feature_rate_2 = args.dfr2\n",
    "\n",
    "temp = args.temp\n",
    "epochs = args.epochs\n",
    "wd = args.wd"
   ]
  },
  {
   "cell_type": "code",
   "execution_count": 3,
   "metadata": {},
   "outputs": [
    {
     "name": "stdout",
     "output_type": "stream",
     "text": [
      "  NumNodes: 2708\n",
      "  NumEdges: 10556\n",
      "  NumFeats: 1433\n",
      "  NumClasses: 7\n",
      "  NumTrainingSamples: 140\n",
      "  NumValidationSamples: 500\n",
      "  NumTestSamples: 1000\n",
      "Done loading data from cached files.\n",
      "# params: 997120\n"
     ]
    }
   ],
   "source": [
    "# Step 2: Prepare data =================================================================== #\n",
    "graph = load(args.dataname)\n",
    "in_dim = graph.ndata['feat'].shape[1]\n",
    "\n",
    "# Step 3: Create model =================================================================== #\n",
    "model = Grace(in_dim, hid_dim, out_dim, num_layers, act_fn, temp)\n",
    "model = model.to(args.device)\n",
    "print(f'# params: {count_parameters(model)}')\n",
    "\n",
    "optimizer = th.optim.Adam(model.parameters(), lr=lr, weight_decay=wd)"
   ]
  },
  {
   "cell_type": "code",
   "execution_count": null,
   "metadata": {},
   "outputs": [],
   "source": [
    "import dgl\n",
    "\n",
    "def aug_weight(graph: dgl.DGLGraph, drop_feat: float, weight: th.Tensor):\n",
    "  edge_mask = th.bernoulli(weight) == 0\n",
    "  masked_edges = graph.adj().coalesce().indices()[:, edge_mask]\n",
    "\n",
    "  new_graph = dgl.graph((masked_edges[0], masked_edges[1]), num_nodes=graph.num_nodes()).to(graph.device)\n",
    "\n",
    "  feat_mask = th.rand((graph.ndata['feat'].shape[1])) < (drop_feat)\n",
    "  new_graph.ndata['feat'] = graph.ndata['feat'].clone()\n",
    "\n",
    "  new_graph.ndata['feat'][:, feat_mask] = 0\n",
    "  # new_graph = new_graph.add_self_loop()\n",
    "  new_graph.edata['edge'] = torch.ones([new_graph.num_edges()]).float().requires_grad_()\n",
    "  return new_graph, edge_mask"
   ]
  },
  {
   "cell_type": "code",
   "execution_count": 135,
   "metadata": {},
   "outputs": [
    {
     "name": "stdout",
     "output_type": "stream",
     "text": [
      "# params: 997120\n"
     ]
    }
   ],
   "source": [
    "import importlib\n",
    "import models\n",
    "importlib.reload(models)\n",
    "import numpy as np\n",
    "\n",
    "graph.edata['weight'] = th.full([graph.num_edges()], 0.2)\n",
    "\n",
    "oneview_losses = np.zeros(epochs)\n",
    "\n",
    "model = models.Grace(in_dim, hid_dim, out_dim, num_layers, act_fn, temp)\n",
    "model = model.to(args.device)\n",
    "print(f'# params: {count_parameters(model)}')\n",
    "\n",
    "optimizer = th.optim.Adam(model.parameters(), lr=lr, weight_decay=wd)\n",
    "\n",
    "for epoch in range(epochs):\n",
    "    model.train()\n",
    "    optimizer.zero_grad()\n",
    "    graph1, mask1 = aug_weight(graph, drop_feature_rate_1, graph.edata['weight'])\n",
    "\n",
    "    graph1 = graph1.to(args.device)\n",
    "\n",
    "    loss = model(\n",
    "        graph1, \n",
    "        graph.to(args.device), \n",
    "        graph1.ndata['feat'], \n",
    "        graph.ndata['feat'].to(args.device))\n",
    "\n",
    "    # if args.one_view == 'Y':\n",
    "    # loss = model(graph.to(args.device), graph2, graph.ndata['feat'].to(args.device), feat2)\n",
    "    # else:\n",
    "    # loss = model(graph1, graph2, feat1, feat2)\n",
    "\n",
    "    oneview_losses[epoch] = loss.item()\n",
    "    loss.backward()\n",
    "    optimizer.step()\n",
    "\n",
    "    # print(f'Epoch={epoch:03d}, loss={loss.item():.4f}')"
   ]
  },
  {
   "cell_type": "code",
   "execution_count": 127,
   "metadata": {},
   "outputs": [
    {
     "name": "stdout",
     "output_type": "stream",
     "text": [
      "# params: 997120\n"
     ]
    }
   ],
   "source": [
    "import torch\n",
    "import importlib\n",
    "import models\n",
    "importlib.reload(models)\n",
    "\n",
    "graph.edata['weight'] = th.full([graph.num_edges()], 0.2)\n",
    "\n",
    "reg_losses = np.zeros(epochs)\n",
    "\n",
    "model = models.Grace(in_dim, hid_dim, out_dim, num_layers, act_fn, temp)\n",
    "model = model.to(args.device)\n",
    "print(f'# params: {count_parameters(model)}')\n",
    "\n",
    "optimizer = th.optim.Adam(model.parameters(), lr=lr, weight_decay=wd)\n",
    "\n",
    "for epoch in range(epochs):\n",
    "    model.train()\n",
    "    optimizer.zero_grad()\n",
    "    graph1, mask1 = aug_weight(graph, drop_feature_rate_1, graph.edata['weight'])\n",
    "    graph2, mask2 = aug_weight(graph, drop_feature_rate_2, graph.edata['weight'])\n",
    "\n",
    "    graph1 = graph1.to(args.device)\n",
    "    graph2 = graph2.to(args.device)\n",
    "\n",
    "    loss = model(\n",
    "        graph1, \n",
    "        graph2, \n",
    "        graph1.ndata['feat'], \n",
    "        graph2.ndata['feat'])\n",
    "\n",
    "    # if args.one_view == 'Y':\n",
    "    # loss = model(graph.to(args.device), graph2, graph.ndata['feat'].to(args.device), feat2)\n",
    "    # else:\n",
    "    # loss = model(graph1, graph2, feat1, feat2)\n",
    "\n",
    "    reg_losses[epoch] = loss.item()\n",
    "    loss.backward()\n",
    "    optimizer.step()\n",
    "\n",
    "    # print(f'Epoch={epoch:03d}, loss={loss.item():.4f}')"
   ]
  },
  {
   "cell_type": "code",
   "execution_count": 143,
   "metadata": {},
   "outputs": [
    {
     "name": "stdout",
     "output_type": "stream",
     "text": [
      "# params: 997120\n"
     ]
    }
   ],
   "source": [
    "import torch\n",
    "import importlib\n",
    "import models\n",
    "importlib.reload(models)\n",
    "\n",
    "graph.edata['weight'] = th.full([graph.num_edges()], 0.2)\n",
    "# graph.edata['weight']\n",
    "graph.edata['edge'] = torch.ones([graph.num_edges()]).float().requires_grad_()\n",
    "\n",
    "grad_losses = np.zeros(epochs)\n",
    "grad_target = 0.01 * graph.num_edges()\n",
    "\n",
    "model = models.Grace(in_dim, hid_dim, out_dim, num_layers, act_fn, temp)\n",
    "model = model.to(args.device)\n",
    "print(f'# params: {count_parameters(model)}')\n",
    "\n",
    "optimizer = th.optim.Adam(model.parameters(), lr=lr, weight_decay=wd)\n",
    "\n",
    "for epoch in range(epochs):\n",
    "    model.train()\n",
    "    optimizer.zero_grad()\n",
    "    graph1, mask1 = aug_weight(graph, drop_feature_rate_1, graph.edata['weight'])\n",
    "    graph2, mask2 = aug_weight(graph, drop_feature_rate_2, graph.edata['weight'])\n",
    "\n",
    "    graph1 = graph1.to(args.device)\n",
    "    graph2 = graph2.to(args.device)\n",
    "    # if args.one_view == 'Y':\n",
    "    # loss = model(graph.to(args.device), graph2, graph.ndata['feat'].to(args.device), feat2)\n",
    "    # else:\n",
    "    loss = model(\n",
    "        graph1, \n",
    "        graph2, \n",
    "        graph1.ndata['feat'], \n",
    "        graph2.ndata['feat'],\n",
    "        g1_weights=graph1.edata['edge'],\n",
    "        g2_weights=graph2.edata['edge'],\n",
    "        )\n",
    "\n",
    "    grad_losses[epoch] = loss.item()\n",
    "    # grad = torch.autograd.grad(loss, graph1.edata['edge'])\n",
    "\n",
    "    graph1.edata['edge'].retain_grad()\n",
    "    graph2.edata['edge'].retain_grad()\n",
    "    loss.backward()\n",
    "\n",
    "    # scaled = graph.edata['edge'].grad * (grad_target / graph.edata['edge'].grad.abs().sum())\n",
    "    # graph.edata['weight'] = (graph.edata['weight'] + scaled).clamp(0, 1)\n",
    "\n",
    "    edge_grad = torch.zeros(graph.num_edges())\n",
    "    edge_grad[mask1] += graph1.edata['edge'].grad.detach().cpu()\n",
    "    edge_grad[mask2] += graph2.edata['edge'].grad.detach().cpu()\n",
    "\n",
    "\n",
    "    scaled = edge_grad * (grad_target / edge_grad.abs().sum())\n",
    "    graph.edata['weight'] = (graph.edata['weight'] + scaled).clamp(0, 1)\n",
    "\n",
    "    optimizer.step()\n",
    "\n",
    "    # print(f'Epoch={epoch:03d}, loss={loss.item():.4f}')"
   ]
  },
  {
   "cell_type": "code",
   "execution_count": 144,
   "metadata": {},
   "outputs": [
    {
     "data": {
      "text/plain": [
       "<matplotlib.legend.Legend at 0x7f272cea6740>"
      ]
     },
     "execution_count": 144,
     "metadata": {},
     "output_type": "execute_result"
    },
    {
     "data": {
      "image/png": "[encoded data removed]",
      "text/plain": [
       "<Figure size 432x288 with 1 Axes>"
      ]
     },
     "metadata": {
      "needs_background": "light"
     },
     "output_type": "display_data"
    }
   ],
   "source": [
    "import matplotlib.pyplot as plt\n",
    "plt.plot(reg_losses, label=\"regular grace\")\n",
    "plt.plot(oneview_losses, label=\"one view grace\")\n",
    "plt.plot(grad_losses, label=\"grad view grace\")\n",
    "plt.legend()\n"
   ]
  },
  {
   "cell_type": "code",
   "execution_count": null,
   "metadata": {},
   "outputs": [],
   "source": [
    "\n",
    "# Step 5: Linear evaluation ============================================================== #\n",
    "print(\"=== Final ===\")\n",
    "\n",
    "graph = graph.add_self_loop()\n",
    "graph = graph.to(args.device)\n",
    "embeds = model.get_embedding(graph, graph.ndata['feat'].to(args.device))\n",
    "\n",
    "'''Evaluation Embeddings  '''\n",
    "acc = label_classification(embeds, graph.ndata['label'], graph.ndata['train_mask'], graph.ndata['test_mask'], split=args.split)\n"
   ]
  },
  {
   "cell_type": "code",
   "execution_count": null,
   "metadata": {},
   "outputs": [],
   "source": [
    "# Save data\n",
    "\n",
    "import sys\n",
    "import os\n",
    "sys.path.append(os.path.join('../..'))\n",
    "import Utils.Export as Export\n",
    "\n",
    "results = {\n",
    "    \"dataname\": args.dataname,\n",
    "    \"epochs\": args.epochs,\n",
    "    \"temp\": args.temp,\n",
    "    \"der1\": args.der1,\n",
    "    \"der2\": args.der2,\n",
    "    \"dfr1\": args.dfr1,\n",
    "    \"dfr2\": args.dfr2,\n",
    "    \"f1_micro\": acc['F1Mi']['mean'],\n",
    "    \"f1_macro\": acc['F1Ma']['mean'],\n",
    "    \"one_view\": args.one_view,\n",
    "}\n",
    "\n",
    "Export.saveData('./resultsOneView.csv', results)\n"
   ]
  }
 ],
 "metadata": {
  "kernelspec": {
   "display_name": "Python 3.10.4 ('pytorch_c116')",
   "language": "python",
   "name": "python3"
  },
  "language_info": {
   "codemirror_mode": {
    "name": "ipython",
    "version": 3
   },
   "file_extension": ".py",
   "mimetype": "text/x-python",
   "name": "python",
   "nbconvert_exporter": "python",
   "pygments_lexer": "ipython3",
   "version": "3.10.4"
  },
  "orig_nbformat": 4,
  "vscode": {
   "interpreter": {
    "hash": "ace00f8df87249d7fb913fbec74912fd8ad566274bc64c0a2570c224c3461cb4"
   }
  }
 },
 "nbformat": 4,
 "nbformat_minor": 2
}
