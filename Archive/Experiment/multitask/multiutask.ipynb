{
 "cells": [
  {
   "cell_type": "markdown",
   "metadata": {},
   "source": [
    "# Setup"
   ]
  },
  {
   "cell_type": "code",
   "execution_count": 22,
   "metadata": {},
   "outputs": [],
   "source": [
    "import dataloader\n",
    "import torch\n",
    "import numpy as np\n",
    "import argparse\n",
    "import importlib"
   ]
  },
  {
   "cell_type": "code",
   "execution_count": 23,
   "metadata": {},
   "outputs": [],
   "source": [
    "# Arguments ===================================\n",
    "parser = argparse.ArgumentParser()\n",
    "\n",
    "parser.add_argument('--gpu_id', type=int, default=0)\n",
    "parser.add_argument('--seed', type=int, default=123)\n",
    "parser.add_argument('--config', type=str, default='config3.yml')\n",
    "parser.add_argument('--dataset', type=str, default='cora', choices=['cora', 'citeseer', 'BlogCatalog', 'flickr', 'Polblogs'])\n",
    "parser.add_argument('--g0_method', type=str, default='random', choices=[\n",
    "  'random', # randomly distribution of g0\n",
    "  'bias', # a random class has a 3x higher likelihood of being in g0\n",
    "  'large_cluster', # a random node and [g0_size] of its neighbors are in g0\n",
    "  'many_clusters', # 10 random nodes and [g0_size] of their neighbors are in g0\n",
    "  ])\n",
    "parser.add_argument('--g0_size', type=float, default=0.1)\n",
    "parser.add_argument('--attack_method', type=str, default='edge_reconstruction', choices=[\n",
    "  'sll', # Selective Learnability Lock\n",
    "  'sll_no_g', # Disable gradient guidance\n",
    "  'noise', # Noise protection\n",
    "  'heuristic', # Heuristic protection\n",
    "  'edge_reconstruction' # Edge Reconstructions\n",
    "  ])\n",
    "parser.add_argument('--budget_pct', type=float, default=0.25)\n",
    "parser.add_argument('--attack_epochs', type=int, default=30)\n",
    "parser.add_argument('--save_results', type=str, default='Y', choices=['N', 'Y'])\n",
    "parser.add_argument('--save_graph', type=str, default='N', choices=['N', 'Y'])\n",
    "\n",
    "args = parser.parse_args(\"\")\n",
    "\n",
    "if args.gpu_id >= 0:\n",
    "  device = torch.device(f'cuda:{args.gpu_id}' if torch.cuda.is_available() else 'cpu')\n",
    "else:\n",
    "  device = torch.device('cpu')\n",
    "\n",
    "np.random.seed(args.seed)\n",
    "torch.manual_seed(args.seed)\n",
    "if device != 'cpu': torch.cuda.manual_seed(args.seed)\n",
    "\n",
    "import yaml\n",
    "from yaml import SafeLoader\n",
    "config = yaml.load(open(args.config), Loader=SafeLoader)[args.dataset]"
   ]
  },
  {
   "cell_type": "code",
   "execution_count": 24,
   "metadata": {},
   "outputs": [
    {
     "name": "stdout",
     "output_type": "stream",
     "text": [
      "  NumNodes: 2708\n",
      "  NumEdges: 10556\n",
      "  NumFeats: 1433\n",
      "  NumClasses: 7\n",
      "  NumTrainingSamples: 140\n",
      "  NumValidationSamples: 500\n",
      "  NumTestSamples: 1000\n",
      "Done loading data from cached files.\n"
     ]
    }
   ],
   "source": [
    "# Load graph ===================================\n",
    "graph = dataloader.load_DGL(args.dataset)\n",
    "feat = graph.ndata['feat'].to(device)\n",
    "labels = graph.ndata['label'].to(device)\n",
    "adj = graph.adj().to_dense()"
   ]
  },
  {
   "cell_type": "code",
   "execution_count": 25,
   "metadata": {},
   "outputs": [],
   "source": [
    "def discretize(tensor_a: torch.tensor, n_bins=50, force_bins=False) -> torch.tensor:\n",
    "    \"\"\"\n",
    "    Discretizes a tensor by the number of bins\n",
    "    \"\"\"\n",
    "    print(tensor_a)\n",
    "    # tensor_a = torch.nn.functional.normalize(tensor_a, dim=0)\n",
    "    # tensor_a = tensor_a + tensor_a.min()\n",
    "    if ((not tensor_a.is_floating_point()) and (not tensor_a.is_complex())) and not force_bins:\n",
    "        return (tensor_a - tensor_a.min()).int()\n",
    "\n",
    "    tensor_a_max = tensor_a.max().item()\n",
    "    tensor_a_min = tensor_a.min().item()\n",
    "    d = tensor_a_max - tensor_a_min\n",
    "\n",
    "    if d == 0:\n",
    "        return torch.zeros_like(tensor_a, device=tensor_a.device).int()\n",
    "\n",
    "    boundaries = torch.arange(start=tensor_a_min, end=tensor_a_max, step = d / n_bins, device=tensor_a.device)\n",
    "    bucketized = torch.bucketize(tensor_a, boundaries, right=True).to(tensor_a.device)\n",
    "    result = bucketized - bucketized.min()\n",
    "    assert result.shape[0] == tensor_a.shape[0]\n",
    "    return result.int().to(tensor_a.device)"
   ]
  },
  {
   "cell_type": "code",
   "execution_count": 26,
   "metadata": {},
   "outputs": [
    {
     "name": "stderr",
     "output_type": "stream",
     "text": [
      "/u/nyw6dh/.conda/envs/pytorch_c116/lib/python3.10/site-packages/scipy/stats/_entropy.py:72: RuntimeWarning: invalid value encountered in true_divide\n",
      "  pk = 1.0*pk / np.sum(pk, axis=axis, keepdims=True)\n"
     ]
    },
    {
     "data": {
      "text/plain": [
       "(array([   0.,    0.,    0.,    0.,    0., 2708.,    0.,    0.,    0.,\n",
       "           0.]),\n",
       " array([-0.5, -0.4, -0.3, -0.2, -0.1,  0. ,  0.1,  0.2,  0.3,  0.4,  0.5]),\n",
       " <BarContainer object of 10 artists>)"
      ]
     },
     "execution_count": 26,
     "metadata": {},
     "output_type": "execute_result"
    },
    {
     "data": {
      "image/png": "[encoded data removed]",
      "text/plain": [
       "<Figure size 432x288 with 1 Axes>"
      ]
     },
     "metadata": {
      "needs_background": "light"
     },
     "output_type": "display_data"
    }
   ],
   "source": [
    "# Select features\n",
    "# TOP 10: [1263, 1301, 1138, 19, 135, 1336, 495, 99, 1123],\n",
    "\n",
    "import scipy\n",
    "num_tasks = 2\n",
    "tasks = torch.zeros((num_tasks, feat.shape[0]), dtype=torch.int64).to(device)\n",
    "\n",
    "entropies = scipy.stats.entropy(feat.cpu())\n",
    "entropies[entropies != entropies] = 0\n",
    "topEntropies = torch.from_numpy(entropies).topk(k=5)\n",
    "top = topEntropies.indices[3]\n",
    "top = 1301\n",
    "# top = [1]\n",
    "\n",
    "tasks[0] = labels\n",
    "tasks[1] = torch.zeros_like(labels).float()\n",
    "# med = feat[:, 1301].median()\n",
    "# tasks[1] = (feat[:, 1301] > med).long()\n",
    "# feat[:, 1301] = 0\n",
    "\n",
    "# tasks[0] = labels\n",
    "# med = feat[:, 1301].median()\n",
    "# tasks[0] = (feat[:, 1301] > med).long()\n",
    "# feat[:, 1301] = 0\n",
    "\n",
    "\n",
    "# for i, top_entropy in enumerate([top]):\n",
    "#   t = feat[:, top_entropy]\n",
    "#   med = torch.median(t)\n",
    "#   tasks[i + 1] = (t == 0).long().to(device)\n",
    "\n",
    "tasks = tasks.to(device)\n",
    "\n",
    "import matplotlib.pyplot as plt\n",
    "plt.hist(tasks[1].cpu().numpy())"
   ]
  },
  {
   "cell_type": "code",
   "execution_count": 27,
   "metadata": {},
   "outputs": [
    {
     "name": "stdout",
     "output_type": "stream",
     "text": [
      "G0 size: 285\n",
      "G0 pct: 10.52%\n"
     ]
    }
   ],
   "source": [
    "# Designate g0 ===================================\n",
    "g0_size = int(args.g0_size * graph.num_nodes())\n",
    "\n",
    "def get_clusters(num_roots: int, max_hops: int, target_size: int) -> torch.tensor:\n",
    "  root_nodes = torch.rand(graph.num_nodes()).topk(num_roots).indices\n",
    "\n",
    "  for hop in range(max_hops):\n",
    "    newNodes = adj[root_nodes].nonzero().t()[1]\n",
    "    root_nodes = torch.cat((root_nodes, newNodes))\n",
    "    root_nodes = torch.unique(root_nodes)\n",
    "    if root_nodes.shape[0] >= target_size:\n",
    "      break\n",
    "\n",
    "  g0 = torch.zeros(graph.num_nodes())\n",
    "  g0[root_nodes[:target_size]] = 1\n",
    "  g0 = g0.bool()\n",
    "  return g0\n",
    "\n",
    "if args.g0_method == 'many_clusters': # 10 nodes and their neighbors\n",
    "  g0 = get_clusters(10, 10, g0_size)\n",
    "elif args.g0_method == 'large_cluster': # 1 node and its neighbors\n",
    "  g0 = get_clusters(1, 10, g0_size)\n",
    "elif args.g0_method == 'random': # g0 is random/bias\n",
    "  g0_probs = torch.ones(graph.num_nodes())\n",
    "  g0_probs = g0_probs * (g0_size / g0_probs.sum())\n",
    "  g0_probs.clamp_(0, 1)\n",
    "  g0 = torch.bernoulli(g0_probs).bool()\n",
    "elif args.g0_method == 'bias': # g0 is skewed toward a class by factor of 3\n",
    "  bias = torch.randint(0, labels.max() + 1, [1]).item()\n",
    "  print(f'G0 class bias: {bias}')\n",
    "  g0_probs = torch.ones(graph.num_nodes())\n",
    "  g0_probs[labels == bias] = 3\n",
    "  g0_probs = g0_probs * (g0_size / g0_probs.sum())\n",
    "  g0_probs.clamp_(0, 1)\n",
    "  g0 = torch.bernoulli(g0_probs).bool()\n",
    "\n",
    "print(f'G0 size: {g0.sum().item()}')\n",
    "print(f'G0 pct: {g0.sum().item() / graph.num_nodes():.2%}')\n",
    "\n",
    "g0 = g0.cpu()\n",
    "gX = ~g0"
   ]
  },
  {
   "cell_type": "markdown",
   "metadata": {},
   "source": [
    "# Do Attack"
   ]
  },
  {
   "cell_type": "code",
   "execution_count": 28,
   "metadata": {},
   "outputs": [
    {
     "name": "stdout",
     "output_type": "stream",
     "text": [
      "Attacking with method: edge_reconstruction\n",
      "Edges modified: 10484\n"
     ]
    }
   ],
   "source": [
    "# Perform attack ==========================\n",
    "\n",
    "import utils\n",
    "import models\n",
    "import torch.nn.functional as F\n",
    "from tqdm import tqdm\n",
    "\n",
    "num_perturbations = (graph.num_edges()) * args.budget_pct\n",
    "\n",
    "print(f'Attacking with method: {args.attack_method}')\n",
    "\n",
    "if args.attack_method == 'heuristic':\n",
    "  locked_adj = adj.clone()\n",
    "  locked_adj[:, g0] = 0\n",
    "  locked_adj[g0, :] = 0\n",
    "elif args.attack_method == 'noise':\n",
    "  noise = torch.zeros_like(adj)\n",
    "  noise[g0, :] = 1\n",
    "  noise[:, gX] = 0\n",
    "  noise *= 2 * num_perturbations / noise.sum()\n",
    "  noise = torch.bernoulli(noise.clamp(0, 1))\n",
    "  noise = utils.make_symmetric(noise)\n",
    "  locked_adj = utils.get_modified_adj(adj, noise)\n",
    "elif args.attack_method == 'sll_no_g':\n",
    "\n",
    "  # Initialize perturbations\n",
    "  perturbations = torch.zeros_like(adj).float()\n",
    "\n",
    "  # Create surrogate model to mimic downstream\n",
    "  surrogates = []\n",
    "  for task in tasks:\n",
    "    surrogates.append(models.DenseGCN(\n",
    "      in_size=feat.shape[1],\n",
    "      out_size=int(task.max().item())+1,\n",
    "      hid_size=config['hid_size'],\n",
    "      lr=config['lr'],\n",
    "      dropout=config['dropout'],\n",
    "      weight_decay=config['weight_decay']\n",
    "  ).to(device))\n",
    "\n",
    "  t = tqdm(range(args.attack_epochs), bar_format='{l_bar}{bar:10}{r_bar}{bar:-10b}')\n",
    "  t.set_description(\"SLL (no gradient guidance)\")\n",
    "\n",
    "  for epoch in t:\n",
    "    # Re-initialize adj_grad\n",
    "    adj_grad = torch.zeros_like(adj).float()\n",
    "\n",
    "    # Get modified adj\n",
    "    modified_adj = utils.get_modified_adj(adj, perturbations).requires_grad_(True).float().to(device)\n",
    "\n",
    "    # Get grad of modified adj w.r.t attack loss\n",
    "    loss = 0\n",
    "    for i, surrogate in enumerate(surrogates):\n",
    "      pred = surrogate(feat, modified_adj)\n",
    "\n",
    "      if i == 0:\n",
    "        loss += F.cross_entropy(pred[g0], tasks[0][g0]) \\\n",
    "            - F.cross_entropy(pred[gX], tasks[0][gX])\n",
    "      else:\n",
    "        loss += - F.cross_entropy(pred, tasks[i])\n",
    "\n",
    "    adj_grad = torch.autograd.grad(loss, modified_adj)[0].cpu()\n",
    "\n",
    "    # Update perturbations\n",
    "    lr = (config['sll_no_g_lr']) / ((epoch + 1))\n",
    "    pre_projection = int(perturbations.sum())\n",
    "    perturbations = perturbations + (lr * adj_grad)\n",
    "    perturbations = utils.projection(perturbations, num_perturbations)\n",
    "\n",
    "    # Train the surrogate\n",
    "    modified_adj = utils.get_modified_adj(adj, perturbations).to(device)\n",
    "    model_loss = 0\n",
    "\n",
    "    for i, surrogate in enumerate(surrogates):\n",
    "       model_loss += surrogate.fit(feat, modified_adj, tasks[i].to(device), epochs=1, verbose=False)\n",
    "\n",
    "    t.set_postfix({\"adj_l\": loss.item(),\n",
    "                    \"adj_g\": (adj_grad.sum().item()),\n",
    "                    \"pre-p\": pre_projection,\n",
    "                    \"target\": int(num_perturbations),\n",
    "                    \"model_loss\": model_loss})\n",
    "elif args.attack_method == 'sll':\n",
    "  labels = tasks[0].to(device)\n",
    "  # Initialize perturbations\n",
    "  perturbations = torch.zeros_like(adj).float()\n",
    "\n",
    "  # Initialize sampling matrix\n",
    "  import sampling_matrix\n",
    "  samplingMatrix = sampling_matrix.SamplingMatrix(\n",
    "    g0=g0, gX=gX, adj=adj, sample_size=config['sll_sample_size'])\n",
    "  count = torch.zeros_like(adj).float()\n",
    "\n",
    "  # Create surrogate model to mimic downstream\n",
    "  surrogate = models.DenseGCN(\n",
    "      in_size=feat.shape[1],\n",
    "      out_size=labels.max().item()+1,\n",
    "      hid_size=config['hid_size'],\n",
    "      lr=config['lr'],\n",
    "      dropout=config['dropout'],\n",
    "      weight_decay=config['weight_decay']\n",
    "  ).to(device)\n",
    "\n",
    "  t = tqdm(range(args.attack_epochs), bar_format='{l_bar}{bar:10}{r_bar}{bar:-10b}')\n",
    "  t.set_description(\"SLL\")\n",
    "\n",
    "  for epoch in t:\n",
    "    # Re-initialize adj_grad\n",
    "    adj_grad = torch.zeros_like(adj).float()\n",
    "\n",
    "    # Get modified adj\n",
    "    modified_adj = utils.get_modified_adj(adj, perturbations).float().to(device)\n",
    "\n",
    "    for sample_epoch in range(config['sll_num_samples']): \n",
    "      # Get sample indices\n",
    "      idx = samplingMatrix.get_sample()\n",
    "\n",
    "      # Map sample to adj\n",
    "      sample = modified_adj[idx[0], idx[1]].clone().detach().requires_grad_(True).to(device)\n",
    "      modified_adj[idx[0], idx[1]] = sample\n",
    "\n",
    "      # Get grad\n",
    "      pred = surrogate(feat, modified_adj)\n",
    "      loss = F.cross_entropy(pred[g0], labels[g0]) \\\n",
    "          - F.cross_entropy(pred[gX], labels[gX])\n",
    "\n",
    "      grad = torch.autograd.grad(loss, sample)[0]\n",
    "\n",
    "      # Implement averaging of duplicate samples\n",
    "      adj_grad[idx[0], idx[1]] += grad.cpu()\n",
    "      count[idx[0], idx[1]] += 1\n",
    "\n",
    "    # Update the sampling matrix\n",
    "    samplingMatrix.updateByGrad(adj_grad, count)\n",
    "\n",
    "    # Average the gradient\n",
    "    adj_grad = torch.div(adj_grad, count)\n",
    "    adj_grad[adj_grad != adj_grad] = 0\n",
    "    \n",
    "    # Update perturbations\n",
    "    lr = (config['sll_lr']) / ((epoch + 1))\n",
    "    pre_projection = int(perturbations.sum())\n",
    "    perturbations = perturbations + (lr * adj_grad)\n",
    "    perturbations = utils.projection(perturbations, num_perturbations)\n",
    "\n",
    "    # Train the model\n",
    "    modified_adj = utils.get_modified_adj(adj, perturbations).to(device)\n",
    "    model_loss = surrogate.fit(feat, modified_adj, labels, epochs=1, verbose=False)\n",
    "\n",
    "    t.set_postfix({\"attack_loss\": loss.item(),\n",
    "                    # \"adj_g\": (adj_grad.sum().item()),\n",
    "                    \"pre-projection\": pre_projection,\n",
    "                    \"target\": int(num_perturbations),\n",
    "                    \"surrogate_loss\": model_loss})\n",
    "elif args.attack_method == 'edge_reconstruction':\n",
    "  task0same = tasks[0].repeat(tasks[0].shape[0], 1)\n",
    "  task0same = (task0same == task0same.t()).long()\n",
    "  task0same[g0, :][:, g0] = 1 - task0same[g0, :][:, g0]\n",
    "  task0same.fill_diagonal_(0)\n",
    "\n",
    "  task1same = tasks[1].repeat(tasks[0].shape[0], 1)\n",
    "  task1same = (task1same == task1same.t()).long()\n",
    "  task1same.fill_diagonal_(0)\n",
    "\n",
    "  possibleEdges = task0same * task1same\n",
    "  possibleEdges[:, g0][gX, :] = 0\n",
    "  possibleEdges[:, gX][g0, :] = 0\n",
    "  possibleEdges = possibleEdges * (graph.num_edges() / possibleEdges.sum())\n",
    "  locked_adj = torch.bernoulli(possibleEdges).cpu()\n",
    "\n",
    "\n",
    "\n",
    "# Discretize the best locked_adj ============\n",
    "if args.attack_method in ['sll', 'sll_no_g']:\n",
    "  locked_adj = None\n",
    "  with torch.no_grad():\n",
    "    max_loss = -1000\n",
    "    for k in range(0,3):\n",
    "        sample = torch.bernoulli(perturbations)\n",
    "        modified_adj = utils.get_modified_adj(adj, sample)\n",
    "        modified_adj = utils.make_symmetric(modified_adj) \n",
    "\n",
    "        loss = 0\n",
    "        for i, surrogate in enumerate(surrogates):\n",
    "          pred = surrogate(feat, modified_adj.to(device))\n",
    "\n",
    "          if i == 0:\n",
    "            loss += F.cross_entropy(pred[g0], tasks[0][g0]) \\\n",
    "                - F.cross_entropy(pred[gX], tasks[0][gX])\n",
    "          else:\n",
    "            loss += - F.cross_entropy(pred, tasks[i])\n",
    "\n",
    "        if loss > max_loss:\n",
    "            max_loss = loss\n",
    "            locked_adj = modified_adj\n",
    "    \n",
    "    print(f\"Best sample loss: {max_loss:.2f}\")\n",
    "\n",
    "diff = adj - locked_adj\n",
    "print(f'Edges modified: {diff.abs().sum() / 2:.0f}')"
   ]
  },
  {
   "cell_type": "markdown",
   "metadata": {},
   "source": [
    "# Eval"
   ]
  },
  {
   "cell_type": "code",
   "execution_count": 29,
   "metadata": {},
   "outputs": [],
   "source": [
    "# model = models.DenseGCN(\n",
    "#     in_size=feat.shape[1],\n",
    "#     out_size=int(tasks[1].max().item())+1,\n",
    "#     hid_size=config['hid_size'],\n",
    "#     lr=config['lr'],\n",
    "#     dropout=config['dropout'],\n",
    "#     weight_decay=config['weight_decay']\n",
    "# ).to(device)\n",
    "\n",
    "# model.fit(feat, adj, tasks[1], 200, mask=graph.ndata['train_mask'])\n",
    "\n",
    "\n",
    "# f1_g0 = metrics.f1_score(tasks[1][g0_test].cpu(), pred.argmax(dim=1)[g0_test], average='micro')\n",
    "# f1_gX = metrics.f1_score(tasks[1][gX_test].cpu(), pred.argmax(dim=1)[gX_test], average='micro')\n",
    "\n",
    "# f1_g0, f1_gX"
   ]
  },
  {
   "cell_type": "code",
   "execution_count": 30,
   "metadata": {},
   "outputs": [],
   "source": [
    "# pred = model(feat, adj).cpu().argmax(dim=1)\n",
    "# acc = pred[graph.ndata['test_mask']] == tasks[1][graph.ndata['test_mask']].cpu()\n",
    "# acc.sum() / acc.shape[0]"
   ]
  },
  {
   "cell_type": "code",
   "execution_count": 31,
   "metadata": {},
   "outputs": [
    {
     "name": "stderr",
     "output_type": "stream",
     "text": [
      "GCN Training: 100%|██████████| 100/100 [00:01<00:00, 67.24it/s, loss=0.21]\n"
     ]
    },
    {
     "name": "stdout",
     "output_type": "stream",
     "text": [
      "f1_g0_base: 0.7473684210526316, f1_gX_base: 0.6839779005524862 \n"
     ]
    },
    {
     "name": "stderr",
     "output_type": "stream",
     "text": [
      "GCN Training: 100%|██████████| 100/100 [00:01<00:00, 67.54it/s, loss=0.46]\n"
     ]
    },
    {
     "name": "stdout",
     "output_type": "stream",
     "text": [
      "f1_g0_lock: 0.8210526315789475, f1_gX_lock: 0.7966850828729282 \n"
     ]
    },
    {
     "data": {
      "text/plain": [
       "{'f1_g0_base_0': 0.7473684210526316,\n",
       " 'f1_gX_base_0': 0.6839779005524862,\n",
       " 'f1_g0_lock_0': 0.8210526315789475,\n",
       " 'f1_gX_lock_0': 0.7966850828729282,\n",
       " 'd_g0_0': 0.09859154929577481,\n",
       " 'd_gX_0': 0.16478190630048462,\n",
       " 'num_classes_0': 7}"
      ]
     },
     "execution_count": 31,
     "metadata": {},
     "output_type": "execute_result"
    }
   ],
   "source": [
    "# Evaluation ==============================\n",
    "import sklearn.metrics as metrics\n",
    "gX_train = torch.logical_and(gX, graph.ndata['train_mask'])\n",
    "gX_test = torch.logical_and(gX, graph.ndata['test_mask'])\n",
    "g0_test = torch.logical_and(g0, graph.ndata['test_mask'])\n",
    "\n",
    "\n",
    "def eval_adj(test_adj: torch.tensor, task):\n",
    "    model = models.DenseGCN(\n",
    "        in_size=feat.shape[1],\n",
    "        out_size=int(task.max().item())+1,\n",
    "        hid_size=config['hid_size'],\n",
    "        lr=config['lr'],\n",
    "        dropout=config['dropout'],\n",
    "        weight_decay=config['weight_decay']\n",
    "    ).to(device)\n",
    "\n",
    "    model.fit(feat, test_adj, task, epochs=100, mask=gX_train)\n",
    "    pred = model(feat, test_adj).cpu()\n",
    "\n",
    "    f1_g0 = metrics.f1_score(task[g0_test].cpu(), pred.argmax(dim=1)[g0_test], average='micro')\n",
    "    f1_gX = metrics.f1_score(task[gX_test].cpu(), pred.argmax(dim=1)[gX_test], average='micro')\n",
    "    \n",
    "    return f1_g0, f1_gX\n",
    "\n",
    "accs = {}\n",
    "for i, task in enumerate([tasks[0]]):\n",
    "    f1_g0_base, f1_gX_base = eval_adj(adj, task)\n",
    "    print(f'f1_g0_base: {f1_g0_base}, f1_gX_base: {f1_gX_base} ')\n",
    "    f1_g0_lock, f1_gX_lock = eval_adj(locked_adj, task)\n",
    "    print(f'f1_g0_lock: {f1_g0_lock}, f1_gX_lock: {f1_gX_lock} ')\n",
    "    d_g0 = (f1_g0_lock - f1_g0_base) / f1_g0_base\n",
    "    d_gX = (f1_gX_lock - f1_gX_base) / f1_gX_base\n",
    "\n",
    "    accs[f'f1_g0_base_{i}'] = f1_g0_base\n",
    "    accs[f'f1_gX_base_{i}'] = f1_gX_base\n",
    "    accs[f'f1_g0_lock_{i}'] = f1_g0_lock\n",
    "    accs[f'f1_gX_lock_{i}'] = f1_gX_lock\n",
    "    accs[f'd_g0_{i}'] = d_g0\n",
    "    accs[f'd_gX_{i}'] = d_gX\n",
    "    accs[f'num_classes_{i}'] = int(task.max().item())+1\n",
    "\n",
    "accs\n"
   ]
  },
  {
   "cell_type": "code",
   "execution_count": 32,
   "metadata": {},
   "outputs": [
    {
     "name": "stdout",
     "output_type": "stream",
     "text": [
      "H Overall: 81.0%\n",
      "ACC      f1_g0\tf1_gX\tH_g0\tH_gX\tH_g0gX\n",
      "base   | 74.7%\t68.4%\t84.6%\t81.7%\t81.0%\n",
      "lock   | 82.1%\t79.7%\t100.0%\t100.0%\t100.0%\n",
      "delta  | 9.9%\t16.5%\t18.2%\t22.4%\t23.5%\n",
      "Changes\n",
      "g0: 236.0\n",
      "gX: 16750.0\n",
      "g0gX: 3983.0\n"
     ]
    }
   ],
   "source": [
    "import importlib\n",
    "importlib.reload(utils)\n",
    "\n",
    "H_overall = utils.calc_homophily(adj, labels)\n",
    "\n",
    "H_g0_base = utils.calc_homophily(adj, labels, g0)\n",
    "H_gX_base = utils.calc_homophily(adj, labels, gX)\n",
    "H_g0gX_base = utils.inner_homophily(adj, labels, g0, gX)\n",
    "\n",
    "H_g0_lock = utils.calc_homophily(locked_adj, labels, g0)\n",
    "H_gX_lock = utils.calc_homophily(locked_adj, labels, gX)\n",
    "H_g0gX_lock = utils.inner_homophily(locked_adj, labels, g0, gX)\n",
    "\n",
    "d_H_g0 = (H_g0_lock - H_g0_base) / H_g0_base\n",
    "d_H_gX = (H_gX_lock - H_gX_base) / H_gX_base\n",
    "d_H_g0gX = (H_g0gX_lock - H_g0gX_base) / H_g0gX_base\n",
    "\n",
    "changes_g0 = diff[g0, :][:, g0].abs().sum().item()\n",
    "changes_gX = diff[gX, :][:, gX].abs().sum().item()\n",
    "changes_g0gX = diff.abs().sum().item() - (changes_g0 + changes_gX)\n",
    "\n",
    "print(f'H Overall: {H_overall:.1%}')\n",
    "print(f'ACC      f1_g0\\tf1_gX\\tH_g0\\tH_gX\\tH_g0gX')\n",
    "print(f'base   | {f1_g0_base:.1%}\\t{f1_gX_base:.1%}\\t{H_g0_base:.1%}\\t{H_gX_base:.1%}\\t{H_g0gX_base:.1%}')\n",
    "print(f'lock   | {f1_g0_lock:.1%}\\t{f1_gX_lock:.1%}\\t{H_g0_lock:.1%}\\t{H_gX_lock:.1%}\\t{H_g0gX_lock:.1%}')\n",
    "print(f'delta  | {d_g0:.1%}\\t{d_gX:.1%}\\t{d_H_g0:.1%}\\t{d_H_gX:.1%}\\t{d_H_g0gX:.1%}')\n",
    "\n",
    "print(f'Changes')\n",
    "print(f'g0: {changes_g0}')\n",
    "print(f'gX: {changes_gX}')\n",
    "print(f'g0gX: {changes_g0gX}')"
   ]
  },
  {
   "cell_type": "code",
   "execution_count": 33,
   "metadata": {},
   "outputs": [
    {
     "name": "stdout",
     "output_type": "stream",
     "text": [
      "Error: Column mismatch (f1_g0_base_1,f1_gX_base_1,f1_g0_lock_1,f1_gX_lock_1,d_g0_1,d_gX_1,num_classes_1 in csv but not in data to append)\n"
     ]
    },
    {
     "data": {
      "text/plain": [
       "False"
      ]
     },
     "execution_count": 33,
     "metadata": {},
     "output_type": "execute_result"
    }
   ],
   "source": [
    "# Save the results\n",
    "import export\n",
    "import importlib\n",
    "importlib.reload(utils)\n",
    "\n",
    "results = {\n",
    "  'dataset': args.dataset,\n",
    "  'seed': args.seed,\n",
    "  'config': args.config,\n",
    "  'g0_method': args.g0_method,\n",
    "  'g0_size': args.g0_size,\n",
    "  'attack_epochs': args.attack_epochs,\n",
    "  'attack_method': args.attack_method,\n",
    "  'budget_pct': args.budget_pct,\n",
    "  'd_g0': d_g0,\n",
    "  'd_gX': d_gX,\n",
    "  'H_overall': H_overall,\n",
    "  'H_g0_base': H_g0_base,\n",
    "  'H_gX_base': H_gX_base,\n",
    "  'H_g0gX_base': H_g0gX_base,\n",
    "  'H_g0_lock': H_g0_lock,\n",
    "  'H_gX_lock': H_gX_lock,\n",
    "  'H_g0gX_lock': H_g0gX_lock,\n",
    "  'd_H_g0': d_H_g0,\n",
    "  'd_H_gX': d_H_gX,\n",
    "  'd_H_g0gX': d_H_g0gX,\n",
    "  'changes_g0': changes_g0,\n",
    "  'changes_gX': changes_gX,\n",
    "  'changes_g0gX': changes_g0gX,\n",
    "  'num_classes': int(labels.max().item()+1),\n",
    "  'edges_modified': int(diff.abs().sum() / 2),\n",
    "  'orig_edges': int(adj.sum() / 2)\n",
    "}\n",
    "results.update(accs)\n",
    "export.saveData('./multitask.csv', results)"
   ]
  },
  {
   "cell_type": "code",
   "execution_count": 34,
   "metadata": {},
   "outputs": [],
   "source": [
    "# if args.save_graph: utils.save_as_dgl(\n",
    "#   graph, adj, g0, \n",
    "#   name=f'{args.dataset} {args.g0_method} {args.attack_method} {args.budget_pct}', \n",
    "#   root='./locked/')"
   ]
  },
  {
   "cell_type": "code",
   "execution_count": 35,
   "metadata": {},
   "outputs": [],
   "source": [
    "import matplotlib.pyplot as plt\n",
    "import numpy as np\n",
    "from sklearn.manifold import TSNE"
   ]
  },
  {
   "cell_type": "code",
   "execution_count": 36,
   "metadata": {},
   "outputs": [],
   "source": [
    "tsne = TSNE(2)\n",
    "\n",
    "def get_emb(test_adj: torch.tensor, task):\n",
    "    model = models.DenseGCN(\n",
    "        in_size=feat.shape[1],\n",
    "        out_size=int(task.max().item())+1,\n",
    "        hid_size=config['hid_size'],\n",
    "        lr=config['lr'],\n",
    "        dropout=config['dropout'],\n",
    "        weight_decay=config['weight_decay']\n",
    "    ).to(device)\n",
    "\n",
    "    model.fit(feat, test_adj, task, epochs=100, mask=gX_train)\n",
    "    pred = model(feat, test_adj).cpu()\n",
    "\n",
    "    return pred\n",
    "\n"
   ]
  },
  {
   "cell_type": "code",
   "execution_count": 37,
   "metadata": {},
   "outputs": [
    {
     "name": "stderr",
     "output_type": "stream",
     "text": [
      "GCN Training: 100%|██████████| 100/100 [00:01<00:00, 65.92it/s, loss=0.19]\n",
      "/u/nyw6dh/.conda/envs/pytorch_c116/lib/python3.10/site-packages/sklearn/manifold/_t_sne.py:780: FutureWarning: The default initialization in TSNE will change from 'random' to 'pca' in 1.2.\n",
      "  warnings.warn(\n",
      "/u/nyw6dh/.conda/envs/pytorch_c116/lib/python3.10/site-packages/sklearn/manifold/_t_sne.py:790: FutureWarning: The default learning rate in TSNE will change from 200.0 to 'auto' in 1.2.\n",
      "  warnings.warn(\n",
      "GCN Training: 100%|██████████| 100/100 [00:01<00:00, 68.24it/s, loss=0.44]\n",
      "/u/nyw6dh/.conda/envs/pytorch_c116/lib/python3.10/site-packages/sklearn/manifold/_t_sne.py:780: FutureWarning: The default initialization in TSNE will change from 'random' to 'pca' in 1.2.\n",
      "  warnings.warn(\n",
      "/u/nyw6dh/.conda/envs/pytorch_c116/lib/python3.10/site-packages/sklearn/manifold/_t_sne.py:790: FutureWarning: The default learning rate in TSNE will change from 200.0 to 'auto' in 1.2.\n",
      "  warnings.warn(\n",
      "GCN Training:   0%|          | 0/100 [00:00<?, ?it/s]\n"
     ]
    },
    {
     "ename": "RuntimeError",
     "evalue": "Expected floating point type for target with class probabilities, got Long",
     "output_type": "error",
     "traceback": [
      "\u001b[0;31m---------------------------------------------------------------------------\u001b[0m",
      "\u001b[0;31mRuntimeError\u001b[0m                              Traceback (most recent call last)",
      "\u001b[1;32m/u/nyw6dh/HCDM/Experiment/multitask/multiutask.ipynb Cell 19\u001b[0m in \u001b[0;36m<cell line: 3>\u001b[0;34m()\u001b[0m\n\u001b[1;32m      <a href='vscode-notebook-cell://ssh-remote%2Bhcdmg2.cs.virginia.edu/u/nyw6dh/HCDM/Experiment/multitask/multiutask.ipynb#X24sdnNjb2RlLXJlbW90ZQ%3D%3D?line=0'>1</a>\u001b[0m fig, axs \u001b[39m=\u001b[39m plt\u001b[39m.\u001b[39msubplots(\u001b[39m2\u001b[39m, \u001b[39m2\u001b[39m, figsize\u001b[39m=\u001b[39m(\u001b[39m10\u001b[39m,\u001b[39m10\u001b[39m))\n\u001b[1;32m      <a href='vscode-notebook-cell://ssh-remote%2Bhcdmg2.cs.virginia.edu/u/nyw6dh/HCDM/Experiment/multitask/multiutask.ipynb#X24sdnNjb2RlLXJlbW90ZQ%3D%3D?line=2'>3</a>\u001b[0m \u001b[39mfor\u001b[39;00m i, task \u001b[39min\u001b[39;00m \u001b[39menumerate\u001b[39m(tasks):\n\u001b[1;32m      <a href='vscode-notebook-cell://ssh-remote%2Bhcdmg2.cs.virginia.edu/u/nyw6dh/HCDM/Experiment/multitask/multiutask.ipynb#X24sdnNjb2RlLXJlbW90ZQ%3D%3D?line=3'>4</a>\u001b[0m   \u001b[39m# Base\u001b[39;00m\n\u001b[0;32m----> <a href='vscode-notebook-cell://ssh-remote%2Bhcdmg2.cs.virginia.edu/u/nyw6dh/HCDM/Experiment/multitask/multiutask.ipynb#X24sdnNjb2RlLXJlbW90ZQ%3D%3D?line=4'>5</a>\u001b[0m   base_pred \u001b[39m=\u001b[39m get_emb(adj, task)\n\u001b[1;32m      <a href='vscode-notebook-cell://ssh-remote%2Bhcdmg2.cs.virginia.edu/u/nyw6dh/HCDM/Experiment/multitask/multiutask.ipynb#X24sdnNjb2RlLXJlbW90ZQ%3D%3D?line=5'>6</a>\u001b[0m   tsne_proj \u001b[39m=\u001b[39m tsne\u001b[39m.\u001b[39mfit_transform(base_pred\u001b[39m.\u001b[39mdetach())\n\u001b[1;32m      <a href='vscode-notebook-cell://ssh-remote%2Bhcdmg2.cs.virginia.edu/u/nyw6dh/HCDM/Experiment/multitask/multiutask.ipynb#X24sdnNjb2RlLXJlbW90ZQ%3D%3D?line=6'>7</a>\u001b[0m   X \u001b[39m=\u001b[39m tsne_proj[gX,\u001b[39m0\u001b[39m]\n",
      "\u001b[1;32m/u/nyw6dh/HCDM/Experiment/multitask/multiutask.ipynb Cell 19\u001b[0m in \u001b[0;36mget_emb\u001b[0;34m(test_adj, task)\u001b[0m\n\u001b[1;32m      <a href='vscode-notebook-cell://ssh-remote%2Bhcdmg2.cs.virginia.edu/u/nyw6dh/HCDM/Experiment/multitask/multiutask.ipynb#X24sdnNjb2RlLXJlbW90ZQ%3D%3D?line=2'>3</a>\u001b[0m \u001b[39mdef\u001b[39;00m \u001b[39mget_emb\u001b[39m(test_adj: torch\u001b[39m.\u001b[39mtensor, task):\n\u001b[1;32m      <a href='vscode-notebook-cell://ssh-remote%2Bhcdmg2.cs.virginia.edu/u/nyw6dh/HCDM/Experiment/multitask/multiutask.ipynb#X24sdnNjb2RlLXJlbW90ZQ%3D%3D?line=3'>4</a>\u001b[0m     model \u001b[39m=\u001b[39m models\u001b[39m.\u001b[39mDenseGCN(\n\u001b[1;32m      <a href='vscode-notebook-cell://ssh-remote%2Bhcdmg2.cs.virginia.edu/u/nyw6dh/HCDM/Experiment/multitask/multiutask.ipynb#X24sdnNjb2RlLXJlbW90ZQ%3D%3D?line=4'>5</a>\u001b[0m         in_size\u001b[39m=\u001b[39mfeat\u001b[39m.\u001b[39mshape[\u001b[39m1\u001b[39m],\n\u001b[1;32m      <a href='vscode-notebook-cell://ssh-remote%2Bhcdmg2.cs.virginia.edu/u/nyw6dh/HCDM/Experiment/multitask/multiutask.ipynb#X24sdnNjb2RlLXJlbW90ZQ%3D%3D?line=5'>6</a>\u001b[0m         out_size\u001b[39m=\u001b[39m\u001b[39mint\u001b[39m(task\u001b[39m.\u001b[39mmax()\u001b[39m.\u001b[39mitem())\u001b[39m+\u001b[39m\u001b[39m1\u001b[39m,\n\u001b[0;32m   (...)\u001b[0m\n\u001b[1;32m     <a href='vscode-notebook-cell://ssh-remote%2Bhcdmg2.cs.virginia.edu/u/nyw6dh/HCDM/Experiment/multitask/multiutask.ipynb#X24sdnNjb2RlLXJlbW90ZQ%3D%3D?line=9'>10</a>\u001b[0m         weight_decay\u001b[39m=\u001b[39mconfig[\u001b[39m'\u001b[39m\u001b[39mweight_decay\u001b[39m\u001b[39m'\u001b[39m]\n\u001b[1;32m     <a href='vscode-notebook-cell://ssh-remote%2Bhcdmg2.cs.virginia.edu/u/nyw6dh/HCDM/Experiment/multitask/multiutask.ipynb#X24sdnNjb2RlLXJlbW90ZQ%3D%3D?line=10'>11</a>\u001b[0m     )\u001b[39m.\u001b[39mto(device)\n\u001b[0;32m---> <a href='vscode-notebook-cell://ssh-remote%2Bhcdmg2.cs.virginia.edu/u/nyw6dh/HCDM/Experiment/multitask/multiutask.ipynb#X24sdnNjb2RlLXJlbW90ZQ%3D%3D?line=12'>13</a>\u001b[0m     model\u001b[39m.\u001b[39;49mfit(feat, test_adj, task, epochs\u001b[39m=\u001b[39;49m\u001b[39m100\u001b[39;49m, mask\u001b[39m=\u001b[39;49mgX_train)\n\u001b[1;32m     <a href='vscode-notebook-cell://ssh-remote%2Bhcdmg2.cs.virginia.edu/u/nyw6dh/HCDM/Experiment/multitask/multiutask.ipynb#X24sdnNjb2RlLXJlbW90ZQ%3D%3D?line=13'>14</a>\u001b[0m     pred \u001b[39m=\u001b[39m model(feat, test_adj)\u001b[39m.\u001b[39mcpu()\n\u001b[1;32m     <a href='vscode-notebook-cell://ssh-remote%2Bhcdmg2.cs.virginia.edu/u/nyw6dh/HCDM/Experiment/multitask/multiutask.ipynb#X24sdnNjb2RlLXJlbW90ZQ%3D%3D?line=15'>16</a>\u001b[0m     \u001b[39mreturn\u001b[39;00m pred\n",
      "File \u001b[0;32m~/HCDM/Experiment/multitask/models.py:37\u001b[0m, in \u001b[0;36mDenseGCN.fit\u001b[0;34m(self, feat, adj, labels, epochs, mask, verbose)\u001b[0m\n\u001b[1;32m     35\u001b[0m predictions \u001b[39m=\u001b[39m \u001b[39mself\u001b[39m(feat, adj)\n\u001b[1;32m     36\u001b[0m \u001b[39mif\u001b[39;00m mask \u001b[39m!=\u001b[39m \u001b[39mNone\u001b[39;00m:\n\u001b[0;32m---> 37\u001b[0m     loss \u001b[39m=\u001b[39m F\u001b[39m.\u001b[39;49mcross_entropy(predictions[mask], labels[mask])\n\u001b[1;32m     38\u001b[0m \u001b[39melse\u001b[39;00m:\n\u001b[1;32m     39\u001b[0m     loss \u001b[39m=\u001b[39m F\u001b[39m.\u001b[39mcross_entropy(predictions, labels)\n",
      "File \u001b[0;32m~/.conda/envs/pytorch_c116/lib/python3.10/site-packages/torch/nn/functional.py:3014\u001b[0m, in \u001b[0;36mcross_entropy\u001b[0;34m(input, target, weight, size_average, ignore_index, reduce, reduction, label_smoothing)\u001b[0m\n\u001b[1;32m   3012\u001b[0m \u001b[39mif\u001b[39;00m size_average \u001b[39mis\u001b[39;00m \u001b[39mnot\u001b[39;00m \u001b[39mNone\u001b[39;00m \u001b[39mor\u001b[39;00m reduce \u001b[39mis\u001b[39;00m \u001b[39mnot\u001b[39;00m \u001b[39mNone\u001b[39;00m:\n\u001b[1;32m   3013\u001b[0m     reduction \u001b[39m=\u001b[39m _Reduction\u001b[39m.\u001b[39mlegacy_get_string(size_average, reduce)\n\u001b[0;32m-> 3014\u001b[0m \u001b[39mreturn\u001b[39;00m torch\u001b[39m.\u001b[39;49m_C\u001b[39m.\u001b[39;49m_nn\u001b[39m.\u001b[39;49mcross_entropy_loss(\u001b[39minput\u001b[39;49m, target, weight, _Reduction\u001b[39m.\u001b[39;49mget_enum(reduction), ignore_index, label_smoothing)\n",
      "\u001b[0;31mRuntimeError\u001b[0m: Expected floating point type for target with class probabilities, got Long"
     ]
    },
    {
     "data": {
      "image/png": "[encoded data removed]",
      "text/plain": [
       "<Figure size 720x720 with 4 Axes>"
      ]
     },
     "metadata": {
      "needs_background": "light"
     },
     "output_type": "display_data"
    }
   ],
   "source": [
    "fig, axs = plt.subplots(2, 2, figsize=(10,10))\n",
    "\n",
    "for i, task in enumerate(tasks):\n",
    "  # Base\n",
    "  base_pred = get_emb(adj, task)\n",
    "  tsne_proj = tsne.fit_transform(base_pred.detach())\n",
    "  X = tsne_proj[gX,0]\n",
    "  Y = tsne_proj[gX,1]\n",
    "  axs[0][i].scatter(X, Y, label = 'gX' ,alpha=1)\n",
    "  X = tsne_proj[g0,0]\n",
    "  Y = tsne_proj[g0,1]\n",
    "  axs[0][i].scatter(X, Y, label = 'g0' ,alpha=1)\n",
    "  k_0 = f'f1_g0_base_{i}'\n",
    "  k_X = f'f1_gX_base_{i}'\n",
    "  axs[0][i].title.set_text(f'G0: {accs[k_0]:.2%} | GX: {accs[k_X]:.2%}')\n",
    "  # axs.legend(fontsize='large', markerscale=2)\n",
    "\n",
    "  lock_pred = get_emb(locked_adj, task)\n",
    "  tsne_proj = tsne.fit_transform(lock_pred.detach())\n",
    "  X = tsne_proj[gX,0]\n",
    "  Y = tsne_proj[gX,1]\n",
    "  axs[1][i].scatter(X, Y, label = 'gX' ,alpha=1)\n",
    "  X = tsne_proj[g0,0]\n",
    "  Y = tsne_proj[g0,1]\n",
    "  axs[1][i].scatter(X, Y, label = 'g0' ,alpha=1)\n",
    "  k_0 = f'f1_g0_lock_{i}'\n",
    "  k_X = f'f1_gX_lock_{i}'\n",
    "  axs[1][i].title.set_text(f'G0: {accs[k_0]:.2%} | GX: {accs[k_X]:.2%}')\n",
    "\n",
    "# plt.title(f\"{args.dataset} using {args.attack_method} with G0 selection of {args.g0_method}\")\n",
    "plt.show()"
   ]
  },
  {
   "cell_type": "code",
   "execution_count": null,
   "metadata": {},
   "outputs": [
    {
     "name": "stdout",
     "output_type": "stream",
     "text": [
      "cora using edge_reconstruction with G0 selection of random\n"
     ]
    },
    {
     "data": {
      "text/plain": [
       "array([[0.02380952, 0.00858896],\n",
       "       [0.13636364, 0.0633694 ]])"
      ]
     },
     "execution_count": 683,
     "metadata": {},
     "output_type": "execute_result"
    }
   ],
   "source": [
    "print(f\"{args.dataset} using {args.attack_method} with G0 selection of {args.g0_method}\")\n",
    "a = np.array([[accs['d_g0_0'], accs['d_gX_0']], [accs['d_g0_1'], accs['d_gX_1']]])\n",
    "a"
   ]
  },
  {
   "cell_type": "code",
   "execution_count": 38,
   "metadata": {},
   "outputs": [
    {
     "ename": "NameError",
     "evalue": "name 'a' is not defined",
     "output_type": "error",
     "traceback": [
      "\u001b[0;31m---------------------------------------------------------------------------\u001b[0m",
      "\u001b[0;31mNameError\u001b[0m                                 Traceback (most recent call last)",
      "\u001b[1;32m/u/nyw6dh/HCDM/Experiment/multitask/multiutask.ipynb Cell 21\u001b[0m in \u001b[0;36m<cell line: 2>\u001b[0;34m()\u001b[0m\n\u001b[1;32m      <a href='vscode-notebook-cell://ssh-remote%2Bhcdmg2.cs.virginia.edu/u/nyw6dh/HCDM/Experiment/multitask/multiutask.ipynb#X26sdnNjb2RlLXJlbW90ZQ%3D%3D?line=0'>1</a>\u001b[0m fig, ax \u001b[39m=\u001b[39m plt\u001b[39m.\u001b[39msubplots()\n\u001b[0;32m----> <a href='vscode-notebook-cell://ssh-remote%2Bhcdmg2.cs.virginia.edu/u/nyw6dh/HCDM/Experiment/multitask/multiutask.ipynb#X26sdnNjb2RlLXJlbW90ZQ%3D%3D?line=1'>2</a>\u001b[0m ax\u001b[39m.\u001b[39mmatshow(a, vmin\u001b[39m=\u001b[39m\u001b[39m-\u001b[39m\u001b[39m1\u001b[39m, vmax\u001b[39m=\u001b[39m\u001b[39m1\u001b[39m, cmap\u001b[39m=\u001b[39m\u001b[39m'\u001b[39m\u001b[39mbwr\u001b[39m\u001b[39m'\u001b[39m)\n\u001b[1;32m      <a href='vscode-notebook-cell://ssh-remote%2Bhcdmg2.cs.virginia.edu/u/nyw6dh/HCDM/Experiment/multitask/multiutask.ipynb#X26sdnNjb2RlLXJlbW90ZQ%3D%3D?line=2'>3</a>\u001b[0m ax\u001b[39m.\u001b[39mset_xticklabels([\u001b[39m'\u001b[39m\u001b[39m'\u001b[39m] \u001b[39m+\u001b[39m [\u001b[39m'\u001b[39m\u001b[39mDelta G0\u001b[39m\u001b[39m'\u001b[39m, \u001b[39m'\u001b[39m\u001b[39mDelta GX\u001b[39m\u001b[39m'\u001b[39m])\n\u001b[1;32m      <a href='vscode-notebook-cell://ssh-remote%2Bhcdmg2.cs.virginia.edu/u/nyw6dh/HCDM/Experiment/multitask/multiutask.ipynb#X26sdnNjb2RlLXJlbW90ZQ%3D%3D?line=3'>4</a>\u001b[0m ax\u001b[39m.\u001b[39mset_yticklabels([\u001b[39m'\u001b[39m\u001b[39m'\u001b[39m] \u001b[39m+\u001b[39m [\u001b[39m'\u001b[39m\u001b[39mTASK 0\u001b[39m\u001b[39m'\u001b[39m, \u001b[39m'\u001b[39m\u001b[39mTASK 1\u001b[39m\u001b[39m'\u001b[39m])\n",
      "\u001b[0;31mNameError\u001b[0m: name 'a' is not defined"
     ]
    },
    {
     "data": {
      "image/png": "[encoded data removed]",
      "text/plain": [
       "<Figure size 432x288 with 1 Axes>"
      ]
     },
     "metadata": {
      "needs_background": "light"
     },
     "output_type": "display_data"
    }
   ],
   "source": [
    "fig, ax = plt.subplots()\n",
    "ax.matshow(a, vmin=-1, vmax=1, cmap='bwr')\n",
    "ax.set_xticklabels([''] + ['Delta G0', 'Delta GX'])\n",
    "ax.set_yticklabels([''] + ['TASK 0', 'TASK 1'])\n",
    "# Loop over data dimensions and create text annotations.\n",
    "for i in range(a.shape[0]):\n",
    "    for j in range(a.shape[1]):\n",
    "        text = ax.text(j, i, f'{a[i, j]:.2%}',\n",
    "                       ha=\"center\", va=\"center\", color=\"black\")"
   ]
  },
  {
   "cell_type": "code",
   "execution_count": null,
   "metadata": {},
   "outputs": [],
   "source": [
    "# Locked\n",
    "# tsne_proj = tsne.fit_transform(lock_pred.detach())\n",
    "# fig, ax = plt.subplots(figsize=(8,8))\n",
    "# X = tsne_proj[gX,0]\n",
    "# Y = tsne_proj[gX,1]\n",
    "# ax.scatter(X, Y, label = 'gX' ,alpha=1)\n",
    "# X = tsne_proj[g0,0]\n",
    "# Y = tsne_proj[g0,1]\n",
    "# ax.scatter(X, Y, label = 'g0' ,alpha=1)\n",
    "# ax.legend(fontsize='large', markerscale=2)\n",
    "# plt.show()"
   ]
  },
  {
   "cell_type": "code",
   "execution_count": null,
   "metadata": {},
   "outputs": [],
   "source": [
    "# print(f\"Number of protected nodes: {g0.sum():.0f}\")\n",
    "# print(f\"Protected Size: {g0.sum() / graph.num_nodes():.2%}\")\n",
    "# import matplotlib.pyplot as plt\n",
    "# import numpy as np\n",
    "# data = labels[g0].cpu().numpy()\n",
    "# plt.hist(data, bins=np.arange(0, data.max() + 1.5) - 0.5)"
   ]
  }
 ],
 "metadata": {
  "kernelspec": {
   "display_name": "Python 3.10.4 ('pytorch_c116')",
   "language": "python",
   "name": "python3"
  },
  "language_info": {
   "codemirror_mode": {
    "name": "ipython",
    "version": 3
   },
   "file_extension": ".py",
   "mimetype": "text/x-python",
   "name": "python",
   "nbconvert_exporter": "python",
   "pygments_lexer": "ipython3",
   "version": "3.10.4"
  },
  "orig_nbformat": 4,
  "vscode": {
   "interpreter": {
    "hash": "ace00f8df87249d7fb913fbec74912fd8ad566274bc64c0a2570c224c3461cb4"
   }
  }
 },
 "nbformat": 4,
 "nbformat_minor": 2
}
