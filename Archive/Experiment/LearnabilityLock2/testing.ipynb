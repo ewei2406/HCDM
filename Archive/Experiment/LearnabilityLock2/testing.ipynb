{
 "cells": [
  {
   "cell_type": "code",
   "execution_count": 2,
   "metadata": {},
   "outputs": [
    {
     "name": "stdout",
     "output_type": "stream",
     "text": [
      "  NumNodes: 2708\n",
      "  NumEdges: 10556\n",
      "  NumFeats: 1433\n",
      "  NumClasses: 7\n",
      "  NumTrainingSamples: 140\n",
      "  NumValidationSamples: 500\n",
      "  NumTestSamples: 1000\n",
      "Done loading data from cached files.\n"
     ]
    }
   ],
   "source": [
    "import dataloader\n",
    "import torch\n",
    "import dgl\n",
    "import numpy as np\n",
    "\n",
    "# Load graph ===================================\n",
    "graph = dataloader.load_DGL('cora')\n",
    "feat = graph.ndata['feat']\n",
    "labels = graph.ndata['label']\n",
    "adj = graph.adj().to_dense()"
   ]
  },
  {
   "cell_type": "code",
   "execution_count": 37,
   "metadata": {},
   "outputs": [
    {
     "data": {
      "text/plain": [
       "Graph(num_nodes=2708, num_edges=10556,\n",
       "      ndata_schemes={'g0': Scheme(shape=(), dtype=torch.uint8)}\n",
       "      edata_schemes={})"
      ]
     },
     "execution_count": 37,
     "metadata": {},
     "output_type": "execute_result"
    }
   ],
   "source": [
    "def save_as_dgl(graph, adj, g0, name, root='./locked/'):\n",
    "  edges = adj.to_sparse().indices()\n",
    "  d = dgl.graph((edges[0], edges[1]), num_nodes=graph.num_nodes())\n",
    "  d.ndata['g0'] = g0\n",
    "  dgl.data.utils.save_graphs(f'{root}{name}.bin', [d], {\"glabel\": torch.tensor([0])})\n",
    "\n",
    "def load_dgl(name, root='./locked/') -> dgl.DGLGraph:\n",
    "  d = dgl.load_graphs(f'{root}{name}.bin')[0][0]\n",
    "  return d\n",
    "\n",
    "save_as_dgl(graph, adj, g0, 'test')\n",
    "load_dgl('test')"
   ]
  },
  {
   "cell_type": "code",
   "execution_count": 14,
   "metadata": {},
   "outputs": [],
   "source": [
    "g0_probs = torch.ones(graph.num_nodes())\n",
    "g0_probs = g0_probs * (270 / g0_probs.sum())\n",
    "g0_probs.clamp_(0, 1)\n",
    "g0 = torch.bernoulli(g0_probs).bool()"
   ]
  },
  {
   "cell_type": "code",
   "execution_count": 20,
   "metadata": {},
   "outputs": [
    {
     "data": {
      "text/plain": [
       "(torch.Size([243]), torch.Size([243, 243]))"
      ]
     },
     "execution_count": 20,
     "metadata": {},
     "output_type": "execute_result"
    }
   ],
   "source": [
    "labels[g0].shape, adj[g0, :][:, g0].shape"
   ]
  },
  {
   "cell_type": "code",
   "execution_count": 24,
   "metadata": {},
   "outputs": [
    {
     "data": {
      "text/plain": [
       "0.8099658961727927"
      ]
     },
     "execution_count": 24,
     "metadata": {},
     "output_type": "execute_result"
    }
   ],
   "source": [
    "def calc_homophily(adj: torch.tensor, labels: torch.tensor, mask: torch.tensor=None) -> float:\n",
    "  \"\"\"\n",
    "  returns H (number of similar edge / number of edges)\n",
    "  \"\"\"\n",
    "  if mask != None:\n",
    "    adj = adj[mask, :][:, mask]\n",
    "    labels = labels[mask]\n",
    "    \n",
    "  edges = adj.nonzero().t()\n",
    "  match = labels[edges[0]] == labels[edges[1]]\n",
    "\n",
    "  return match.sum().item() / match.shape[0]\n",
    "\n",
    "calc_homophily(adj, labels)"
   ]
  }
 ],
 "metadata": {
  "kernelspec": {
   "display_name": "Python 3.10.4 ('pytorch_c116')",
   "language": "python",
   "name": "python3"
  },
  "language_info": {
   "codemirror_mode": {
    "name": "ipython",
    "version": 3
   },
   "file_extension": ".py",
   "mimetype": "text/x-python",
   "name": "python",
   "nbconvert_exporter": "python",
   "pygments_lexer": "ipython3",
   "version": "3.10.4"
  },
  "orig_nbformat": 4,
  "vscode": {
   "interpreter": {
    "hash": "ace00f8df87249d7fb913fbec74912fd8ad566274bc64c0a2570c224c3461cb4"
   }
  }
 },
 "nbformat": 4,
 "nbformat_minor": 2
}
