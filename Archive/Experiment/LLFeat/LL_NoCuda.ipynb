{
 "cells": [
  {
   "cell_type": "markdown",
   "metadata": {},
   "source": [
    "# Setup"
   ]
  },
  {
   "cell_type": "code",
   "execution_count": 1,
   "metadata": {},
   "outputs": [
    {
     "data": {
      "text/plain": [
       "<module 'dataloader' from '/u/nyw6dh/HCDM/Experiment/LLFeat/dataloader.py'>"
      ]
     },
     "execution_count": 1,
     "metadata": {},
     "output_type": "execute_result"
    }
   ],
   "source": [
    "import dataloader\n",
    "import torch\n",
    "import numpy as np\n",
    "import argparse\n",
    "import importlib\n",
    "importlib.reload(dataloader)"
   ]
  },
  {
   "cell_type": "code",
   "execution_count": 2,
   "metadata": {},
   "outputs": [],
   "source": [
    "# Arguments ===================================\n",
    "parser = argparse.ArgumentParser()\n",
    "\n",
    "parser.add_argument('--gpu_id', type=int, default=2)\n",
    "parser.add_argument('--seed', type=int, default=123)\n",
    "parser.add_argument('--config', type=str, default='config.yaml')\n",
    "parser.add_argument('--dataset', type=str, default='citeseer', choices=['cora', 'citeseer', 'BlogCatalog', 'flickr', 'Polblogs'])\n",
    "parser.add_argument('--g0_method', type=str, default='many_clusters', choices=[\n",
    "  'random', # randomly distribution of g0\n",
    "  'bias', # a random class has a 3x higher likelihood of being in g0\n",
    "  'large_cluster', # a random node and [g0_size] of its neighbors are in g0\n",
    "  'many_clusters', # 10 random nodes and [g0_size] of their neighbors are in g0\n",
    "  ])\n",
    "parser.add_argument('--g0_size', type=float, default=0.1)\n",
    "parser.add_argument('--attack_method', type=str, default='sll', choices=[\n",
    "  'sll', # Selective Learnability Lock\n",
    "  'sll_no_g', # Disable gradient guidance\n",
    "  'noise', # Noise protection\n",
    "  'heuristic' # Heuristic protection\n",
    "  ])\n",
    "parser.add_argument('--budget_pct', type=float, default=0.25)\n",
    "parser.add_argument('--attack_epochs', type=int, default=30)\n",
    "parser.add_argument('--save_results', type=str, default='Y', choices=['N', 'Y'])\n",
    "parser.add_argument('--save_graph', type=str, default='N', choices=['N', 'Y'])\n",
    "\n",
    "args = parser.parse_args(\"\")\n",
    "\n",
    "if args.gpu_id >= 0:\n",
    "  device = torch.device(f'cuda:{args.gpu_id}' if torch.cuda.is_available() else 'cpu')\n",
    "else:\n",
    "  device = torch.device('cpu')\n",
    "\n",
    "np.random.seed(args.seed)\n",
    "torch.manual_seed(args.seed)\n",
    "if device != 'cpu': torch.cuda.manual_seed(args.seed)\n",
    "\n",
    "import yaml\n",
    "from yaml import SafeLoader\n",
    "config = yaml.load(open('config.yml'), Loader=SafeLoader)[args.dataset]"
   ]
  },
  {
   "cell_type": "code",
   "execution_count": 3,
   "metadata": {},
   "outputs": [
    {
     "name": "stdout",
     "output_type": "stream",
     "text": [
      "  NumNodes: 3327\n",
      "  NumEdges: 9228\n",
      "  NumFeats: 3703\n",
      "  NumClasses: 6\n",
      "  NumTrainingSamples: 120\n",
      "  NumValidationSamples: 500\n",
      "  NumTestSamples: 1000\n",
      "Done loading data from cached files.\n"
     ]
    }
   ],
   "source": [
    "# Load graph ===================================\n",
    "graph = dataloader.load_DGL(args.dataset)\n",
    "feat = graph.ndata['feat'].to(device)\n",
    "labels = graph.ndata['label'].to(device)\n",
    "adj = graph.adj().to_dense()"
   ]
  },
  {
   "cell_type": "code",
   "execution_count": 4,
   "metadata": {},
   "outputs": [
    {
     "name": "stdout",
     "output_type": "stream",
     "text": [
      "G0 size: 332\n",
      "G0 pct: 9.98%\n"
     ]
    }
   ],
   "source": [
    "# Designate g0 ===================================\n",
    "g0_size = int(args.g0_size * graph.num_nodes())\n",
    "\n",
    "def get_clusters(num_roots: int, max_hops: int, target_size: int) -> torch.tensor:\n",
    "  root_nodes = torch.rand(graph.num_nodes()).topk(num_roots).indices\n",
    "\n",
    "  for hop in range(max_hops):\n",
    "    newNodes = adj[root_nodes].nonzero().t()[1]\n",
    "    root_nodes = torch.cat((root_nodes, newNodes))\n",
    "    root_nodes = torch.unique(root_nodes)\n",
    "    if root_nodes.shape[0] >= target_size:\n",
    "      break\n",
    "\n",
    "  g0 = torch.zeros(graph.num_nodes())\n",
    "  g0[root_nodes[:target_size]] = 1\n",
    "  g0 = g0.bool()\n",
    "  return g0\n",
    "\n",
    "if args.g0_method == 'many_clusters': # 10 nodes and their neighbors\n",
    "  g0 = get_clusters(10, 10, g0_size)\n",
    "elif args.g0_method == 'large_cluster': # 1 node and its neighbors\n",
    "  g0 = get_clusters(1, 10, g0_size)\n",
    "elif args.g0_method == 'random': # g0 is random/bias\n",
    "  g0_probs = torch.ones(graph.num_nodes())\n",
    "  g0_probs = g0_probs * (g0_size / g0_probs.sum())\n",
    "  g0_probs.clamp_(0, 1)\n",
    "  g0 = torch.bernoulli(g0_probs).bool()\n",
    "elif args.g0_method == 'bias': # g0 is skewed toward a class by factor of 3\n",
    "  bias = torch.randint(0, labels.max() + 1, [1]).item()\n",
    "  print(f'G0 class bias: {bias}')\n",
    "  g0_probs = torch.ones(graph.num_nodes())\n",
    "  g0_probs[labels == bias] = 3\n",
    "  g0_probs = g0_probs * (g0_size / g0_probs.sum())\n",
    "  g0_probs.clamp_(0, 1)\n",
    "  g0 = torch.bernoulli(g0_probs).bool()\n",
    "\n",
    "print(f'G0 size: {g0.sum().item()}')\n",
    "print(f'G0 pct: {g0.sum().item() / graph.num_nodes():.2%}')\n",
    "\n",
    "g0 = g0.cpu()\n",
    "gX = ~g0"
   ]
  },
  {
   "cell_type": "markdown",
   "metadata": {},
   "source": [
    "# Do Attack"
   ]
  },
  {
   "cell_type": "code",
   "execution_count": 5,
   "metadata": {},
   "outputs": [
    {
     "ename": "NameError",
     "evalue": "name 'sampling_matrix' is not defined",
     "output_type": "error",
     "traceback": [
      "\u001b[0;31m---------------------------------------------------------------------------\u001b[0m",
      "\u001b[0;31mNameError\u001b[0m                                 Traceback (most recent call last)",
      "\u001b[1;32m/u/nyw6dh/HCDM/Experiment/LLFeat/LL_NoCuda.ipynb Cell 7\u001b[0m in \u001b[0;36m<cell line: 1>\u001b[0;34m()\u001b[0m\n\u001b[0;32m----> <a href='vscode-notebook-cell://ssh-remote%2Bhcdmg2.cs.virginia.edu/u/nyw6dh/HCDM/Experiment/LLFeat/LL_NoCuda.ipynb#W6sdnNjb2RlLXJlbW90ZQ%3D%3D?line=0'>1</a>\u001b[0m importlib\u001b[39m.\u001b[39mreload(sampling_matrix)\n",
      "\u001b[0;31mNameError\u001b[0m: name 'sampling_matrix' is not defined"
     ]
    }
   ],
   "source": [
    "importlib.reload(sampling_matrix)"
   ]
  },
  {
   "cell_type": "code",
   "execution_count": null,
   "metadata": {},
   "outputs": [
    {
     "name": "stdout",
     "output_type": "stream",
     "text": [
      "Attacking with method: sll\n"
     ]
    },
    {
     "name": "stderr",
     "output_type": "stream",
     "text": [
      "SLL: 100%|██████████| 30/30 [00:28<00:00,  1.04it/s, attack_loss=0.059, pre-projection=1153, target=1153, surrogate_loss=1.5]   \n"
     ]
    },
    {
     "name": "stdout",
     "output_type": "stream",
     "text": [
      "Best sample loss: -0.07\n",
      "Edges modified: 1271\n"
     ]
    }
   ],
   "source": [
    "# Perform attack ==========================\n",
    "\n",
    "import utils\n",
    "import models\n",
    "import torch.nn.functional as F\n",
    "from tqdm import tqdm\n",
    "\n",
    "num_perturbations = (graph.num_edges() / 2) * args.budget_pct\n",
    "\n",
    "print(f'Attacking with method: {args.attack_method}')\n",
    "\n",
    "if args.attack_method == 'heuristic':\n",
    "  locked_adj = adj.clone()\n",
    "  locked_adj[:, g0] = 0\n",
    "  locked_adj[g0, :] = 0\n",
    "elif args.attack_method == 'noise':\n",
    "  noise = torch.zeros_like(adj)\n",
    "  noise[g0, :] = 1\n",
    "  noise[:, gX] = 0\n",
    "  noise *= 2 * num_perturbations / noise.sum()\n",
    "  noise = torch.bernoulli(noise.clamp(0, 1))\n",
    "  noise = utils.make_symmetric(noise)\n",
    "  locked_adj = utils.get_modified_adj(adj, noise)\n",
    "elif args.attack_method == 'sll_no_g':\n",
    "\n",
    "  # Initialize perturbations\n",
    "  perturbations = torch.zeros_like(adj).float()\n",
    "\n",
    "  # Create surrogate model to mimic downstream\n",
    "  surrogate = models.DenseGCN(\n",
    "      in_size=feat.shape[1],\n",
    "      out_size=labels.max().item()+1,\n",
    "      hid_size=config['hid_size'],\n",
    "      lr=config['lr'],\n",
    "      dropout=config['dropout'],\n",
    "      weight_decay=config['weight_decay']\n",
    "  ).to(device)\n",
    "\n",
    "  t = tqdm(range(args.attack_epochs), bar_format='{l_bar}{bar:10}{r_bar}{bar:-10b}')\n",
    "  t.set_description(\"SLL (no gradient guidance)\")\n",
    "\n",
    "  for epoch in t:\n",
    "    # Re-initialize adj_grad\n",
    "    adj_grad = torch.zeros_like(adj).float()\n",
    "\n",
    "    # Get modified adj\n",
    "    modified_adj = utils.get_modified_adj(adj, perturbations).requires_grad_(True).float().to(device)\n",
    "\n",
    "    # Get grad of modified adj w.r.t attack loss\n",
    "    pred = surrogate(feat, modified_adj)\n",
    "    loss = F.cross_entropy(pred[g0], labels[g0]) \\\n",
    "        - F.cross_entropy(pred[gX], labels[gX])\n",
    "    adj_grad = torch.autograd.grad(loss, modified_adj)[0].cpu()\n",
    "\n",
    "    # Update perturbations\n",
    "    lr = (config['sll_no_g_lr']) / ((epoch + 1))\n",
    "    pre_projection = int(perturbations.sum() / 2)\n",
    "    perturbations = perturbations + (lr * adj_grad)\n",
    "    perturbations = utils.projection(perturbations, num_perturbations)\n",
    "\n",
    "    # Train the surrogate\n",
    "    modified_adj = utils.get_modified_adj(adj, perturbations).to(device)\n",
    "    model_loss = surrogate.fit(feat, modified_adj, labels, epochs=1, verbose=False)\n",
    "\n",
    "    t.set_postfix({\"adj_l\": loss.item(),\n",
    "                    \"adj_g\": (adj_grad.sum().item()),\n",
    "                    \"pre-p\": pre_projection,\n",
    "                    \"target\": int(num_perturbations / 2),\n",
    "                    \"model_loss\": model_loss})\n",
    "elif args.attack_method == 'sll':\n",
    "\n",
    "  # Initialize perturbations\n",
    "  perturbations = torch.zeros_like(adj).float()\n",
    "\n",
    "  # Initialize sampling matrix\n",
    "  import sampling_matrix\n",
    "  samplingMatrix = sampling_matrix.SamplingMatrix(\n",
    "    g0=g0, gX=gX, adj=adj, sample_size=config['sll_sample_size'])\n",
    "  count = torch.zeros_like(adj).float()\n",
    "\n",
    "  # Create surrogate model to mimic downstream\n",
    "  surrogates = []\n",
    "  for task in tasks:\n",
    "    surrogates.append(models.DenseGCN(\n",
    "      in_size=feat.shape[1],\n",
    "      out_size=labels.max().item()+1,\n",
    "      hid_size=config['hid_size'],\n",
    "      lr=config['lr'],\n",
    "      dropout=config['dropout'],\n",
    "      weight_decay=config['weight_decay']\n",
    "    ).to(device))\n",
    "\n",
    "  t = tqdm(range(args.attack_epochs), bar_format='{l_bar}{bar:10}{r_bar}{bar:-10b}')\n",
    "  t.set_description(\"SLL\")\n",
    "\n",
    "  for epoch in t:\n",
    "    # Re-initialize adj_grad\n",
    "    adj_grad = torch.zeros_like(adj).float()\n",
    "\n",
    "    # Get modified adj\n",
    "    modified_adj = utils.get_modified_adj(adj, perturbations).float().to(device)\n",
    "\n",
    "    for sample_epoch in range(config['sll_num_samples']): \n",
    "      # Get sample indices\n",
    "      idx = samplingMatrix.get_sample()\n",
    "\n",
    "      # Map sample to adj\n",
    "      sample = modified_adj[idx[0], idx[1]].clone().detach().requires_grad_(True).to(device)\n",
    "      modified_adj[idx[0], idx[1]] = sample\n",
    "\n",
    "      # Get grad\n",
    "      pred = surrogate(feat, modified_adj)\n",
    "      loss = F.cross_entropy(pred[g0], labels[g0]) \\\n",
    "          - F.cross_entropy(pred[gX], labels[gX])\n",
    "\n",
    "      grad = torch.autograd.grad(loss, sample)[0]\n",
    "\n",
    "      # Implement averaging of duplicate samples\n",
    "      adj_grad[idx[0], idx[1]] += grad.cpu()\n",
    "      count[idx[0], idx[1]] += 1\n",
    "\n",
    "    # Update the sampling matrix\n",
    "    samplingMatrix.updateByGrad(adj_grad, count)\n",
    "\n",
    "    # Average the gradient\n",
    "    adj_grad = torch.div(adj_grad, count)\n",
    "    adj_grad[adj_grad != adj_grad] = 0\n",
    "    \n",
    "    # Update perturbations\n",
    "    lr = (config['sll_lr']) / ((epoch + 1))\n",
    "    pre_projection = int(perturbations.sum())\n",
    "    perturbations = perturbations + (lr * adj_grad)\n",
    "    perturbations = utils.projection(perturbations, num_perturbations)\n",
    "\n",
    "    # Train the model\n",
    "    modified_adj = utils.get_modified_adj(adj, perturbations).to(device)\n",
    "    model_loss = surrogate.fit(feat, modified_adj, labels, epochs=1, verbose=False)\n",
    "\n",
    "    t.set_postfix({\"attack_loss\": loss.item(),\n",
    "                    # \"adj_g\": (adj_grad.sum().item()),\n",
    "                    \"pre-projection\": pre_projection,\n",
    "                    \"target\": int(num_perturbations),\n",
    "                    \"surrogate_loss\": model_loss})\n",
    "\n",
    "# Discretize the best locked_adj ============\n",
    "if args.attack_method in ['sll', 'sll_no_g']:\n",
    "  locked_adj = None\n",
    "  with torch.no_grad():\n",
    "    max_loss = -1000\n",
    "    for k in range(0,3):\n",
    "        sample = torch.bernoulli(perturbations)\n",
    "        modified_adj = utils.get_modified_adj(adj, sample)\n",
    "        modified_adj = utils.make_symmetric(modified_adj) \n",
    "        predictions = surrogate(feat, modified_adj.to(device)) \n",
    "\n",
    "        loss = F.cross_entropy(predictions[g0], labels[g0]) \\\n",
    "            - F.cross_entropy(predictions[gX], labels[gX])\n",
    "\n",
    "        if loss > max_loss:\n",
    "            max_loss = loss\n",
    "            locked_adj = modified_adj\n",
    "    \n",
    "    print(f\"Best sample loss: {max_loss:.2f}\")\n",
    "\n",
    "diff = adj - locked_adj\n",
    "print(f'Edges modified: {diff.abs().sum() / 2:.0f}')"
   ]
  },
  {
   "cell_type": "markdown",
   "metadata": {},
   "source": [
    "# Eval"
   ]
  },
  {
   "cell_type": "code",
   "execution_count": null,
   "metadata": {},
   "outputs": [
    {
     "name": "stderr",
     "output_type": "stream",
     "text": [
      "GCN Training: 100%|██████████| 100/100 [00:02<00:00, 41.24it/s, loss=0.48]\n",
      "GCN Training: 100%|██████████| 100/100 [00:02<00:00, 41.23it/s, loss=0.54]\n"
     ]
    }
   ],
   "source": [
    "# Evaluation ==============================\n",
    "import sklearn.metrics as metrics\n",
    "gX_train = torch.logical_and(gX, graph.ndata['train_mask'])\n",
    "gX_test = torch.logical_and(gX, graph.ndata['test_mask'])\n",
    "\n",
    "def eval_adj(test_adj: torch.tensor):\n",
    "    model = models.DenseGCN(\n",
    "        in_size=feat.shape[1],\n",
    "        out_size=labels.max().item()+1,\n",
    "        hid_size=config['hid_size'],\n",
    "        lr=config['lr'],\n",
    "        dropout=config['dropout'],\n",
    "        weight_decay=config['weight_decay']\n",
    "    ).to(device)\n",
    "    model.fit(feat, test_adj, labels, epochs=100, mask=gX_train)\n",
    "    pred = model(feat, test_adj).cpu()\n",
    "\n",
    "    f1_g0 = metrics.f1_score(labels[g0].cpu(), pred.argmax(dim=1)[g0], average='micro')\n",
    "    f1_gX = metrics.f1_score(labels[gX_test].cpu(), pred.argmax(dim=1)[gX_test], average='micro')\n",
    "    \n",
    "    return f1_g0, f1_gX\n",
    "\n",
    "f1_g0_base, f1_gX_base = eval_adj(adj)\n",
    "f1_g0_lock, f1_gX_lock = eval_adj(locked_adj)\n",
    "\n",
    "d_g0 = (f1_g0_lock - f1_g0_base) / f1_g0_base\n",
    "d_gX = (f1_gX_lock - f1_gX_base) / f1_gX_base\n"
   ]
  },
  {
   "cell_type": "code",
   "execution_count": null,
   "metadata": {},
   "outputs": [
    {
     "name": "stdout",
     "output_type": "stream",
     "text": [
      "H Overall: 73.9%\n",
      "ACC      f1_g0\tf1_gX\tH_g0\tH_gX\tH_g0gX\n",
      "base   | 55.1%\t58.0%\t85.2%\t72.2%\t73.9%\n",
      "lock   | 24.1%\t58.7%\t67.2%\t71.3%\t60.8%\n",
      "delta  | -56.3%\t1.2%\t-21.1%\t-1.2%\t-17.7%\n",
      "Changes\n",
      "g0: 487.0\n",
      "gX: 273.0\n",
      "g0gX: 1782.0\n"
     ]
    }
   ],
   "source": [
    "import importlib\n",
    "importlib.reload(utils)\n",
    "\n",
    "H_overall = utils.calc_homophily(adj, labels)\n",
    "\n",
    "H_g0_base = utils.calc_homophily(adj, labels, g0)\n",
    "H_gX_base = utils.calc_homophily(adj, labels, gX)\n",
    "H_g0gX_base = utils.inner_homophily(adj, labels, g0, gX)\n",
    "\n",
    "H_g0_lock = utils.calc_homophily(locked_adj, labels, g0)\n",
    "H_gX_lock = utils.calc_homophily(locked_adj, labels, gX)\n",
    "H_g0gX_lock = utils.inner_homophily(locked_adj, labels, g0, gX)\n",
    "\n",
    "d_H_g0 = (H_g0_lock - H_g0_base) / H_g0_base\n",
    "d_H_gX = (H_gX_lock - H_gX_base) / H_gX_base\n",
    "d_H_g0gX = (H_g0gX_lock - H_g0gX_base) / H_g0gX_base\n",
    "\n",
    "changes_g0 = diff[g0, :][:, g0].abs().sum().item()\n",
    "changes_gX = diff[gX, :][:, gX].abs().sum().item()\n",
    "changes_g0gX = diff.abs().sum().item() - (changes_g0 + changes_gX)\n",
    "\n",
    "print(f'H Overall: {H_overall:.1%}')\n",
    "print(f'ACC      f1_g0\\tf1_gX\\tH_g0\\tH_gX\\tH_g0gX')\n",
    "print(f'base   | {f1_g0_base:.1%}\\t{f1_gX_base:.1%}\\t{H_g0_base:.1%}\\t{H_gX_base:.1%}\\t{H_g0gX_base:.1%}')\n",
    "print(f'lock   | {f1_g0_lock:.1%}\\t{f1_gX_lock:.1%}\\t{H_g0_lock:.1%}\\t{H_gX_lock:.1%}\\t{H_g0gX_lock:.1%}')\n",
    "print(f'delta  | {d_g0:.1%}\\t{d_gX:.1%}\\t{d_H_g0:.1%}\\t{d_H_gX:.1%}\\t{d_H_g0gX:.1%}')\n",
    "\n",
    "print(f'Changes')\n",
    "print(f'g0: {changes_g0}')\n",
    "print(f'gX: {changes_gX}')\n",
    "print(f'g0gX: {changes_g0gX}')"
   ]
  },
  {
   "cell_type": "code",
   "execution_count": null,
   "metadata": {},
   "outputs": [],
   "source": [
    "# Save the results\n",
    "import export\n",
    "import importlib\n",
    "importlib.reload(utils)\n",
    "\n",
    "results = {\n",
    "  'dataset': args.dataset,\n",
    "  'seed': args.seed,\n",
    "  'config': args.config,\n",
    "  'g0_method': args.g0_method,\n",
    "  'g0_size': args.g0_size,\n",
    "  'attack_epochs': args.attack_epochs,\n",
    "  'attack_method': args.attack_method,\n",
    "  'budget_pct': args.budget_pct,\n",
    "  'f1_g0_base': f1_g0_base,\n",
    "  'f1_gX_base': f1_gX_base,\n",
    "  'f1_g0_lock': f1_g0_lock,\n",
    "  'f1_gX_lock': f1_gX_lock,\n",
    "  'd_g0': d_g0,\n",
    "  'd_gX': d_gX,\n",
    "  'H_overall': H_overall,\n",
    "  'H_g0_base': H_g0_base,\n",
    "  'H_gX_base': H_gX_base,\n",
    "  'H_g0gX_base': H_g0gX_base,\n",
    "  'H_g0_lock': H_g0_lock,\n",
    "  'H_gX_lock': H_gX_lock,\n",
    "  'H_g0gX_lock': H_g0gX_lock,\n",
    "  'd_H_g0': d_H_g0,\n",
    "  'd_H_gX': d_H_gX,\n",
    "  'd_H_g0gX': d_H_g0gX,\n",
    "  'changes_g0': changes_g0,\n",
    "  'changes_gX': changes_gX,\n",
    "  'changes_g0gX': changes_g0gX,\n",
    "  'num_classes': int(labels.max().item()+1),\n",
    "  'edges_modified': int(diff.abs().sum() / 2),\n",
    "  'orig_edges': int(adj.sum() / 2)\n",
    "}\n",
    "\n",
    "# if args.save_results: export.saveData('./out.csv', results)"
   ]
  },
  {
   "cell_type": "code",
   "execution_count": null,
   "metadata": {},
   "outputs": [],
   "source": [
    "if args.save_graph: utils.save_as_dgl(\n",
    "  graph, adj, g0, \n",
    "  name=f'{args.dataset} {args.g0_method} {args.attack_method} {args.budget_pct}', \n",
    "  root='./locked/')"
   ]
  },
  {
   "cell_type": "code",
   "execution_count": null,
   "metadata": {},
   "outputs": [],
   "source": [
    "# import matplotlib.pyplot as plt\n",
    "# import numpy as np\n",
    "# from sklearn.manifold import TSNE"
   ]
  },
  {
   "cell_type": "code",
   "execution_count": null,
   "metadata": {},
   "outputs": [],
   "source": [
    "# tsne = TSNE(2, perplexity=80, n_iter=400)\n",
    "\n",
    "# # Base\n",
    "# tsne_proj = tsne.fit_transform(base_pred.detach())\n",
    "# fig, ax = plt.subplots(figsize=(8,8))\n",
    "# X = tsne_proj[gX,0]\n",
    "# Y = tsne_proj[gX,1]\n",
    "# ax.scatter(X, Y, label = 'gX' ,alpha=1)\n",
    "# X = tsne_proj[g0,0]\n",
    "# Y = tsne_proj[g0,1]\n",
    "# ax.scatter(X, Y, label = 'g0' ,alpha=1)\n",
    "# ax.legend(fontsize='large', markerscale=2)\n",
    "# plt.show()"
   ]
  },
  {
   "cell_type": "code",
   "execution_count": null,
   "metadata": {},
   "outputs": [],
   "source": [
    "# Locked\n",
    "# tsne_proj = tsne.fit_transform(lock_pred.detach())\n",
    "# fig, ax = plt.subplots(figsize=(8,8))\n",
    "# X = tsne_proj[gX,0]\n",
    "# Y = tsne_proj[gX,1]\n",
    "# ax.scatter(X, Y, label = 'gX' ,alpha=1)\n",
    "# X = tsne_proj[g0,0]\n",
    "# Y = tsne_proj[g0,1]\n",
    "# ax.scatter(X, Y, label = 'g0' ,alpha=1)\n",
    "# ax.legend(fontsize='large', markerscale=2)\n",
    "# plt.show()"
   ]
  },
  {
   "cell_type": "code",
   "execution_count": null,
   "metadata": {},
   "outputs": [],
   "source": [
    "# print(f\"Number of protected nodes: {g0.sum():.0f}\")\n",
    "# print(f\"Protected Size: {g0.sum() / graph.num_nodes():.2%}\")\n",
    "# import matplotlib.pyplot as plt\n",
    "# import numpy as np\n",
    "# data = labels[g0].cpu().numpy()\n",
    "# plt.hist(data, bins=np.arange(0, data.max() + 1.5) - 0.5)"
   ]
  }
 ],
 "metadata": {
  "kernelspec": {
   "display_name": "Python 3.10.4 ('pytorch_c116')",
   "language": "python",
   "name": "python3"
  },
  "language_info": {
   "codemirror_mode": {
    "name": "ipython",
    "version": 3
   },
   "file_extension": ".py",
   "mimetype": "text/x-python",
   "name": "python",
   "nbconvert_exporter": "python",
   "pygments_lexer": "ipython3",
   "version": "3.10.4"
  },
  "orig_nbformat": 4,
  "vscode": {
   "interpreter": {
    "hash": "ace00f8df87249d7fb913fbec74912fd8ad566274bc64c0a2570c224c3461cb4"
   }
  }
 },
 "nbformat": 4,
 "nbformat_minor": 2
}
