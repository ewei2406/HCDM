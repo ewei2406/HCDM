{
 "cells": [
  {
   "cell_type": "code",
   "execution_count": 17,
   "metadata": {},
   "outputs": [],
   "source": [
    "import torch as th\n",
    "import numpy as np\n",
    "import pandas as pd\n",
    "import dgl"
   ]
  },
  {
   "cell_type": "code",
   "execution_count": 18,
   "metadata": {},
   "outputs": [],
   "source": [
    "# import json\n",
    "# raw_f = json.load(open('./processed_data/LastFM_node_feature.json'))\n",
    "# # 7624 nodes, 7842 features\n",
    "# feat = th.zeros([7624, 7842])\n",
    "\n",
    "# for i in raw_f.keys():\n",
    "#   feat[int(i), th.tensor(raw_f[i], dtype=th.long)] = 1\n",
    "\n",
    "# np.savetxt(\"LastFM_node_feature.csv\", feat.numpy(), delimiter=\",\", fmt='%d')"
   ]
  },
  {
   "cell_type": "code",
   "execution_count": 19,
   "metadata": {},
   "outputs": [],
   "source": [
    "# %%\n",
    "import argparse\n",
    "\n",
    "parser = argparse.ArgumentParser()\n",
    "parser.add_argument('--dataname', type=str, default='LastFM')\n",
    "parser.add_argument('--gpu', type=int, default=2)\n",
    "parser.add_argument('--debias_method', type=str, default='uge-r', choices=['uge-r', 'none', 'random'], help='debiasing method to apply')\n",
    "parser.add_argument('--debias_attr', type=int, default=1, help='idx of sensitive attribute to be debiased')\n",
    "parser.add_argument('--num_sens', type=int, default=3, help='# of sensitive attr to make')\n",
    "parser.add_argument('--reg_weight', type=float, default=0.2, help='weight for the regularization based debiasing term')  \n",
    "\n",
    "parser.add_argument('--epochs', type=int, default=200, help='Number of training periods.')\n",
    "parser.add_argument('--lr', type=float, default=0.001, help='Learning rate.')\n",
    "parser.add_argument('--wd', type=float, default=1e-5, help='Weight decay.')\n",
    "parser.add_argument('--temp', type=float, default=1.0, help='Temperature.')\n",
    "\n",
    "parser.add_argument(\"--hid_dim\", type=int, default=256, help='Hidden layer dim.')\n",
    "parser.add_argument(\"--out_dim\", type=int, default=7, help='Output layer dim.')\n",
    "\n",
    "parser.add_argument(\"--num_layers\", type=int, default=2, help='Number of GNN layers.')\n",
    "parser.add_argument(\"--seed\", type=int, default=100, help='seed')\n",
    "parser.add_argument('--der1', type=float, default=0.2, help='Drop edge ratio of the 1st augmentation.')\n",
    "\n",
    "parser.add_argument('--sim_diff_ratio', type=float, default=5, help='Drop feature ratio of the 2nd augmentation.')\n",
    "parser.add_argument('--enable_heuristic', type=str, default='Y', help='Drop feature ratio of the 2nd augmentation.')\n",
    "\n",
    "\n",
    "args = parser.parse_args(\"\")\n",
    "\n",
    "if args.gpu != -1 and th.cuda.is_available():\n",
    "    args.device = 'cuda:{}'.format(args.gpu)\n",
    "else:\n",
    "    args.device = 'cpu'\n",
    "\n",
    "np.random.seed(args.seed)\n",
    "th.manual_seed(args.seed)\n",
    "\n",
    "if args.device != 'cpu':\n",
    "    th.cuda.manual_seed(args.seed)"
   ]
  },
  {
   "cell_type": "code",
   "execution_count": 20,
   "metadata": {},
   "outputs": [
    {
     "data": {
      "text/plain": [
       "Graph(num_nodes=2708, num_edges=15876,\n",
       "      ndata_schemes={'feat': Scheme(shape=(1433,), dtype=torch.float32), 'label': Scheme(shape=(), dtype=torch.float32), 'g0': Scheme(shape=(), dtype=torch.float32)}\n",
       "      edata_schemes={})"
      ]
     },
     "execution_count": 20,
     "metadata": {},
     "output_type": "execute_result"
    }
   ],
   "source": [
    "adj = pd.read_csv('./cora_sll_adj_lock.csv', engine='c', header=None)\n",
    "feat = pd.read_csv('./cora_sll_feat.csv', engine='c', header=None)\n",
    "g0 = pd.read_csv('./cora_sll_protected.csv', engine='c', header=None)\n",
    "label = pd.read_csv('./cora_sll_label.csv', engine='c', header=None)\n",
    "\n",
    "adj = th.tensor(adj.to_numpy())\n",
    "feat = th.tensor(feat.to_numpy())\n",
    "g0 = th.tensor(g0.to_numpy())\n",
    "label = th.tensor(label.to_numpy())\n",
    "\n",
    "edges = adj.to_sparse().indices().int()\n",
    "graph = dgl.graph((edges[0], edges[1]))\n",
    "graph.ndata['feat'] = feat.float()\n",
    "graph.ndata['label'] = label.squeeze().float()\n",
    "graph.ndata['g0'] = g0.squeeze().float()\n",
    "graph = graph.add_self_loop()\n",
    "graph"
   ]
  },
  {
   "cell_type": "code",
   "execution_count": 21,
   "metadata": {},
   "outputs": [],
   "source": [
    "# graph.ndata['g0'] = g0.squeeze().float()"
   ]
  },
  {
   "cell_type": "code",
   "execution_count": 22,
   "metadata": {},
   "outputs": [],
   "source": [
    "def aug_weight(graph: dgl.DGLGraph, drop_feat: float, drop_edge: float=0.2):\n",
    "  edge_mask = th.bernoulli(graph.edata['weight']) == 0\n",
    "  masked_edges = graph.adj().coalesce().indices()[:, edge_mask]\n",
    "\n",
    "  new_graph = dgl.graph((masked_edges[0], masked_edges[1])).to(graph.device)\n",
    "\n",
    "  feat_mask = th.rand((graph.ndata['feat'].shape[1])) < (drop_feat)\n",
    "  new_graph.ndata['feat'] = graph.ndata['feat'].clone()\n",
    "\n",
    "  new_graph.ndata['feat'][:, feat_mask] = 0\n",
    "  new_graph = new_graph.add_self_loop()\n",
    "  return new_graph\n",
    "\n",
    "def aug(graph: dgl.DGLGraph, drop_feat: float, drop_edge: float=0.2):\n",
    "  edge_mask = th.bernoulli(th.full((graph.num_edges(),), drop_edge)) == 0\n",
    "  masked_edges = graph.adj().coalesce().indices()[:, edge_mask]\n",
    "\n",
    "  new_graph = dgl.graph((masked_edges[0], masked_edges[1]), num_nodes=graph.num_nodes()).to(graph.device)\n",
    "\n",
    "  feat_mask = th.rand((graph.ndata['feat'].shape[1])) < (drop_feat)\n",
    "  new_graph.ndata['feat'] = graph.ndata['feat'].clone().float()\n",
    "\n",
    "  new_graph.ndata['feat'][:, feat_mask] = 0\n",
    "  new_graph = new_graph.add_self_loop()\n",
    "  return new_graph\n",
    "\n",
    "\n",
    "# aug_weight(graph, 0.2)"
   ]
  },
  {
   "cell_type": "code",
   "execution_count": null,
   "metadata": {},
   "outputs": [],
   "source": []
  },
  {
   "cell_type": "code",
   "execution_count": 23,
   "metadata": {},
   "outputs": [
    {
     "name": "stdout",
     "output_type": "stream",
     "text": [
      "# params: 869383\n",
      "Epoch=000, loss=8.5963\n",
      "Epoch=001, loss=8.5951\n",
      "Epoch=002, loss=8.5926\n",
      "Epoch=003, loss=8.5881\n",
      "Epoch=004, loss=8.5828\n",
      "Epoch=005, loss=8.5719\n",
      "Epoch=006, loss=8.5614\n",
      "Epoch=007, loss=8.5421\n",
      "Epoch=008, loss=8.5174\n",
      "Epoch=009, loss=8.4722\n",
      "Epoch=010, loss=8.4167\n",
      "Epoch=011, loss=8.3651\n",
      "Epoch=012, loss=8.2987\n",
      "Epoch=013, loss=8.2317\n",
      "Epoch=014, loss=8.1751\n",
      "Epoch=015, loss=8.1451\n",
      "Epoch=016, loss=8.1074\n",
      "Epoch=017, loss=8.0568\n",
      "Epoch=018, loss=8.0445\n",
      "Epoch=019, loss=7.9970\n",
      "Epoch=020, loss=7.9928\n",
      "Epoch=021, loss=7.9729\n",
      "Epoch=022, loss=7.9493\n",
      "Epoch=023, loss=7.9427\n",
      "Epoch=024, loss=7.9250\n",
      "Epoch=025, loss=7.9357\n",
      "Epoch=026, loss=7.9070\n",
      "Epoch=027, loss=7.8901\n",
      "Epoch=028, loss=7.8829\n",
      "Epoch=029, loss=7.9021\n",
      "Epoch=030, loss=7.8894\n",
      "Epoch=031, loss=7.8887\n",
      "Epoch=032, loss=7.8710\n",
      "Epoch=033, loss=7.8713\n",
      "Epoch=034, loss=7.8777\n",
      "Epoch=035, loss=7.8699\n",
      "Epoch=036, loss=7.8509\n",
      "Epoch=037, loss=7.8537\n",
      "Epoch=038, loss=7.8524\n",
      "Epoch=039, loss=7.8418\n",
      "Epoch=040, loss=7.8484\n",
      "Epoch=041, loss=7.8531\n",
      "Epoch=042, loss=7.8432\n",
      "Epoch=043, loss=7.8571\n",
      "Epoch=044, loss=7.8342\n",
      "Epoch=045, loss=7.8467\n",
      "Epoch=046, loss=7.8384\n",
      "Epoch=047, loss=7.8414\n",
      "Epoch=048, loss=7.8293\n",
      "Epoch=049, loss=7.8374\n",
      "Epoch=050, loss=7.8300\n",
      "Epoch=051, loss=7.8243\n",
      "Epoch=052, loss=7.8242\n",
      "Epoch=053, loss=7.8195\n",
      "Epoch=054, loss=7.8202\n",
      "Epoch=055, loss=7.8312\n",
      "Epoch=056, loss=7.8274\n",
      "Epoch=057, loss=7.8354\n",
      "Epoch=058, loss=7.8195\n",
      "Epoch=059, loss=7.8385\n",
      "Epoch=060, loss=7.8329\n",
      "Epoch=061, loss=7.8188\n",
      "Epoch=062, loss=7.8174\n",
      "Epoch=063, loss=7.8196\n",
      "Epoch=064, loss=7.8167\n",
      "Epoch=065, loss=7.8222\n",
      "Epoch=066, loss=7.8245\n",
      "Epoch=067, loss=7.8258\n",
      "Epoch=068, loss=7.8164\n",
      "Epoch=069, loss=7.8240\n",
      "Epoch=070, loss=7.8186\n",
      "Epoch=071, loss=7.8133\n",
      "Epoch=072, loss=7.8159\n",
      "Epoch=073, loss=7.8101\n",
      "Epoch=074, loss=7.8058\n",
      "Epoch=075, loss=7.8179\n",
      "Epoch=076, loss=7.8193\n",
      "Epoch=077, loss=7.8050\n",
      "Epoch=078, loss=7.8217\n",
      "Epoch=079, loss=7.8125\n",
      "Epoch=080, loss=7.8198\n",
      "Epoch=081, loss=7.8039\n",
      "Epoch=082, loss=7.8079\n",
      "Epoch=083, loss=7.8060\n",
      "Epoch=084, loss=7.8111\n",
      "Epoch=085, loss=7.8074\n",
      "Epoch=086, loss=7.7983\n",
      "Epoch=087, loss=7.8077\n",
      "Epoch=088, loss=7.8004\n",
      "Epoch=089, loss=7.8010\n",
      "Epoch=090, loss=7.8047\n",
      "Epoch=091, loss=7.8025\n",
      "Epoch=092, loss=7.7988\n",
      "Epoch=093, loss=7.7947\n",
      "Epoch=094, loss=7.7967\n",
      "Epoch=095, loss=7.7983\n",
      "Epoch=096, loss=7.8025\n",
      "Epoch=097, loss=7.7943\n",
      "Epoch=098, loss=7.8096\n",
      "Epoch=099, loss=7.8104\n",
      "Epoch=100, loss=7.7908\n",
      "Epoch=101, loss=7.7895\n",
      "Epoch=102, loss=7.7910\n",
      "Epoch=103, loss=7.7879\n",
      "Epoch=104, loss=7.7901\n",
      "Epoch=105, loss=7.7960\n",
      "Epoch=106, loss=7.7886\n",
      "Epoch=107, loss=7.7885\n",
      "Epoch=108, loss=7.7914\n",
      "Epoch=109, loss=7.7931\n",
      "Epoch=110, loss=7.7940\n",
      "Epoch=111, loss=7.7906\n",
      "Epoch=112, loss=7.7791\n",
      "Epoch=113, loss=7.8095\n",
      "Epoch=114, loss=7.8044\n",
      "Epoch=115, loss=7.7864\n",
      "Epoch=116, loss=7.7903\n",
      "Epoch=117, loss=7.7894\n",
      "Epoch=118, loss=7.8089\n",
      "Epoch=119, loss=7.7871\n",
      "Epoch=120, loss=7.7902\n",
      "Epoch=121, loss=7.7929\n",
      "Epoch=122, loss=7.7910\n",
      "Epoch=123, loss=7.8135\n",
      "Epoch=124, loss=7.7874\n",
      "Epoch=125, loss=7.7845\n",
      "Epoch=126, loss=7.8033\n",
      "Epoch=127, loss=7.7927\n",
      "Epoch=128, loss=7.7924\n",
      "Epoch=129, loss=7.7905\n",
      "Epoch=130, loss=7.7821\n",
      "Epoch=131, loss=7.7882\n",
      "Epoch=132, loss=7.7821\n",
      "Epoch=133, loss=7.7837\n",
      "Epoch=134, loss=7.7888\n",
      "Epoch=135, loss=7.7815\n",
      "Epoch=136, loss=7.7821\n",
      "Epoch=137, loss=7.7808\n",
      "Epoch=138, loss=7.7861\n",
      "Epoch=139, loss=7.7892\n",
      "Epoch=140, loss=7.7873\n",
      "Epoch=141, loss=7.7839\n",
      "Epoch=142, loss=7.7824\n",
      "Epoch=143, loss=7.7823\n",
      "Epoch=144, loss=7.7834\n",
      "Epoch=145, loss=7.7876\n",
      "Epoch=146, loss=7.7823\n",
      "Epoch=147, loss=7.7794\n",
      "Epoch=148, loss=7.7791\n",
      "Epoch=149, loss=7.7905\n",
      "Epoch=150, loss=7.7754\n",
      "Epoch=151, loss=7.7766\n",
      "Epoch=152, loss=7.7820\n",
      "Epoch=153, loss=7.7744\n",
      "Epoch=154, loss=7.7762\n",
      "Epoch=155, loss=7.7786\n",
      "Epoch=156, loss=7.7760\n",
      "Epoch=157, loss=7.7821\n",
      "Epoch=158, loss=7.7775\n",
      "Epoch=159, loss=7.7781\n",
      "Epoch=160, loss=7.7785\n",
      "Epoch=161, loss=7.7733\n",
      "Epoch=162, loss=7.7773\n",
      "Epoch=163, loss=7.7740\n",
      "Epoch=164, loss=7.7695\n",
      "Epoch=165, loss=7.7728\n",
      "Epoch=166, loss=7.7680\n",
      "Epoch=167, loss=7.7784\n",
      "Epoch=168, loss=7.7649\n",
      "Epoch=169, loss=7.7685\n",
      "Epoch=170, loss=7.7739\n",
      "Epoch=171, loss=7.7687\n",
      "Epoch=172, loss=7.7739\n",
      "Epoch=173, loss=7.7700\n",
      "Epoch=174, loss=7.7664\n",
      "Epoch=175, loss=7.7708\n",
      "Epoch=176, loss=7.7676\n",
      "Epoch=177, loss=7.7785\n",
      "Epoch=178, loss=7.7763\n",
      "Epoch=179, loss=7.7665\n",
      "Epoch=180, loss=7.7636\n",
      "Epoch=181, loss=7.7614\n",
      "Epoch=182, loss=7.7712\n",
      "Epoch=183, loss=7.7630\n",
      "Epoch=184, loss=7.7691\n",
      "Epoch=185, loss=7.7610\n",
      "Epoch=186, loss=7.7649\n",
      "Epoch=187, loss=7.7614\n",
      "Epoch=188, loss=7.7677\n",
      "Epoch=189, loss=7.7628\n",
      "Epoch=190, loss=7.7608\n",
      "Epoch=191, loss=7.7694\n",
      "Epoch=192, loss=7.7675\n",
      "Epoch=193, loss=7.7600\n",
      "Epoch=194, loss=7.7623\n",
      "Epoch=195, loss=7.7616\n",
      "Epoch=196, loss=7.7580\n",
      "Epoch=197, loss=7.7662\n",
      "Epoch=198, loss=7.7595\n",
      "Epoch=199, loss=7.7591\n"
     ]
    }
   ],
   "source": [
    "import importlib\n",
    "import model\n",
    "importlib.reload(model)\n",
    "import random\n",
    "\n",
    "import torch.nn as nn\n",
    "\n",
    "dr = 0.2\n",
    "# Step 3: Create emb_model =================================================================== #\n",
    "emb_model = model.Grace(\n",
    "  in_dim=graph.ndata['feat'].shape[1], \n",
    "  hid_dim=args.hid_dim, \n",
    "  out_dim=args.out_dim, \n",
    "  num_layers=args.num_layers, \n",
    "  act_fn=nn.ReLU(), \n",
    "  temp=args.temp\n",
    ")\n",
    "emb_model = emb_model.to(args.device)\n",
    "\n",
    "def count_parameters(model):\n",
    "    return sum([np.prod(p.size()) for p in model.parameters() if p.requires_grad])\n",
    "print(f'# params: {count_parameters(emb_model)}')\n",
    "\n",
    "optimizer = th.optim.Adam(emb_model.parameters(), lr=args.lr, weight_decay=args.wd)\n",
    "\n",
    "# Step 4: Training =======================================================================\n",
    "for epoch in range(args.epochs):\n",
    "    emb_model.train()\n",
    "    optimizer.zero_grad()\n",
    "\n",
    "    view_1 = aug(graph, drop_feat=dr).to(args.device)\n",
    "    view_2 = aug(graph, drop_feat=dr).to(args.device)\n",
    "\n",
    "    loss = emb_model(view_1, view_2, view_1.ndata['feat'], view_2.ndata['feat'], batch_size=0)\n",
    "    \n",
    "    loss.backward()\n",
    "    optimizer.step()\n",
    "\n",
    "    print(f'Epoch={epoch:03d}, loss={loss.item():.4f}')\n",
    "\n",
    "# Step 5: Linear evaluation ============================================================== #\n",
    "graph = graph.add_self_loop()\n",
    "graph = graph.to(args.device)\n",
    "embeds = emb_model.get_embedding(graph, graph.ndata['feat'].to(args.device)).cpu()"
   ]
  },
  {
   "cell_type": "code",
   "execution_count": 24,
   "metadata": {},
   "outputs": [],
   "source": [
    "import matplotlib.pyplot as plt\n",
    "import numpy as np\n",
    "from matplotlib import cm\n",
    "from sklearn.manifold import TSNE"
   ]
  },
  {
   "cell_type": "code",
   "execution_count": 25,
   "metadata": {},
   "outputs": [
    {
     "name": "stderr",
     "output_type": "stream",
     "text": [
      "/u/nyw6dh/.conda/envs/pytorch_c116/lib/python3.10/site-packages/sklearn/manifold/_t_sne.py:780: FutureWarning: The default initialization in TSNE will change from 'random' to 'pca' in 1.2.\n",
      "  warnings.warn(\n",
      "/u/nyw6dh/.conda/envs/pytorch_c116/lib/python3.10/site-packages/sklearn/manifold/_t_sne.py:790: FutureWarning: The default learning rate in TSNE will change from 200.0 to 'auto' in 1.2.\n",
      "  warnings.warn(\n"
     ]
    },
    {
     "data": {
      "text/plain": [
       "tensor([101, 199, 119,  ..., 202, 140, 127])"
      ]
     },
     "execution_count": 25,
     "metadata": {},
     "output_type": "execute_result"
    }
   ],
   "source": [
    "# Create a two dimensional t-SNE projection of the embeddings\n",
    "tsne = TSNE(2, perplexity=30, n_iter=3000)\n",
    "tsne_proj = tsne.fit_transform(embeds)\n",
    "# Plot those points as a scatter plot and label them based on the pred labels\n",
    "import torch.nn.functional as F\n",
    "pred = F.log_softmax(embeds, dim=0).squeeze().argmax(dim=1)\n",
    "pred\n",
    "\n"
   ]
  },
  {
   "cell_type": "code",
   "execution_count": 26,
   "metadata": {},
   "outputs": [
    {
     "data": {
      "image/png": "[encoded data removed]",
      "text/plain": [
       "<Figure size 576x576 with 1 Axes>"
      ]
     },
     "metadata": {
      "needs_background": "light"
     },
     "output_type": "display_data"
    }
   ],
   "source": [
    "cmap = cm.get_cmap('tab20')\n",
    "fig, ax = plt.subplots(figsize=(8,8))\n",
    "# for lab in graph.ndata['label'].unique():\n",
    "#   lab = lab.item()\n",
    "#   indices = graph.ndata['label'].cpu() == lab\n",
    "#   X = tsne_proj[indices,0]\n",
    "#   Y = tsne_proj[indices,1]\n",
    "#   ax.scatter(X, Y, label = lab ,alpha=0.5)\n",
    "\n",
    "indices = graph.ndata['g0'].cpu() == 0\n",
    "X = tsne_proj[indices,0]\n",
    "Y = tsne_proj[indices,1]\n",
    "ax.scatter(X, Y, label = 'gX' ,alpha=1)\n",
    "\n",
    "indices = graph.ndata['g0'].cpu() == 1\n",
    "X = tsne_proj[indices,0]\n",
    "Y = tsne_proj[indices,1]\n",
    "ax.scatter(X, Y, label = 'g0' ,alpha=1)\n",
    "\n",
    "ax.legend(fontsize='large', markerscale=2)\n",
    "plt.show()"
   ]
  },
  {
   "cell_type": "code",
   "execution_count": 27,
   "metadata": {},
   "outputs": [
    {
     "data": {
      "text/plain": [
       "torch.Size([2708])"
      ]
     },
     "execution_count": 27,
     "metadata": {},
     "output_type": "execute_result"
    }
   ],
   "source": [
    "graph.out_degrees(graph.nodes()).shape"
   ]
  },
  {
   "cell_type": "code",
   "execution_count": 32,
   "metadata": {},
   "outputs": [
    {
     "data": {
      "image/png": "[encoded data removed]",
      "text/plain": [
       "<Figure size 432x288 with 1 Axes>"
      ]
     },
     "metadata": {
      "needs_background": "light"
     },
     "output_type": "display_data"
    }
   ],
   "source": [
    "graph = graph.add_self_loop()\n",
    "hist = graph.out_degrees(graph.nodes()).cpu().numpy()\n",
    "# hist,bins = np.histogram(hist, bins=10)\n",
    "plt.hist(hist, bins=range(min(hist), max(hist) + 1, 1)) \n",
    "plt.title(\"degree distribution\") \n",
    "plt.show()"
   ]
  },
  {
   "cell_type": "code",
   "execution_count": 29,
   "metadata": {},
   "outputs": [],
   "source": [
    "from sklearn.metrics import f1_score\n",
    "from sklearn.linear_model import LogisticRegression\n",
    "\n",
    "def get_f1(embeds, graph):\n",
    "  evaluate_attr = graph.ndata['label']\n",
    "  split_idx = int(graph.num_nodes() * 0.75)\n",
    "  lgreg = LogisticRegression(\n",
    "    random_state=0, \n",
    "    class_weight='balanced', \n",
    "    max_iter=500).fit(\n",
    "    embeds[:split_idx].cpu(), evaluate_attr[:split_idx].cpu())\n",
    "  pred = lgreg.predict(embeds[split_idx:].cpu())\n",
    "\n",
    "  score = f1_score(evaluate_attr[split_idx:split_idx + pred.shape[0]].cpu(), pred, average='micro')\n",
    "\n",
    "  print(f'-- micro-f1 when predicting sensitive lab: {score}')\n",
    "  return score\n",
    "  \n",
    "\n",
    "def dcg_at_k(r, k):\n",
    "    r = np.asfarray(r)[:k]\n",
    "    if r.size != k:\n",
    "        raise ValueError('Ranking List length < k')    \n",
    "    return np.sum((2**r - 1) / np.log2(np.arange(2, r.size + 2)))\n",
    "\n",
    "\n",
    "def ndcg_at_k(r, k):\n",
    "    sort_r = sorted(r,reverse = True)\n",
    "    idcg = dcg_at_k(sort_r, k)\n",
    "    if not idcg:\n",
    "        print('.', end=' ')\n",
    "        return 0.\n",
    "    return dcg_at_k(r, k) / idcg\n",
    "\n",
    "\n",
    "def eval_link_ndcg(embeds, graph: dgl.DGLGraph):\n",
    "  accum_ndcg = 0\n",
    "  node_cnt = 0\n",
    "  sample_size = int(min(graph.num_nodes() / 25, 75))\n",
    "  k = int(min(sample_size / 5, 10))\n",
    "  adj = graph.adj().to_dense()\n",
    "\n",
    "  for node in graph.nodes():\n",
    "    node_edges = adj[node]\n",
    "    positive_nodes = node_edges.nonzero(as_tuple=True)[0]\n",
    "    split_idx = int(positive_nodes.shape[0] / 10) + 1\n",
    "\n",
    "    if split_idx == 0 or split_idx > sample_size:\n",
    "      continue\n",
    "      \n",
    "    negative_nodes = np.random.choice(\n",
    "      (1 - node_edges).nonzero(as_tuple=True)[0], \n",
    "      sample_size - split_idx,\n",
    "      replace=False\n",
    "    )\n",
    "    positive_nodes = positive_nodes[:split_idx] # Subset of positive pair\n",
    "    eval_nodes = np.concatenate((positive_nodes, negative_nodes))\n",
    "    eval_edges = np.zeros(sample_size)\n",
    "    eval_edges[:split_idx] = 1\n",
    "\n",
    "    predicted_edges = np.dot(embeds[node], embeds[eval_nodes].T)\n",
    "    rank_pred_keys = np.argsort(predicted_edges)[::-1]\n",
    "    ranked_node_edges = eval_edges[rank_pred_keys]\n",
    "    ndcg = ndcg_at_k(ranked_node_edges, k)\n",
    "    accum_ndcg += ndcg\n",
    "\n",
    "    node_cnt += 1\n",
    "\n",
    "  score = 1 - (accum_ndcg/node_cnt)\n",
    "  print(f'-- ndcg of link prediction: {score:.6f}')\n",
    "  return score"
   ]
  },
  {
   "cell_type": "code",
   "execution_count": 30,
   "metadata": {},
   "outputs": [],
   "source": [
    "if args.debias_method == 'random':\n",
    "  embeds = th.rand(embeds.shape)"
   ]
  },
  {
   "cell_type": "code",
   "execution_count": 31,
   "metadata": {},
   "outputs": [
    {
     "name": "stdout",
     "output_type": "stream",
     "text": [
      "-- micro-f1 when predicting sensitive lab: 0.8227474150664698\n"
     ]
    },
    {
     "name": "stderr",
     "output_type": "stream",
     "text": [
      "/u/nyw6dh/.conda/envs/pytorch_c116/lib/python3.10/site-packages/sklearn/linear_model/_logistic.py:814: ConvergenceWarning: lbfgs failed to converge (status=1):\n",
      "STOP: TOTAL NO. of ITERATIONS REACHED LIMIT.\n",
      "\n",
      "Increase the number of iterations (max_iter) or scale the data as shown in:\n",
      "    https://scikit-learn.org/stable/modules/preprocessing.html\n",
      "Please also refer to the documentation for alternative solver options:\n",
      "    https://scikit-learn.org/stable/modules/linear_model.html#logistic-regression\n",
      "  n_iter_i = _check_optimize_result(\n"
     ]
    },
    {
     "data": {
      "text/plain": [
       "0.8227474150664698"
      ]
     },
     "execution_count": 31,
     "metadata": {},
     "output_type": "execute_result"
    }
   ],
   "source": [
    "get_f1(embeds, graph)\n",
    "# eval_link_ndcg(embeds.cpu(), graph.cpu())"
   ]
  }
 ],
 "metadata": {
  "kernelspec": {
   "display_name": "Python 3.10.4 ('pytorch_c116')",
   "language": "python",
   "name": "python3"
  },
  "language_info": {
   "codemirror_mode": {
    "name": "ipython",
    "version": 3
   },
   "file_extension": ".py",
   "mimetype": "text/x-python",
   "name": "python",
   "nbconvert_exporter": "python",
   "pygments_lexer": "ipython3",
   "version": "3.10.4"
  },
  "orig_nbformat": 4,
  "vscode": {
   "interpreter": {
    "hash": "ace00f8df87249d7fb913fbec74912fd8ad566274bc64c0a2570c224c3461cb4"
   }
  }
 },
 "nbformat": 4,
 "nbformat_minor": 2
}
