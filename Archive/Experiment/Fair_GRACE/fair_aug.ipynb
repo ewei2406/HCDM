{
 "cells": [
  {
   "cell_type": "code",
   "execution_count": 1,
   "metadata": {},
   "outputs": [],
   "source": [
    "import torch\n",
    "import numpy as np\n",
    "\n",
    "def load_user_attributes_movielens(file, M):\n",
    "    #(gender, age, occupation)\n",
    "    user_attributes = {}\n",
    "    gender_dist = {'F':0, 'M':0}\n",
    "    age_dist = {1:0, 18:0, 25:0, 35:0, 45:0, 50:0, 56:0}\n",
    "    occupation_dist = {occup:0 for occup in range(21)}\n",
    "\n",
    "    with open(file, 'r') as fin:\n",
    "        lines = fin.readlines()\n",
    "        for line in lines:\n",
    "            eachline = line.strip().split('::')\n",
    "            user_idx = int(eachline[0])\n",
    "            gender = eachline[1]\n",
    "            age = int(eachline[2])\n",
    "            occupation = int(eachline[3])\n",
    "            user_attributes[user_idx] = (gender, age, occupation)\n",
    "\n",
    "    return user_attributes\n"
   ]
  },
  {
   "cell_type": "code",
   "execution_count": 2,
   "metadata": {},
   "outputs": [
    {
     "name": "stdout",
     "output_type": "stream",
     "text": [
      "Precomputed weights for weighting-based debiasing UGE-W Loaded\n",
      "Creating DGL graph...\n",
      "Finished data loading and preprocessing.\n",
      "  NumNodes: 9992\n",
      "  NumEdges: 2010410\n",
      "  NumFeats: 18\n"
     ]
    }
   ],
   "source": [
    "import argparse\n",
    "from model import Grace\n",
    "from aug import aug\n",
    "from dataset import load\n",
    "\n",
    "import numpy as np\n",
    "import torch as th\n",
    "import torch.nn as nn\n",
    "\n",
    "from eval import label_classification, eval_unbiasedness_movielens\n",
    "import warnings\n",
    "\n",
    "warnings.filterwarnings('ignore')\n",
    "\n",
    "\n",
    "def count_parameters(model):\n",
    "    return sum([np.prod(p.size()) for p in model.parameters() if p.requires_grad])\n",
    "\n",
    "\n",
    "parser = argparse.ArgumentParser()\n",
    "parser.add_argument('--dataname', type=str, default='movielens')\n",
    "parser.add_argument('--gpu', type=int, default=0)\n",
    "parser.add_argument('--split', type=str, default='random')\n",
    "parser.add_argument('--debias_method', type=str, default='uge-w', choices=['uge-r', 'uge-w', 'uge-c', 'none'], help='debiasing method to apply')\n",
    "parser.add_argument('--debias_attr', type=str, default='age', help='sensitive attribute to be debiased')\n",
    "parser.add_argument('--reg_weight', type=float, default=0.2, help='weight for the regularization based debiasing term')  \n",
    "\n",
    "parser.add_argument('--epochs', type=int, default=100, help='Number of training periods.')\n",
    "parser.add_argument('--lr', type=float, default=0.001, help='Learning rate.')\n",
    "parser.add_argument('--wd', type=float, default=1e-5, help='Weight decay.')\n",
    "parser.add_argument('--temp', type=float, default=1.0, help='Temperature.')\n",
    "\n",
    "parser.add_argument('--act_fn', type=str, default='relu')\n",
    "\n",
    "parser.add_argument(\"--hid_dim\", type=int, default=256, help='Hidden layer dim.')\n",
    "parser.add_argument(\"--out_dim\", type=int, default=256, help='Output layer dim.')\n",
    "\n",
    "parser.add_argument(\"--num_layers\", type=int, default=2, help='Number of GNN layers.')\n",
    "parser.add_argument('--der1', type=float, default=0.2, help='Drop edge ratio of the 1st augmentation.')\n",
    "parser.add_argument('--der2', type=float, default=0.2, help='Drop edge ratio of the 2nd augmentation.')\n",
    "parser.add_argument('--dfr1', type=float, default=0.2, help='Drop feature ratio of the 1st augmentation.')\n",
    "parser.add_argument('--dfr2', type=float, default=0.2, help='Drop feature ratio of the 2nd augmentation.')\n",
    "\n",
    "args = parser.parse_args(\"\")\n",
    "\n",
    "if args.gpu != -1 and th.cuda.is_available():\n",
    "    args.device = 'cuda:{}'.format(args.gpu)\n",
    "else:\n",
    "    args.device = 'cpu'\n",
    "\n",
    "# Step 1: Load hyperparameters =================================================================== #\n",
    "lr = args.lr\n",
    "hid_dim = args.hid_dim\n",
    "out_dim = args.out_dim\n",
    "\n",
    "num_layers = args.num_layers\n",
    "act_fn = ({'relu': nn.ReLU(), 'prelu': nn.PReLU()})[args.act_fn]\n",
    "\n",
    "drop_edge_rate_1 = args.der1\n",
    "drop_edge_rate_2 = args.der2\n",
    "drop_feature_rate_1 = args.dfr1\n",
    "drop_feature_rate_2 = args.dfr2\n",
    "\n",
    "temp = args.temp\n",
    "epochs = args.epochs\n",
    "wd = args.wd\n",
    "debias_method = args.debias_method\n",
    "\n",
    "# Step 2: Prepare data =================================================================== #\n",
    "if debias_method in ['uge-w', 'uge-c']:\n",
    "    dataset = '{}_debias_{}'.format(args.dataname, args.debias_attr)\n",
    "else:\n",
    "    dataset = args.dataname\n",
    "\n",
    "graph = load(dataset)\n",
    "in_dim = graph.ndata['feat'].shape[1]"
   ]
  },
  {
   "cell_type": "code",
   "execution_count": 3,
   "metadata": {},
   "outputs": [],
   "source": [
    "from dataset import SENSITIVE_ATTR_DICT  # predefined sensitive attributes for different datasets\n",
    "from dataset import DATA_FOLDER, RAW_FOLDER\n",
    "\n",
    "M = 6040 + 1\n",
    "N = 3952 + 1\n",
    "\n",
    "user_attributes = load_user_attributes_movielens('{}/ml-1m/users.dat'.format(RAW_FOLDER), M)\n",
    "\n",
    "genders = np.array([int(user_attributes[i][0]=='M') for i in range(1, M)])\n",
    "ages = np.array([int(user_attributes[i][1]) for i in range(1, M)])\n",
    "occupations = np.array([int(user_attributes[i][2]) for i in range(1, M)])"
   ]
  },
  {
   "cell_type": "code",
   "execution_count": 7,
   "metadata": {},
   "outputs": [
    {
     "ename": "NameError",
     "evalue": "name 'a' is not defined",
     "output_type": "error",
     "traceback": [
      "\u001b[0;31m---------------------------------------------------------------------------\u001b[0m",
      "\u001b[0;31mNameError\u001b[0m                                 Traceback (most recent call last)",
      "\u001b[1;32m/u/nyw6dh/HCDM/Experiment/Fair_GRACE/fair_aug.ipynb Cell 4'\u001b[0m in \u001b[0;36m<cell line: 1>\u001b[0;34m()\u001b[0m\n\u001b[0;32m----> <a href='vscode-notebook-cell://ssh-remote%2Bhcdmg2.cs.virginia.edu/u/nyw6dh/HCDM/Experiment/Fair_GRACE/fair_aug.ipynb#ch0000007vscode-remote?line=0'>1</a>\u001b[0m a\u001b[39m.\u001b[39medges\n",
      "\u001b[0;31mNameError\u001b[0m: name 'a' is not defined"
     ]
    }
   ],
   "source": []
  },
  {
   "cell_type": "code",
   "execution_count": 9,
   "metadata": {},
   "outputs": [
    {
     "data": {
      "text/plain": [
       "6040"
      ]
     },
     "execution_count": 9,
     "metadata": {},
     "output_type": "execute_result"
    }
   ],
   "source": [
    "genders.shape[0]"
   ]
  },
  {
   "cell_type": "code",
   "execution_count": 11,
   "metadata": {},
   "outputs": [],
   "source": [
    "class FairAugMatr:\n",
    "  def __init__(self, graph, sens_attr_list):\n",
    "    adj = graph.adj()\n",
    "\n",
    "    self.sens_attr_list = sens_attr_list\n",
    "    def sim(edge):\n",
    "      if edge[0] < self.sens_attr_list.shape[0] and edge[1] < self.sens_attr_list.shape[0]:\n",
    "        return self.sens_attr_list[edge[0]] == self.sens_attr_list[edge[1]]\n",
    "      else:\n",
    "        return False\n",
    "\n",
    "\n",
    "    self.edges = adj.coalesce().indices().t()\n",
    "    self.weights = [sim(edge) for edge in self.edges]\n",
    "\n",
    "\n",
    "    # self.matr = torch.sparse_coo_tensor(torch.tensor([[],[]]), torch.tensor([]), adj.shape)\n",
    "    # self.sens_attr_list = sens_attr_list\n",
    "\n",
    "    # for edge in self.edges:\n",
    "    #   print(edge)\n",
    "\n",
    "\n",
    "a = FairAugMatr(graph, genders)"
   ]
  },
  {
   "cell_type": "code",
   "execution_count": 16,
   "metadata": {},
   "outputs": [
    {
     "data": {
      "text/plain": [
       "tensor(6040)"
      ]
     },
     "execution_count": 16,
     "metadata": {},
     "output_type": "execute_result"
    }
   ],
   "source": [
    "a.weights.sum()"
   ]
  }
 ],
 "metadata": {
  "kernelspec": {
   "display_name": "Python 3.10.4 ('pytorch_c116')",
   "language": "python",
   "name": "python3"
  },
  "language_info": {
   "codemirror_mode": {
    "name": "ipython",
    "version": 3
   },
   "file_extension": ".py",
   "mimetype": "text/x-python",
   "name": "python",
   "nbconvert_exporter": "python",
   "pygments_lexer": "ipython3",
   "version": "3.10.4"
  },
  "orig_nbformat": 4,
  "vscode": {
   "interpreter": {
    "hash": "ace00f8df87249d7fb913fbec74912fd8ad566274bc64c0a2570c224c3461cb4"
   }
  }
 },
 "nbformat": 4,
 "nbformat_minor": 2
}
