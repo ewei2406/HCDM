{
 "cells": [
  {
   "cell_type": "code",
   "execution_count": 25,
   "metadata": {},
   "outputs": [
    {
     "name": "stdout",
     "output_type": "stream",
     "text": [
      "Precomputed weights for weighting-based debiasing UGE-W Loaded\n",
      "Creating DGL graph...\n",
      "Finished data loading and preprocessing.\n",
      "  NumNodes: 66569\n",
      "  NumEdges: 1100663\n",
      "  NumFeats: 262\n"
     ]
    }
   ],
   "source": [
    "import argparse\n",
    "from model import Grace\n",
    "from aug import aug\n",
    "from dataset import load\n",
    "\n",
    "import numpy as np\n",
    "import torch as th\n",
    "import torch.nn as nn\n",
    "\n",
    "from eval import label_classification, eval_unbiasedness_movielens\n",
    "import warnings\n",
    "\n",
    "warnings.filterwarnings('ignore')\n",
    "\n",
    "\n",
    "def count_parameters(model):\n",
    "    return sum([np.prod(p.size()) for p in model.parameters() if p.requires_grad])\n",
    "\n",
    "\n",
    "parser = argparse.ArgumentParser()\n",
    "parser.add_argument('--dataname', type=str, default='pokec-n')\n",
    "parser.add_argument('--gpu', type=int, default=1)\n",
    "parser.add_argument('--split', type=str, default='random')\n",
    "parser.add_argument('--debias_method', type=str, default='uge-w', choices=['uge-r', 'uge-w', 'uge-c', 'none'], help='debiasing method to apply')\n",
    "parser.add_argument('--debias_attr', type=str, default='age', help='sensitive attribute to be debiased')\n",
    "parser.add_argument('--reg_weight', type=float, default=0.2, help='weight for the regularization based debiasing term')  \n",
    "\n",
    "parser.add_argument('--epochs', type=int, default=100, help='Number of training periods.')\n",
    "parser.add_argument('--lr', type=float, default=0.001, help='Learning rate.')\n",
    "parser.add_argument('--wd', type=float, default=1e-5, help='Weight decay.')\n",
    "parser.add_argument('--temp', type=float, default=1.0, help='Temperature.')\n",
    "\n",
    "parser.add_argument('--act_fn', type=str, default='relu')\n",
    "\n",
    "parser.add_argument(\"--hid_dim\", type=int, default=256, help='Hidden layer dim.')\n",
    "parser.add_argument(\"--out_dim\", type=int, default=256, help='Output layer dim.')\n",
    "\n",
    "parser.add_argument(\"--num_layers\", type=int, default=2, help='Number of GNN layers.')\n",
    "parser.add_argument('--der1', type=float, default=0.2, help='Drop edge ratio of the 1st augmentation.')\n",
    "parser.add_argument('--der2', type=float, default=0.2, help='Drop edge ratio of the 2nd augmentation.')\n",
    "parser.add_argument('--dfr1', type=float, default=0.2, help='Drop feature ratio of the 1st augmentation.')\n",
    "parser.add_argument('--dfr2', type=float, default=0.2, help='Drop feature ratio of the 2nd augmentation.')\n",
    "\n",
    "args = parser.parse_args(\"\")\n",
    "\n",
    "if args.gpu != -1 and th.cuda.is_available():\n",
    "    args.device = 'cuda:{}'.format(args.gpu)\n",
    "else:\n",
    "    args.device = 'cpu'\n",
    "\n",
    "# Step 1: Load hyperparameters =================================================================== #\n",
    "lr = args.lr\n",
    "hid_dim = args.hid_dim\n",
    "out_dim = args.out_dim\n",
    "\n",
    "num_layers = args.num_layers\n",
    "act_fn = ({'relu': nn.ReLU(), 'prelu': nn.PReLU()})[args.act_fn]\n",
    "\n",
    "drop_edge_rate_1 = args.der1\n",
    "drop_edge_rate_2 = args.der2\n",
    "drop_feature_rate_1 = args.dfr1\n",
    "drop_feature_rate_2 = args.dfr2\n",
    "\n",
    "temp = args.temp\n",
    "epochs = args.epochs\n",
    "wd = args.wd\n",
    "debias_method = args.debias_method\n",
    "\n",
    "# Step 2: Prepare data =================================================================== #\n",
    "if debias_method in ['uge-w', 'uge-c']:\n",
    "    dataset = '{}_debias_{}'.format(args.dataname, args.debias_attr)\n",
    "else:\n",
    "    dataset = args.dataname\n",
    "\n",
    "raw_graph = load(dataset)\n",
    "in_dim = graph.ndata['feat'].shape[1]"
   ]
  },
  {
   "cell_type": "code",
   "execution_count": 26,
   "metadata": {},
   "outputs": [
    {
     "data": {
      "text/plain": [
       "Graph(num_nodes=6555, num_edges=16695,\n",
       "      ndata_schemes={'feat': Scheme(shape=(262,), dtype=torch.float32), 'label': Scheme(shape=(), dtype=torch.int64), 'gender': Scheme(shape=(), dtype=torch.int64), 'region': Scheme(shape=(), dtype=torch.int64), 'AGE': Scheme(shape=(), dtype=torch.int64), 'train_mask': Scheme(shape=(), dtype=torch.bool), 'val_mask': Scheme(shape=(), dtype=torch.bool), 'test_mask': Scheme(shape=(), dtype=torch.bool), '_ID': Scheme(shape=(), dtype=torch.int64)}\n",
       "      edata_schemes={'weight': Scheme(shape=(), dtype=torch.float32), '_ID': Scheme(shape=(), dtype=torch.int64)})"
      ]
     },
     "execution_count": 26,
     "metadata": {},
     "output_type": "execute_result"
    }
   ],
   "source": [
    "sample = (th.bernoulli(th.full([raw_graph.num_nodes()], 0.1)) == 1).nonzero().squeeze()\n",
    "graph = raw_graph.subgraph(sample)\n",
    "graph"
   ]
  },
  {
   "cell_type": "code",
   "execution_count": 27,
   "metadata": {},
   "outputs": [
    {
     "name": "stdout",
     "output_type": "stream",
     "text": [
      "Group finished.\n",
      "  attr_comb_group_num: 306\n",
      "  nobias_attr_comb_group_num: 306\n"
     ]
    }
   ],
   "source": [
    "from dataset import SENSITIVE_ATTR_DICT  # predefined sensitive attributes for different datasets\n",
    "from dataset import DATA_FOLDER\n",
    "import pandas as pd\n",
    "\n",
    "SENSITIVE_ATTR_DICT = {\n",
    "    'movielens': ['gender', 'occupation', 'age'],\n",
    "    'pokec': ['gender', 'region', 'AGE'],\n",
    "    'pokec-z': ['gender', 'region', 'AGE'],\n",
    "    'pokec-n': ['gender', 'region', 'AGE'],\n",
    "}\n",
    "# Group nodes\n",
    "debias_attr = args.debias_attr\n",
    "attribute_list = SENSITIVE_ATTR_DICT[args.dataname]\n",
    "\n",
    "non_sens_attr_ls = [attr for attr in attribute_list if attr!=debias_attr]\n",
    "non_sens_attr_idx = [i for i in range(len(attribute_list)) if attribute_list[i]!=debias_attr]\n",
    "\n",
    "attribute_file = '{}/{}_node_attribute.csv'.format(DATA_FOLDER, args.dataname)\n",
    "node_attributes = pd.read_csv(attribute_file)\n",
    "\n",
    "attr_comb_groups = node_attributes.groupby(attribute_list)\n",
    "nobias_comb_groups = node_attributes.groupby(non_sens_attr_ls)\n",
    "\n",
    "attr_comb_groups_map = {tuple(group[1].iloc[0]):list(group[1].index) \n",
    "                        for group in attr_comb_groups}\n",
    "nobias_attr_comb_groups_map = {tuple(group[1].iloc[0][non_sens_attr_ls]):list(group[1].index) \n",
    "                            for group in nobias_comb_groups}\n",
    "\n",
    "print ('Group finished.')\n",
    "print ('  attr_comb_group_num:', len(attr_comb_groups_map.keys()))\n",
    "print ('  nobias_attr_comb_group_num:', len(nobias_attr_comb_groups_map.keys()))"
   ]
  },
  {
   "cell_type": "code",
   "execution_count": 28,
   "metadata": {},
   "outputs": [],
   "source": [
    "def map_tuple(x, index_ls):\n",
    "  return tuple([x[idx] for idx in index_ls])\n",
    "\n",
    "def mem_eff_matmul_mean(mtx1, mtx2):\n",
    "  mtx1_rows = list(mtx1.shape)[0]\n",
    "  if mtx1_rows <= 1000:\n",
    "    return th.mean(th.matmul(mtx1, mtx2))\n",
    "  else:\n",
    "    value_sum = 0\n",
    "    for i in range(mtx1_rows // 1000):\n",
    "      value_sum += th.sum(th.matmul(mtx1[i*1000:(i+1)*1000, :], mtx2))\n",
    "    if mtx1_rows % 1000 != 0:\n",
    "      value_sum += th.sum(th.matmul(mtx1[(i+1)*1000:, :], mtx2))\n",
    "    return value_sum / (list(mtx1.shape)[0] * list(mtx2.shape)[1])"
   ]
  },
  {
   "cell_type": "code",
   "execution_count": 30,
   "metadata": {},
   "outputs": [
    {
     "data": {
      "text/plain": [
       "tensor(1100663.)"
      ]
     },
     "execution_count": 30,
     "metadata": {},
     "output_type": "execute_result"
    }
   ],
   "source": [
    "graph.adj().coalesce().values().sum()"
   ]
  },
  {
   "cell_type": "code",
   "execution_count": 29,
   "metadata": {},
   "outputs": [
    {
     "data": {
      "text/plain": [
       "(tensor(9870.2578), tensor(7761.9302))"
      ]
     },
     "execution_count": 29,
     "metadata": {},
     "output_type": "execute_result"
    }
   ],
   "source": [
    "target_edge_num = graph.num_edges() * (1 - 0.1)\n",
    "expected_edges = graph.edata['weight'].sum()\n",
    "\n",
    "new_weights = (graph.edata['weight'] * target_edge_num / expected_edges).clamp(0,1)\n",
    "# graph.adj() * target_edge_num / expected_edges\n",
    "\n",
    "expected_edges, new_weights.sum()"
   ]
  },
  {
   "cell_type": "code",
   "execution_count": 33,
   "metadata": {},
   "outputs": [],
   "source": [
    "def map_tuple(x, index_ls):\n",
    "  return tuple([x[idx] for idx in index_ls])\n",
    "\n",
    "def mem_eff_matmul_mean(mtx1, mtx2):\n",
    "  mtx1_rows = list(mtx1.shape)[0]\n",
    "  if mtx1_rows <= 1000:\n",
    "    return th.mean(th.matmul(mtx1, mtx2))\n",
    "  else:\n",
    "    value_sum = 0\n",
    "    for i in range(mtx1_rows // 1000):\n",
    "      value_sum += th.sum(th.matmul(mtx1[i*1000:(i+1)*1000, :], mtx2))\n",
    "    if mtx1_rows % 1000 != 0:\n",
    "      value_sum += th.sum(th.matmul(mtx1[(i+1)*1000:, :], mtx2))\n",
    "    return value_sum / (list(mtx1.shape)[0] * list(mtx2.shape)[1])"
   ]
  },
  {
   "cell_type": "code",
   "execution_count": 36,
   "metadata": {},
   "outputs": [],
   "source": [
    "import torch as th\n",
    "import dgl\n",
    "\n",
    "def aug(graph, x, feat_drop_rate, edge_mask_rate):\n",
    "    n_node = graph.num_nodes()\n",
    "\n",
    "    edge_mask = mask_edge(graph, edge_mask_rate)\n",
    "    feat = drop_feature(x, feat_drop_rate)\n",
    "\n",
    "    src = graph.edges()[0]\n",
    "    dst = graph.edges()[1]\n",
    "\n",
    "    nsrc = src[edge_mask]\n",
    "    ndst = dst[edge_mask]\n",
    "\n",
    "    ng = dgl.graph((nsrc, ndst), num_nodes=n_node)\n",
    "    ng = ng.add_self_loop()\n",
    "\n",
    "    return ng, feat\n",
    "\n",
    "def drop_feature(x, drop_prob):\n",
    "    drop_mask = th.empty((x.size(1),),\n",
    "                        dtype=th.float32,\n",
    "                        device=x.device).uniform_(0, 1) < drop_prob\n",
    "    x = x.clone()\n",
    "    x[:, drop_mask] = 0\n",
    "\n",
    "    return x\n",
    "\n",
    "def mask_edge(graph, mask_prob):\n",
    "    E = graph.num_edges()\n",
    "\n",
    "    mask_rates = th.FloatTensor(np.ones(E) * mask_prob)\n",
    "    masks = th.bernoulli(1 - mask_rates)\n",
    "    mask_idx = masks.nonzero().squeeze(1)\n",
    "    return mask_idx"
   ]
  },
  {
   "cell_type": "code",
   "execution_count": 37,
   "metadata": {},
   "outputs": [
    {
     "name": "stdout",
     "output_type": "stream",
     "text": [
      "# params: 397568\n",
      "Epoch=000, loss=9.3547\n",
      "Epoch=001, loss=9.1729\n",
      "Epoch=002, loss=9.0379\n",
      "Epoch=003, loss=8.9753\n",
      "Epoch=004, loss=8.9442\n",
      "Epoch=005, loss=8.9675\n",
      "Epoch=006, loss=8.9376\n",
      "Epoch=007, loss=8.9489\n",
      "Epoch=008, loss=8.8979\n",
      "Epoch=009, loss=8.9387\n",
      "Epoch=010, loss=8.9379\n",
      "Epoch=011, loss=8.8713\n",
      "Epoch=012, loss=8.9295\n",
      "Epoch=013, loss=8.9050\n",
      "Epoch=014, loss=8.8450\n",
      "Epoch=015, loss=8.8625\n",
      "Epoch=016, loss=8.8268\n",
      "Epoch=017, loss=8.8280\n",
      "Epoch=018, loss=8.8366\n",
      "Epoch=019, loss=8.8102\n",
      "Epoch=020, loss=8.8102\n",
      "Epoch=021, loss=8.8117\n",
      "Epoch=022, loss=8.8109\n",
      "Epoch=023, loss=8.7857\n",
      "Epoch=024, loss=8.8277\n",
      "Epoch=025, loss=8.8398\n",
      "Epoch=026, loss=8.7992\n",
      "Epoch=027, loss=8.7617\n",
      "Epoch=028, loss=8.7826\n",
      "Epoch=029, loss=8.8283\n",
      "Epoch=030, loss=8.7886\n",
      "Epoch=031, loss=8.7606\n",
      "Epoch=032, loss=8.7474\n",
      "Epoch=033, loss=8.8182\n",
      "Epoch=034, loss=8.7547\n",
      "Epoch=035, loss=8.8317\n",
      "Epoch=036, loss=8.7551\n",
      "Epoch=037, loss=8.7651\n",
      "Epoch=038, loss=8.7525\n",
      "Epoch=039, loss=8.7718\n",
      "Epoch=040, loss=8.7612\n",
      "Epoch=041, loss=8.7688\n",
      "Epoch=042, loss=8.7307\n",
      "Epoch=043, loss=8.7723\n",
      "Epoch=044, loss=8.7569\n",
      "Epoch=045, loss=8.7350\n",
      "Epoch=046, loss=8.7486\n",
      "Epoch=047, loss=8.8247\n",
      "Epoch=048, loss=8.7651\n",
      "Epoch=049, loss=8.7392\n",
      "Epoch=050, loss=8.7593\n",
      "Epoch=051, loss=8.7678\n",
      "Epoch=052, loss=8.7441\n",
      "Epoch=053, loss=8.7357\n",
      "Epoch=054, loss=8.7333\n",
      "Epoch=055, loss=8.7423\n",
      "Epoch=056, loss=8.7372\n",
      "Epoch=057, loss=8.7621\n",
      "Epoch=058, loss=8.7324\n",
      "Epoch=059, loss=8.7389\n",
      "Epoch=060, loss=8.7710\n",
      "Epoch=061, loss=8.7387\n",
      "Epoch=062, loss=8.7649\n",
      "Epoch=063, loss=8.7276\n",
      "Epoch=064, loss=8.7286\n",
      "Epoch=065, loss=8.7356\n",
      "Epoch=066, loss=8.7381\n",
      "Epoch=067, loss=8.7436\n",
      "Epoch=068, loss=8.7156\n",
      "Epoch=069, loss=8.7186\n",
      "Epoch=070, loss=8.7340\n",
      "Epoch=071, loss=8.7544\n",
      "Epoch=072, loss=8.7173\n",
      "Epoch=073, loss=8.7616\n",
      "Epoch=074, loss=8.7227\n",
      "Epoch=075, loss=8.7288\n",
      "Epoch=076, loss=8.7248\n",
      "Epoch=077, loss=8.7443\n",
      "Epoch=078, loss=8.7423\n",
      "Epoch=079, loss=8.7331\n",
      "Epoch=080, loss=8.7139\n",
      "Epoch=081, loss=8.7236\n",
      "Epoch=082, loss=8.7233\n",
      "Epoch=083, loss=8.7106\n",
      "Epoch=084, loss=8.7171\n",
      "Epoch=085, loss=8.6940\n",
      "Epoch=086, loss=8.7121\n",
      "Epoch=087, loss=8.7092\n",
      "Epoch=088, loss=8.7052\n",
      "Epoch=089, loss=8.7200\n",
      "Epoch=090, loss=8.7646\n",
      "Epoch=091, loss=8.7326\n",
      "Epoch=092, loss=8.7060\n",
      "Epoch=093, loss=8.7974\n",
      "Epoch=094, loss=8.7381\n",
      "Epoch=095, loss=8.7272\n",
      "Epoch=096, loss=8.7156\n",
      "Epoch=097, loss=8.7544\n",
      "Epoch=098, loss=8.7179\n",
      "Epoch=099, loss=8.7350\n",
      "=== Final ===\n"
     ]
    }
   ],
   "source": [
    "import random\n",
    "dr = 0.2\n",
    "# Step 3: Create model =================================================================== #\n",
    "model = Grace(in_dim, hid_dim, out_dim, num_layers, act_fn, temp)\n",
    "model = model.to(args.device)\n",
    "print(f'# params: {count_parameters(model)}')\n",
    "\n",
    "optimizer = th.optim.Adam(model.parameters(), lr=lr, weight_decay=wd)\n",
    "\n",
    "# Step 4: Training =======================================================================\n",
    "for epoch in range(args.epochs):\n",
    "    model.train()\n",
    "    optimizer.zero_grad()\n",
    "    graph1, feat1 = aug(graph, graph.ndata['feat'], feat_drop_rate=dr, edge_mask_rate=dr)\n",
    "    graph2, feat2 = aug(graph, graph.ndata['feat'], feat_drop_rate=dr, edge_mask_rate=dr)\n",
    "\n",
    "    graph1 = graph1.to(args.device)\n",
    "    graph2 = graph2.to(args.device)\n",
    "\n",
    "    feat1 = feat1.to(args.device)\n",
    "    feat2 = feat2.to(args.device)\n",
    "\n",
    "    loss = model(graph1, graph2, feat1, feat2, batch_size=1000)\n",
    "    \n",
    "    # UGE-R\n",
    "    if debias_method in ['uge-r', 'uge-c']:\n",
    "        h1 = model.encoder(graph1, feat1)\n",
    "        h2 = model.encoder(graph2, feat2)\n",
    "        regu_loss = 0\n",
    "        scr_groups = random.sample(list(attr_comb_groups_map.keys()), 100)  \n",
    "        dst_groups = random.sample(list(attr_comb_groups_map.keys()), 100)\n",
    "        nobias_scr_groups = [map_tuple(group, non_sens_attr_idx) for group in scr_groups]\n",
    "        nobias_dst_groups = [map_tuple(group, non_sens_attr_idx) for group in dst_groups]\n",
    "\n",
    "        for group_idx in range(len(scr_groups)):\n",
    "            for view in [h1, h2]:\n",
    "                scr_group_nodes = attr_comb_groups_map[scr_groups[group_idx]]\n",
    "                dsc_group_nodes = attr_comb_groups_map[dst_groups[group_idx]]\n",
    "                \n",
    "                scr_node_embs = view[scr_group_nodes]\n",
    "                dsc_node_embs = view[dsc_group_nodes]\n",
    "                aver_score = mem_eff_matmul_mean(scr_node_embs, dsc_node_embs.T)\n",
    "\n",
    "                nobias_scr_group_nodes = nobias_attr_comb_groups_map[nobias_scr_groups[group_idx]]\n",
    "                nobias_dsc_group_nodes = nobias_attr_comb_groups_map[nobias_dst_groups[group_idx]]\n",
    "                nobias_scr_node_embs = view[nobias_scr_group_nodes]\n",
    "                nobias_dsc_node_embs = view[nobias_dsc_group_nodes]\n",
    "                nobias_aver_score = mem_eff_matmul_mean(nobias_scr_node_embs, nobias_dsc_node_embs.T)\n",
    "\n",
    "                regu_loss += th.square(aver_score - nobias_aver_score)\n",
    "            \n",
    "        print(f\"Epoch={epoch:03d}, loss: {loss.item():.2f}, regu_loss: {regu_loss.item():.2f}\")\n",
    "\n",
    "        loss += args.reg_weight * regu_loss / 1\n",
    "    \n",
    "    loss.backward()\n",
    "    optimizer.step()\n",
    "\n",
    "    print(f'Epoch={epoch:03d}, loss={loss.item():.4f}')\n",
    "\n",
    "# Step 5: Linear evaluation ============================================================== #\n",
    "print(\"=== Final ===\")\n",
    "\n",
    "graph = graph.add_self_loop()\n",
    "graph = graph.to(args.device)\n",
    "embeds = model.get_embedding(graph, graph.ndata['feat'].to(args.device))\n",
    "\n"
   ]
  },
  {
   "cell_type": "code",
   "execution_count": 57,
   "metadata": {},
   "outputs": [
    {
     "data": {
      "text/plain": [
       "100"
      ]
     },
     "execution_count": 57,
     "metadata": {},
     "output_type": "execute_result"
    }
   ],
   "source": [
    "(100, 0)[0]"
   ]
  },
  {
   "cell_type": "code",
   "execution_count": 58,
   "metadata": {},
   "outputs": [
    {
     "data": {
      "text/plain": [
       "<module 'eval' from '/u/nyw6dh/HCDM/Experiment/Fair_GRACE/eval.py'>"
      ]
     },
     "execution_count": 58,
     "metadata": {},
     "output_type": "execute_result"
    }
   ],
   "source": [
    "import importlib\n",
    "importlib.reload(eval)"
   ]
  },
  {
   "cell_type": "code",
   "execution_count": 59,
   "metadata": {},
   "outputs": [
    {
     "name": "stdout",
     "output_type": "stream",
     "text": [
      "loading data ...\n",
      "Unbiasedness evaluation (predicting attribute)\n",
      "(62069,) (2055,)\n",
      "-- micro-f1 when predicting gender: 0.5012165450121655\n",
      "(62069,) (2055,)\n",
      "-- micro-f1 when predicting age: 0.006812652068126521\n",
      "(62069,) (2055,)\n",
      "-- micro-f1 when predicting region: 0.5484184914841849\n",
      "Fairness evaluation (DP & EO)\n"
     ]
    },
    {
     "ename": "IndexError",
     "evalue": "index 65517 is out of bounds for dimension 0 with size 6555",
     "output_type": "error",
     "traceback": [
      "\u001b[0;31m---------------------------------------------------------------------------\u001b[0m",
      "\u001b[0;31mIndexError\u001b[0m                                Traceback (most recent call last)",
      "\u001b[1;32m/u/nyw6dh/HCDM/Experiment/Fair_GRACE/pokec_FG.ipynb Cell 12'\u001b[0m in \u001b[0;36m<cell line: 4>\u001b[0;34m()\u001b[0m\n\u001b[1;32m      <a href='vscode-notebook-cell://ssh-remote%2Bhcdmg2.cs.virginia.edu/u/nyw6dh/HCDM/Experiment/Fair_GRACE/pokec_FG.ipynb#ch0000008vscode-remote?line=1'>2</a>\u001b[0m \u001b[39m'''Evaluation Embeddings  '''\u001b[39;00m\n\u001b[1;32m      <a href='vscode-notebook-cell://ssh-remote%2Bhcdmg2.cs.virginia.edu/u/nyw6dh/HCDM/Experiment/Fair_GRACE/pokec_FG.ipynb#ch0000008vscode-remote?line=2'>3</a>\u001b[0m \u001b[39m# label_classification(embeds, graph.ndata['label'], graph.ndata['train_mask'], graph.ndata['test_mask'], split=args.split)\u001b[39;00m\n\u001b[0;32m----> <a href='vscode-notebook-cell://ssh-remote%2Bhcdmg2.cs.virginia.edu/u/nyw6dh/HCDM/Experiment/Fair_GRACE/pokec_FG.ipynb#ch0000008vscode-remote?line=3'>4</a>\u001b[0m res \u001b[39m=\u001b[39m \u001b[39meval\u001b[39;49m\u001b[39m.\u001b[39;49meval_unbiasedness_pokec(\u001b[39m'\u001b[39;49m\u001b[39mpokec-n\u001b[39;49m\u001b[39m'\u001b[39;49m, embeds\u001b[39m.\u001b[39;49mcpu())\n",
      "File \u001b[0;32m~/HCDM/Experiment/Fair_GRACE/eval.py:402\u001b[0m, in \u001b[0;36meval_unbiasedness_pokec\u001b[0;34m(data_name, embedding, size)\u001b[0m\n\u001b[1;32m    399\u001b[0m group0_nodes \u001b[39m=\u001b[39m np\u001b[39m.\u001b[39mrandom\u001b[39m.\u001b[39mchoice(group0, num_sample_pairs, replace\u001b[39m=\u001b[39m\u001b[39mTrue\u001b[39;00m)\n\u001b[1;32m    400\u001b[0m group1_nodes \u001b[39m=\u001b[39m np\u001b[39m.\u001b[39mrandom\u001b[39m.\u001b[39mchoice(group1, num_sample_pairs, replace\u001b[39m=\u001b[39m\u001b[39mTrue\u001b[39;00m)\n\u001b[0;32m--> 402\u001b[0m pair_scores \u001b[39m=\u001b[39m np\u001b[39m.\u001b[39msum(np\u001b[39m.\u001b[39mmultiply(embedding[group0_nodes], embedding[group1_nodes]), axis\u001b[39m=\u001b[39m\u001b[39m1\u001b[39m)\n\u001b[1;32m    403\u001b[0m DP_prob \u001b[39m=\u001b[39m np\u001b[39m.\u001b[39msum(sigmoid(pair_scores)) \u001b[39m/\u001b[39m num_sample_pairs\n\u001b[1;32m    404\u001b[0m DP_list\u001b[39m.\u001b[39mappend(DP_prob)\n",
      "\u001b[0;31mIndexError\u001b[0m: index 65517 is out of bounds for dimension 0 with size 6555"
     ]
    },
    {
     "ename": "",
     "evalue": "",
     "output_type": "error",
     "traceback": [
      "\u001b[1;31mThe Kernel crashed while executing code in the the current cell or a previous cell. Please review the code in the cell(s) to identify a possible cause of the failure. Click <a href='https://aka.ms/vscodeJupyterKernelCrash'>here</a> for more info. View Jupyter <a href='command:jupyter.viewOutput'>log</a> for further details."
     ]
    }
   ],
   "source": [
    "import eval\n",
    "'''Evaluation Embeddings  '''\n",
    "# label_classification(embeds, graph.ndata['label'], graph.ndata['train_mask'], graph.ndata['test_mask'], split=args.split)\n",
    "res = eval.eval_unbiasedness_pokec('pokec-n', embeds.cpu())"
   ]
  },
  {
   "cell_type": "code",
   "execution_count": null,
   "metadata": {},
   "outputs": [
    {
     "data": {
      "text/plain": [
       "{'unbiasedness': {'gender': 0.5971153846153846,\n",
       "  'age': 0.27884615384615385,\n",
       "  'region': 0.0,\n",
       "  'occupation': 0.058653846153846154},\n",
       " 'utility': 0.09987926919632206}"
      ]
     },
     "execution_count": 6,
     "metadata": {},
     "output_type": "execute_result"
    }
   ],
   "source": [
    "res"
   ]
  },
  {
   "cell_type": "code",
   "execution_count": null,
   "metadata": {},
   "outputs": [
    {
     "data": {
      "text/plain": [
       "0.09987926919632206"
      ]
     },
     "execution_count": 7,
     "metadata": {},
     "output_type": "execute_result"
    }
   ],
   "source": [
    "res['utility']"
   ]
  },
  {
   "cell_type": "code",
   "execution_count": null,
   "metadata": {},
   "outputs": [
    {
     "name": "stdout",
     "output_type": "stream",
     "text": [
      "loading data ...\n",
      "Unbiasedness evaluation (predicting attribute)\n",
      "-- micro-f1 when predicting gender: 0.525\n",
      "-- micro-f1 when predicting age: 0.15865384615384615\n",
      "-- micro-f1 when predicting occupation: 0.04807692307692308\n",
      "Utility evaluation (link prediction)\n",
      "-- ndcg of link prediction: 0.019901697480936703\n"
     ]
    }
   ],
   "source": [
    "res = eval_unbiasedness_movielens('movie', th.randn_like(embeds).cpu())"
   ]
  },
  {
   "cell_type": "code",
   "execution_count": null,
   "metadata": {},
   "outputs": [],
   "source": [
    "import sys\n",
    "sys.path.append(os.path.join('../..'))\n",
    "import Utils.Export as Export\n",
    "\n",
    "results = {\n",
    "  \"dataname\": args.dataname,\n",
    "  \"epochs\": args.epochs,\n",
    "  \"debias_method\": \"random\",\n",
    "  \"debias_attr\": args.debias_attr,\n",
    "  \"reg_weight\": args.reg_weight,\n",
    "  \"temp\": args.temp,\n",
    "  \"der1\": args.der1,\n",
    "  \"der2\": args.der2,\n",
    "  \"dfr1\": args.dfr1,\n",
    "  \"dfr2\": args.dfr2,\n",
    "  \"gender_f1m\": res['unbiasedness']['gender'],\n",
    "  \"age_f1m\": res['unbiasedness']['age'],\n",
    "  \"occupation_f1m\": res['unbiasedness']['occupation'],\n",
    "  \"link_ndcg\": res['utility'],\n",
    "}\n",
    "\n",
    "Export.saveData('./results.csv', results)"
   ]
  }
 ],
 "metadata": {
  "kernelspec": {
   "display_name": "Python 3.10.4 ('pytorch_c116')",
   "language": "python",
   "name": "python3"
  },
  "language_info": {
   "codemirror_mode": {
    "name": "ipython",
    "version": 3
   },
   "file_extension": ".py",
   "mimetype": "text/x-python",
   "name": "python",
   "nbconvert_exporter": "python",
   "pygments_lexer": "ipython3",
   "version": "3.10.4"
  },
  "orig_nbformat": 4,
  "vscode": {
   "interpreter": {
    "hash": "ace00f8df87249d7fb913fbec74912fd8ad566274bc64c0a2570c224c3461cb4"
   }
  }
 },
 "nbformat": 4,
 "nbformat_minor": 2
}
