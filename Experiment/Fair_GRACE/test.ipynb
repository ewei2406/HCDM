{
 "cells": [
  {
   "cell_type": "code",
   "execution_count": 3,
   "metadata": {},
   "outputs": [
    {
     "name": "stdout",
     "output_type": "stream",
     "text": [
      "Precomputed weights for weighting-based debiasing UGE-W Loaded\n",
      "Creating DGL graph...\n",
      "Finished data loading and preprocessing.\n",
      "  NumNodes: 9992\n",
      "  NumEdges: 2010410\n",
      "  NumFeats: 18\n"
     ]
    }
   ],
   "source": [
    "import argparse\n",
    "from model import Grace\n",
    "from aug import aug\n",
    "from dataset import load\n",
    "\n",
    "import numpy as np\n",
    "import torch as th\n",
    "import torch.nn as nn\n",
    "\n",
    "from eval import label_classification, eval_unbiasedness_movielens\n",
    "import warnings\n",
    "\n",
    "warnings.filterwarnings('ignore')\n",
    "\n",
    "\n",
    "def count_parameters(model):\n",
    "    return sum([np.prod(p.size()) for p in model.parameters() if p.requires_grad])\n",
    "\n",
    "\n",
    "parser = argparse.ArgumentParser()\n",
    "parser.add_argument('--dataname', type=str, default='movielens')\n",
    "parser.add_argument('--gpu', type=int, default=0)\n",
    "parser.add_argument('--split', type=str, default='random')\n",
    "parser.add_argument('--debias_method', type=str, default='uge-w', choices=['uge-r', 'uge-w', 'uge-c', 'none'], help='debiasing method to apply')\n",
    "parser.add_argument('--debias_attr', type=str, default='age', help='sensitive attribute to be debiased')\n",
    "parser.add_argument('--reg_weight', type=float, default=0.2, help='weight for the regularization based debiasing term')  \n",
    "\n",
    "parser.add_argument('--epochs', type=int, default=100, help='Number of training periods.')\n",
    "parser.add_argument('--lr', type=float, default=0.001, help='Learning rate.')\n",
    "parser.add_argument('--wd', type=float, default=1e-5, help='Weight decay.')\n",
    "parser.add_argument('--temp', type=float, default=1.0, help='Temperature.')\n",
    "\n",
    "parser.add_argument('--act_fn', type=str, default='relu')\n",
    "\n",
    "parser.add_argument(\"--hid_dim\", type=int, default=256, help='Hidden layer dim.')\n",
    "parser.add_argument(\"--out_dim\", type=int, default=256, help='Output layer dim.')\n",
    "\n",
    "parser.add_argument(\"--num_layers\", type=int, default=2, help='Number of GNN layers.')\n",
    "parser.add_argument('--der1', type=float, default=0.2, help='Drop edge ratio of the 1st augmentation.')\n",
    "parser.add_argument('--der2', type=float, default=0.2, help='Drop edge ratio of the 2nd augmentation.')\n",
    "parser.add_argument('--dfr1', type=float, default=0.2, help='Drop feature ratio of the 1st augmentation.')\n",
    "parser.add_argument('--dfr2', type=float, default=0.2, help='Drop feature ratio of the 2nd augmentation.')\n",
    "\n",
    "args = parser.parse_args(\"\")\n",
    "\n",
    "if args.gpu != -1 and th.cuda.is_available():\n",
    "    args.device = 'cuda:{}'.format(args.gpu)\n",
    "else:\n",
    "    args.device = 'cpu'\n",
    "\n",
    "# Step 1: Load hyperparameters =================================================================== #\n",
    "lr = args.lr\n",
    "hid_dim = args.hid_dim\n",
    "out_dim = args.out_dim\n",
    "\n",
    "num_layers = args.num_layers\n",
    "act_fn = ({'relu': nn.ReLU(), 'prelu': nn.PReLU()})[args.act_fn]\n",
    "\n",
    "drop_edge_rate_1 = args.der1\n",
    "drop_edge_rate_2 = args.der2\n",
    "drop_feature_rate_1 = args.dfr1\n",
    "drop_feature_rate_2 = args.dfr2\n",
    "\n",
    "temp = args.temp\n",
    "epochs = args.epochs\n",
    "wd = args.wd\n",
    "debias_method = args.debias_method\n",
    "\n",
    "# Step 2: Prepare data =================================================================== #\n",
    "if debias_method in ['uge-w', 'uge-c']:\n",
    "    dataset = '{}_debias_{}'.format(args.dataname, args.debias_attr)\n",
    "else:\n",
    "    dataset = args.dataname\n",
    "\n",
    "graph = load(dataset)\n",
    "in_dim = graph.ndata['feat'].shape[1]"
   ]
  },
  {
   "cell_type": "code",
   "execution_count": 4,
   "metadata": {},
   "outputs": [
    {
     "name": "stdout",
     "output_type": "stream",
     "text": [
      "Group finished.\n",
      "  attr_comb_group_num: 242\n",
      "  nobias_attr_comb_group_num: 43\n"
     ]
    }
   ],
   "source": [
    "from dataset import SENSITIVE_ATTR_DICT  # predefined sensitive attributes for different datasets\n",
    "from dataset import DATA_FOLDER\n",
    "import pandas as pd\n",
    "\n",
    "# Group nodes\n",
    "debias_attr = args.debias_attr\n",
    "attribute_list = SENSITIVE_ATTR_DICT[args.dataname]\n",
    "\n",
    "non_sens_attr_ls = [attr for attr in attribute_list if attr!=debias_attr]\n",
    "non_sens_attr_idx = [i for i in range(len(attribute_list)) if attribute_list[i]!=debias_attr]\n",
    "\n",
    "attribute_file = '{}/{}_node_attribute.csv'.format(DATA_FOLDER, args.dataname)\n",
    "node_attributes = pd.read_csv(attribute_file)\n",
    "\n",
    "attr_comb_groups = node_attributes.groupby(attribute_list)\n",
    "nobias_comb_groups = node_attributes.groupby(non_sens_attr_ls)\n",
    "\n",
    "attr_comb_groups_map = {tuple(group[1].iloc[0]):list(group[1].index) \n",
    "                        for group in attr_comb_groups}\n",
    "nobias_attr_comb_groups_map = {tuple(group[1].iloc[0][non_sens_attr_ls]):list(group[1].index) \n",
    "                            for group in nobias_comb_groups}\n",
    "\n",
    "print ('Group finished.')\n",
    "print ('  attr_comb_group_num:', len(attr_comb_groups_map.keys()))\n",
    "print ('  nobias_attr_comb_group_num:', len(nobias_attr_comb_groups_map.keys()))"
   ]
  },
  {
   "cell_type": "code",
   "execution_count": 5,
   "metadata": {},
   "outputs": [],
   "source": [
    "def map_tuple(x, index_ls):\n",
    "  return tuple([x[idx] for idx in index_ls])\n",
    "\n",
    "def mem_eff_matmul_mean(mtx1, mtx2):\n",
    "  mtx1_rows = list(mtx1.shape)[0]\n",
    "  if mtx1_rows <= 1000:\n",
    "    return th.mean(th.matmul(mtx1, mtx2))\n",
    "  else:\n",
    "    value_sum = 0\n",
    "    for i in range(mtx1_rows // 1000):\n",
    "      value_sum += th.sum(th.matmul(mtx1[i*1000:(i+1)*1000, :], mtx2))\n",
    "    if mtx1_rows % 1000 != 0:\n",
    "      value_sum += th.sum(th.matmul(mtx1[(i+1)*1000:, :], mtx2))\n",
    "    return value_sum / (list(mtx1.shape)[0] * list(mtx2.shape)[1])"
   ]
  },
  {
   "cell_type": "code",
   "execution_count": 6,
   "metadata": {},
   "outputs": [
    {
     "name": "stdout",
     "output_type": "stream",
     "text": [
      "# params: 272640\n",
      "=== Final ===\n"
     ]
    }
   ],
   "source": [
    "import random\n",
    "dr = 0.4\n",
    "# Step 3: Create model =================================================================== #\n",
    "model = Grace(in_dim, hid_dim, out_dim, num_layers, act_fn, temp)\n",
    "model = model.to(args.device)\n",
    "print(f'# params: {count_parameters(model)}')\n",
    "\n",
    "optimizer = th.optim.Adam(model.parameters(), lr=lr, weight_decay=wd)\n",
    "\n",
    "# Step 4: Training =======================================================================\n",
    "for epoch in range(args.epochs):\n",
    "    model.train()\n",
    "    optimizer.zero_grad()\n",
    "    graph1, feat1 = aug(graph, graph.ndata['feat'], feat_drop_rate=dr, edge_mask_rate=dr)\n",
    "    graph2, feat2 = aug(graph, graph.ndata['feat'], feat_drop_rate=dr, edge_mask_rate=dr)\n",
    "\n",
    "    graph1 = graph1.to(args.device)\n",
    "    graph2 = graph2.to(args.device)\n",
    "\n",
    "    feat1 = feat1.to(args.device)\n",
    "    feat2 = feat2.to(args.device)\n",
    "\n",
    "    loss = model(graph1, graph2, feat1, feat2)\n",
    "    \n",
    "    # UGE-R\n",
    "    if debias_method in ['uge-r', 'uge-c']:\n",
    "        h1 = model.encoder(graph1, feat1)\n",
    "        h2 = model.encoder(graph2, feat2)\n",
    "        regu_loss = 0\n",
    "        scr_groups = random.sample(list(attr_comb_groups_map.keys()), 100)  \n",
    "        dst_groups = random.sample(list(attr_comb_groups_map.keys()), 100)\n",
    "        nobias_scr_groups = [map_tuple(group, non_sens_attr_idx) for group in scr_groups]\n",
    "        nobias_dst_groups = [map_tuple(group, non_sens_attr_idx) for group in dst_groups]\n",
    "\n",
    "        for group_idx in range(len(scr_groups)):\n",
    "            for view in [h1, h2]:\n",
    "                scr_group_nodes = attr_comb_groups_map[scr_groups[group_idx]]\n",
    "                dsc_group_nodes = attr_comb_groups_map[dst_groups[group_idx]]\n",
    "                \n",
    "                scr_node_embs = view[scr_group_nodes]\n",
    "                dsc_node_embs = view[dsc_group_nodes]\n",
    "                aver_score = mem_eff_matmul_mean(scr_node_embs, dsc_node_embs.T)\n",
    "\n",
    "                nobias_scr_group_nodes = nobias_attr_comb_groups_map[nobias_scr_groups[group_idx]]\n",
    "                nobias_dsc_group_nodes = nobias_attr_comb_groups_map[nobias_dst_groups[group_idx]]\n",
    "                nobias_scr_node_embs = view[nobias_scr_group_nodes]\n",
    "                nobias_dsc_node_embs = view[nobias_dsc_group_nodes]\n",
    "                nobias_aver_score = mem_eff_matmul_mean(nobias_scr_node_embs, nobias_dsc_node_embs.T)\n",
    "\n",
    "                regu_loss += th.square(aver_score - nobias_aver_score)\n",
    "            \n",
    "        print(f\"Epoch={epoch:03d}, loss: {loss.item():.2f}, regu_loss: {regu_loss.item():.2f}\")\n",
    "\n",
    "        loss += args.reg_weight * regu_loss / 1\n",
    "    \n",
    "    loss.backward()\n",
    "    optimizer.step()\n",
    "\n",
    "    # print(f'Epoch={epoch:03d}, loss={loss.item():.4f}')\n",
    "\n",
    "# Step 5: Linear evaluation ============================================================== #\n",
    "print(\"=== Final ===\")\n",
    "\n",
    "graph = graph.add_self_loop()\n",
    "graph = graph.to(args.device)\n",
    "embeds = model.get_embedding(graph, graph.ndata['feat'].to(args.device))\n",
    "\n"
   ]
  },
  {
   "cell_type": "code",
   "execution_count": 24,
   "metadata": {},
   "outputs": [
    {
     "name": "stdout",
     "output_type": "stream",
     "text": [
      "loading data ...\n",
      "Unbiasedness evaluation (predicting attribute)\n",
      "-- micro-f1 when predicting gender: 0.5173076923076924\n",
      "-- micro-f1 when predicting age: 0.21538461538461537\n",
      "-- micro-f1 when predicting occupation: 0.0375\n",
      "Utility evaluation (link prediction)\n",
      "-- ndcg of link prediction: 0.33483514037402984\n"
     ]
    }
   ],
   "source": [
    "from eval import label_classification, eval_unbiasedness_movielens\n",
    "'''Evaluation Embeddings  '''\n",
    "# label_classification(embeds, graph.ndata['label'], graph.ndata['train_mask'], graph.ndata['test_mask'], split=args.split)\n",
    "res = eval_unbiasedness_movielens('movie', embeds.cpu())"
   ]
  },
  {
   "cell_type": "code",
   "execution_count": 16,
   "metadata": {},
   "outputs": [
    {
     "data": {
      "text/plain": [
       "{'unbiasedness': {'gender': 0.5144230769230769,\n",
       "  'age': 0.2048076923076923,\n",
       "  'region': 0.0,\n",
       "  'occupation': 0.025000000000000005},\n",
       " 'utility': 0.30889438047696893}"
      ]
     },
     "execution_count": 16,
     "metadata": {},
     "output_type": "execute_result"
    }
   ],
   "source": [
    "res"
   ]
  },
  {
   "cell_type": "code",
   "execution_count": 18,
   "metadata": {},
   "outputs": [
    {
     "data": {
      "text/plain": [
       "0.30889438047696893"
      ]
     },
     "execution_count": 18,
     "metadata": {},
     "output_type": "execute_result"
    }
   ],
   "source": [
    "res['utility']"
   ]
  },
  {
   "cell_type": "code",
   "execution_count": 12,
   "metadata": {},
   "outputs": [
    {
     "name": "stdout",
     "output_type": "stream",
     "text": [
      "loading data ...\n",
      "Unbiasedness evaluation (predicting attribute)\n",
      "-- micro-f1 when predicting gender: 0.5423076923076923\n",
      "-- micro-f1 when predicting age: 0.11153846153846154\n",
      "-- micro-f1 when predicting occupation: 0.047115384615384615\n",
      "Utility evaluation (link prediction)\n"
     ]
    },
    {
     "ename": "KeyboardInterrupt",
     "evalue": "",
     "output_type": "error",
     "traceback": [
      "\u001b[0;31m---------------------------------------------------------------------------\u001b[0m",
      "\u001b[0;31mKeyboardInterrupt\u001b[0m                         Traceback (most recent call last)",
      "\u001b[1;32m/u/nyw6dh/HCDM/Experiment/Fair_GRACE/test.ipynb Cell 6'\u001b[0m in \u001b[0;36m<cell line: 1>\u001b[0;34m()\u001b[0m\n\u001b[0;32m----> <a href='vscode-notebook-cell://ssh-remote%2Bhcdmg2.cs.virginia.edu/u/nyw6dh/HCDM/Experiment/Fair_GRACE/test.ipynb#ch0000005vscode-remote?line=0'>1</a>\u001b[0m res \u001b[39m=\u001b[39m eval_unbiasedness_movielens(\u001b[39m'\u001b[39;49m\u001b[39mmovie\u001b[39;49m\u001b[39m'\u001b[39;49m, th\u001b[39m.\u001b[39;49mrandn_like(embeds)\u001b[39m.\u001b[39;49mcpu())\n",
      "File \u001b[0;32m~/HCDM/Experiment/Fair_GRACE/eval.py:238\u001b[0m, in \u001b[0;36meval_unbiasedness_movielens\u001b[0;34m(data_name, embeddings)\u001b[0m\n\u001b[1;32m    236\u001b[0m     rank_pred_keys \u001b[39m=\u001b[39m np\u001b[39m.\u001b[39margsort(pred_ratings)[::\u001b[39m-\u001b[39m\u001b[39m1\u001b[39m]\n\u001b[1;32m    237\u001b[0m     ranked_user_ratings \u001b[39m=\u001b[39m user_ratings[rank_pred_keys]\n\u001b[0;32m--> 238\u001b[0m     ndcg \u001b[39m=\u001b[39m ndcg_at_k(ranked_user_ratings, k)\n\u001b[1;32m    239\u001b[0m     accum_ndcg \u001b[39m+\u001b[39m\u001b[39m=\u001b[39m ndcg\n\u001b[1;32m    241\u001b[0m score \u001b[39m=\u001b[39m accum_ndcg\u001b[39m/\u001b[39mM\n",
      "\u001b[0;31mKeyboardInterrupt\u001b[0m: "
     ]
    }
   ],
   "source": [
    "res = eval_unbiasedness_movielens('movie', th.randn_like(embeds).cpu())"
   ]
  },
  {
   "cell_type": "code",
   "execution_count": 25,
   "metadata": {},
   "outputs": [],
   "source": [
    "import sys\n",
    "sys.path.append(os.path.join('../..'))\n",
    "import Utils.Export as Export\n",
    "\n",
    "results = {\n",
    "  \"dataname\": args.dataname,\n",
    "  \"epochs\": args.epochs,\n",
    "  \"debias_method\": args.debias_method,\n",
    "  \"debias_attr\": args.debias_attr,\n",
    "  \"reg_weight\": args.reg_weight,\n",
    "  \"temp\": args.temp,\n",
    "  \"der1\": args.der1,\n",
    "  \"der2\": args.der2,\n",
    "  \"dfr1\": args.dfr1,\n",
    "  \"dfr2\": args.dfr2,\n",
    "  \"gender_f1m\": res['unbiasedness']['gender'],\n",
    "  \"age_f1m\": res['unbiasedness']['age'],\n",
    "  \"occupation_f1m\": res['unbiasedness']['occupation'],\n",
    "  \"link_ndcg\": res['utility'],\n",
    "}\n",
    "\n",
    "Export.saveData('./results.csv', results)"
   ]
  }
 ],
 "metadata": {
  "kernelspec": {
   "display_name": "Python 3.10.4 ('pytorch_c116')",
   "language": "python",
   "name": "python3"
  },
  "language_info": {
   "codemirror_mode": {
    "name": "ipython",
    "version": 3
   },
   "file_extension": ".py",
   "mimetype": "text/x-python",
   "name": "python",
   "nbconvert_exporter": "python",
   "pygments_lexer": "ipython3",
   "version": "3.10.4"
  },
  "orig_nbformat": 4,
  "vscode": {
   "interpreter": {
    "hash": "ace00f8df87249d7fb913fbec74912fd8ad566274bc64c0a2570c224c3461cb4"
   }
  }
 },
 "nbformat": 4,
 "nbformat_minor": 2
}
