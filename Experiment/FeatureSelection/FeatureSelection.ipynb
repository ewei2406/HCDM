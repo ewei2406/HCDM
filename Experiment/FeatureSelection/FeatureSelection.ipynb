{
 "cells": [
  {
   "cell_type": "code",
   "execution_count": 1,
   "metadata": {},
   "outputs": [],
   "source": [
    "import sys\n",
    "import os\n",
    "sys.path.append(os.path.join(os.path.abspath(''), '../..'))"
   ]
  },
  {
   "cell_type": "code",
   "execution_count": 2,
   "metadata": {},
   "outputs": [
    {
     "name": "stdout",
     "output_type": "stream",
     "text": [
      "[i] Environment:  torch 1.10.2 \tdevice: cpu \tseed: 123\n",
      "[i] Dataset: cora\n",
      "Loading cora dataset...\n",
      "\n",
      "[i] Dataset Summary: \n",
      "\tadj shape: [2708, 2708]\n",
      "\tfeature shape: [2708, 1433]\n",
      "\tnum labels: 7\n",
      "\tsplit seed: 123\n",
      "\ttrain|val|test: 140|500|1000\n"
     ]
    }
   ],
   "source": [
    "############################\n",
    "#region Arguments\n",
    "\n",
    "import argparse\n",
    "\n",
    "parser = argparse.ArgumentParser()\n",
    "parser.add_argument('--seed', type=int, default=123, help='Random seed for model')\n",
    "parser.add_argument('--dataset', type=str, default='cora', help='dataset')\n",
    "\n",
    "parser.add_argument('--ptb_rate', type=float, default=0.25, help='Perturbation rate (percentage of available edges)')\n",
    "\n",
    "parser.add_argument('--protect_size', type=float, default=0.1, help='Number of randomly chosen protected nodes')\n",
    "parser.add_argument('--reg_epochs', type=int, default=100, help='Epochs to train models')\n",
    "parser.add_argument('--ptb_epochs', type=int, default=30, help='Epochs to perturb adj matrix')\n",
    "\n",
    "parser.add_argument('--save', type=str, default='N', help='save the outputs to csv')\n",
    "\n",
    "args = parser.parse_args(\"\")\n",
    "\n",
    "#endregion\n",
    "##########################\n",
    "\n",
    "##########################\n",
    "#region Environment\n",
    "\n",
    "import torch\n",
    "import numpy as np\n",
    "\n",
    "device = torch.device('cuda' if torch.cuda.is_available() else 'cpu')\n",
    "\n",
    "np.random.seed(args.seed)\n",
    "torch.manual_seed(args.seed)\n",
    "\n",
    "if device != 'cpu':\n",
    "    torch.cuda.manual_seed(args.seed)\n",
    "\n",
    "print(f'[i] Environment:  torch {torch.__version__} \\tdevice: {device} \\tseed: {args.seed}')\n",
    "\n",
    "#endregion\n",
    "##########################\n",
    "\n",
    "########################\n",
    "#region Data\n",
    "\n",
    "from Utils import GraphData\n",
    "\n",
    "print(f'[i] Dataset: {args.dataset}')\n",
    "\n",
    "graph = GraphData.getGraph(\"../../Datasets\", args.dataset, \"gcn\", args.seed, device)\n",
    "graph.summarize()\n",
    "\n",
    "#endregion\n",
    "########################"
   ]
  },
  {
   "cell_type": "code",
   "execution_count": 3,
   "metadata": {},
   "outputs": [],
   "source": [
    "########################\n",
    "#region Feature Calculation\n",
    "\n",
    "from Utils import FeatureMetrics\n",
    "\n",
    "# print(graph.features)\n",
    "transposed = graph.features.t().contiguous()\n",
    "metrics = torch.zeros([2, transposed.shape[0]])\n",
    "\n",
    "# Entropy of all features\n",
    "for i in range(transposed.shape[0]):\n",
    "    metrics[0][i] = FeatureMetrics.shannon_entropy(transposed[i])\n",
    "    metrics[1][i] = FeatureMetrics.chi_squared(transposed[i], graph.labels)\n",
    "\n",
    "#endregion\n",
    "########################\n"
   ]
  },
  {
   "cell_type": "code",
   "execution_count": 15,
   "metadata": {},
   "outputs": [
    {
     "ename": "IndexError",
     "evalue": "The shape of the mask [1433] at index 0 does not match the shape of the indexed tensor [2] at index 0",
     "output_type": "error",
     "traceback": [
      "\u001b[0;31m---------------------------------------------------------------------------\u001b[0m",
      "\u001b[0;31mIndexError\u001b[0m                                Traceback (most recent call last)",
      "\u001b[1;32m/Users/ewei/HCDM_Code/Experiment/FeatureSelection/FeatureSelection.ipynb Cell 5'\u001b[0m in \u001b[0;36m<module>\u001b[0;34m\u001b[0m\n\u001b[1;32m      <a href='vscode-notebook-cell:/Users/ewei/HCDM_Code/Experiment/FeatureSelection/FeatureSelection.ipynb#ch0000010?line=4'>5</a>\u001b[0m \u001b[39mimport\u001b[39;00m \u001b[39mmatplotlib\u001b[39;00m\u001b[39m.\u001b[39;00m\u001b[39mpyplot\u001b[39;00m \u001b[39mas\u001b[39;00m \u001b[39mplt\u001b[39;00m\n\u001b[1;32m      <a href='vscode-notebook-cell:/Users/ewei/HCDM_Code/Experiment/FeatureSelection/FeatureSelection.ipynb#ch0000010?line=5'>6</a>\u001b[0m plt\u001b[39m.\u001b[39mscatter(metrics[\u001b[39m0\u001b[39m], metrics[\u001b[39m1\u001b[39m])\n\u001b[0;32m----> <a href='vscode-notebook-cell:/Users/ewei/HCDM_Code/Experiment/FeatureSelection/FeatureSelection.ipynb#ch0000010?line=7'>8</a>\u001b[0m idx_selected \u001b[39m=\u001b[39m FeatureMetrics\u001b[39m.\u001b[39;49msample_by_quantiles(metrics[\u001b[39m0\u001b[39;49m], metrics[\u001b[39m1\u001b[39;49m])\n",
      "File \u001b[0;32m~/HCDM_Code/Experiment/FeatureSelection/../../Utils/FeatureMetrics.py:196\u001b[0m, in \u001b[0;36msample_by_quantiles\u001b[0;34m(tensor_a, tensor_b, n_bins, n_samples)\u001b[0m\n\u001b[1;32m    <a href='file:///Users/ewei/HCDM_Code/Experiment/FeatureSelection/../../Utils/FeatureMetrics.py?line=193'>194</a>\u001b[0m             prob[selected] \u001b[39m=\u001b[39m \u001b[39m0\u001b[39m\n\u001b[1;32m    <a href='file:///Users/ewei/HCDM_Code/Experiment/FeatureSelection/../../Utils/FeatureMetrics.py?line=194'>195</a>\u001b[0m         \u001b[39melse\u001b[39;00m:\n\u001b[0;32m--> <a href='file:///Users/ewei/HCDM_Code/Experiment/FeatureSelection/../../Utils/FeatureMetrics.py?line=195'>196</a>\u001b[0m             prob[selected] \u001b[39m=\u001b[39m \u001b[39m1\u001b[39m \u001b[39m/\u001b[39m selected\u001b[39m.\u001b[39msum()\n\u001b[1;32m    <a href='file:///Users/ewei/HCDM_Code/Experiment/FeatureSelection/../../Utils/FeatureMetrics.py?line=197'>198</a>\u001b[0m prob \u001b[39m*\u001b[39m\u001b[39m=\u001b[39m n_samples \u001b[39m/\u001b[39m prob\u001b[39m.\u001b[39msum()\n\u001b[1;32m    <a href='file:///Users/ewei/HCDM_Code/Experiment/FeatureSelection/../../Utils/FeatureMetrics.py?line=198'>199</a>\u001b[0m idx \u001b[39m=\u001b[39m torch\u001b[39m.\u001b[39mbernoulli(prob\u001b[39m.\u001b[39mclamp(\u001b[39m0\u001b[39m, \u001b[39m1\u001b[39m)) \u001b[39m==\u001b[39m \u001b[39m1\u001b[39m\n",
      "\u001b[0;31mIndexError\u001b[0m: The shape of the mask [1433] at index 0 does not match the shape of the indexed tensor [2] at index 0"
     ]
    },
    {
     "data": {
      "image/png": "[encoded data removed]",
      "text/plain": [
       "<Figure size 432x288 with 1 Axes>"
      ]
     },
     "metadata": {
      "needs_background": "light"
     },
     "output_type": "display_data"
    }
   ],
   "source": [
    "########################\n",
    "#region Feature Selection\n",
    "from Utils import FeatureMetrics\n",
    "\n",
    "import matplotlib.pyplot as plt\n",
    "plt.scatter(metrics[0], metrics[1])\n",
    "\n",
    "idx_selected = FeatureMetrics.sample_by_quantiles(metrics[0], metrics[1])\n",
    "# plt.scatter(metrics[], y)\n",
    "\n",
    "#endregion\n",
    "########################\n"
   ]
  },
  {
   "cell_type": "code",
   "execution_count": 14,
   "metadata": {},
   "outputs": [
    {
     "data": {
      "text/plain": [
       "tensor([False, False, False,  ..., False, False, False])"
      ]
     },
     "execution_count": 14,
     "metadata": {},
     "output_type": "execute_result"
    }
   ],
   "source": [
    "tensor_a = metrics[0]\n",
    "tensor_b = metrics[1]\n",
    "n_bins = 4\n",
    "n_samples = 100\n",
    "\n",
    "assert tensor_a.shape[0] == tensor_b.shape[0]\n",
    "\n",
    "dist = torch.zeros([2, tensor_a.shape[0]])\n",
    "dist[0] = torch.bucketize(tensor_a, torch.arange(tensor_a.min(), tensor_a.max() - 0.000001, (tensor_a.max() - tensor_a.min()) / (n_bins - 1)))\n",
    "dist[1] = torch.bucketize(tensor_b, torch.arange(tensor_b.min(), tensor_b.max() - 0.000001, (tensor_b.max() - tensor_b.min()) / (n_bins - 1)))\n",
    "\n",
    "prob = torch.zeros([dist.shape[1]])\n",
    "for i in range(n_bins):\n",
    "    for j in range(n_bins):\n",
    "        selected = (dist[0] == i) * (dist[0] == j)\n",
    "        if selected.sum() == 0:\n",
    "            prob[selected] = 0\n",
    "        else:\n",
    "            prob[selected] = 1 / selected.sum()\n",
    "\n",
    "prob *= n_samples / prob.sum()\n",
    "idx = torch.bernoulli(prob.clamp(0, 1)) == 1\n",
    "idx"
   ]
  },
  {
   "cell_type": "code",
   "execution_count": null,
   "metadata": {},
   "outputs": [
    {
     "data": {
      "text/plain": [
       "tensor([False, False, False,  ..., False, False, False])"
      ]
     },
     "execution_count": 87,
     "metadata": {},
     "output_type": "execute_result"
    }
   ],
   "source": [
    "n_bins = 4\n",
    "target_samples = 50\n",
    "transposed = metrics.t()\n",
    "dist = torch.zeros([transposed.shape[0] + 1, transposed.shape[1]])\n",
    "dist[0] = transposed[0]\n",
    "for i in range(1, transposed.shape[0]):\n",
    "    met = transposed[i]\n",
    "    row = torch.bucketize(met, torch.arange(met.min(), met.max() - 0.000001, (met.max() - met.min()) / (n_bins - 1)))\n",
    "    dist[i] = row\n",
    "\n",
    "for i in range(n_bins):\n",
    "    for j in range(n_bins):\n",
    "        selected = (dist[1] == i) * (dist[2] == j)\n",
    "        if selected.sum() == 0:\n",
    "            dist[-1][selected] = 0\n",
    "        else:\n",
    "            dist[-1][selected] = 1 / selected.sum()\n",
    "\n",
    "dist[-1] *= 100 / dist[-1].sum()\n",
    "idx = torch.bernoulli(dist[-1].clamp(0, 1)) == 1\n",
    "idx\n",
    "# row = transposed[1]\n",
    "# entropy_bucket = torch.bucketize(row, torch.arange(row.min(), row.max() - 0.000001, (row.max() - row.min()) / (n_bins - 1)))\n",
    "# chisq_bucket = torch.bucketize(row, boundaries)"
   ]
  },
  {
   "cell_type": "code",
   "execution_count": null,
   "metadata": {},
   "outputs": [
    {
     "data": {
      "text/plain": [
       "<matplotlib.collections.PathCollection at 0x7fbf053ab3d0>"
      ]
     },
     "execution_count": 91,
     "metadata": {},
     "output_type": "execute_result"
    },
    {
     "data": {
      "image/png": "[encoded data removed]",
      "text/plain": [
       "<Figure size 432x288 with 1 Axes>"
      ]
     },
     "metadata": {
      "needs_background": "light"
     },
     "output_type": "display_data"
    }
   ],
   "source": [
    "select = t[:,idx]\n",
    "plt.scatter(select[0], select[1])"
   ]
  },
  {
   "cell_type": "code",
   "execution_count": null,
   "metadata": {},
   "outputs": [
    {
     "data": {
      "text/plain": [
       "<matplotlib.collections.PathCollection at 0x7fbfd07b7580>"
      ]
     },
     "execution_count": 8,
     "metadata": {},
     "output_type": "execute_result"
    },
    {
     "data": {
      "image/png": "[encoded data removed]",
      "text/plain": [
       "<Figure size 432x288 with 1 Axes>"
      ]
     },
     "metadata": {
      "needs_background": "light"
     },
     "output_type": "display_data"
    }
   ],
   "source": [
    "import matplotlib.pyplot as plt\n",
    "t = metrics.t()\n",
    "plt.scatter(t[0], t[1])\n"
   ]
  },
  {
   "cell_type": "code",
   "execution_count": null,
   "metadata": {},
   "outputs": [
    {
     "ename": "KeyboardInterrupt",
     "evalue": "",
     "output_type": "error",
     "traceback": [
      "\u001b[0;31m---------------------------------------------------------------------------\u001b[0m",
      "\u001b[0;31mKeyboardInterrupt\u001b[0m                         Traceback (most recent call last)",
      "\u001b[1;32m/Users/ewei/HCDM_Code/Experiment/FeatureSelection/FeatureSelection.ipynb Cell 5'\u001b[0m in \u001b[0;36m<module>\u001b[0;34m\u001b[0m\n\u001b[1;32m      <a href='vscode-notebook-cell:/Users/ewei/HCDM_Code/Experiment/FeatureSelection/FeatureSelection.ipynb#ch0000006?line=0'>1</a>\u001b[0m ax \u001b[39m=\u001b[39m plt\u001b[39m.\u001b[39msubplot()\n\u001b[1;32m      <a href='vscode-notebook-cell:/Users/ewei/HCDM_Code/Experiment/FeatureSelection/FeatureSelection.ipynb#ch0000006?line=1'>2</a>\u001b[0m ax\u001b[39m.\u001b[39mhist(t[\u001b[39m0\u001b[39m], bins\u001b[39m=\u001b[39m\u001b[39m100\u001b[39m)\n\u001b[0;32m----> <a href='vscode-notebook-cell:/Users/ewei/HCDM_Code/Experiment/FeatureSelection/FeatureSelection.ipynb#ch0000006?line=3'>4</a>\u001b[0m plt\u001b[39m.\u001b[39;49mshow()\n",
      "File \u001b[0;32m/opt/homebrew/anaconda3/envs/pygraph/lib/python3.9/site-packages/matplotlib/pyplot.py:368\u001b[0m, in \u001b[0;36mshow\u001b[0;34m(*args, **kwargs)\u001b[0m\n\u001b[1;32m    <a href='file:///opt/homebrew/anaconda3/envs/pygraph/lib/python3.9/site-packages/matplotlib/pyplot.py?line=323'>324</a>\u001b[0m \u001b[39m\"\"\"\u001b[39;00m\n\u001b[1;32m    <a href='file:///opt/homebrew/anaconda3/envs/pygraph/lib/python3.9/site-packages/matplotlib/pyplot.py?line=324'>325</a>\u001b[0m \u001b[39mDisplay all open figures.\u001b[39;00m\n\u001b[1;32m    <a href='file:///opt/homebrew/anaconda3/envs/pygraph/lib/python3.9/site-packages/matplotlib/pyplot.py?line=325'>326</a>\u001b[0m \n\u001b[0;32m   (...)\u001b[0m\n\u001b[1;32m    <a href='file:///opt/homebrew/anaconda3/envs/pygraph/lib/python3.9/site-packages/matplotlib/pyplot.py?line=364'>365</a>\u001b[0m \u001b[39mexplicitly there.\u001b[39;00m\n\u001b[1;32m    <a href='file:///opt/homebrew/anaconda3/envs/pygraph/lib/python3.9/site-packages/matplotlib/pyplot.py?line=365'>366</a>\u001b[0m \u001b[39m\"\"\"\u001b[39;00m\n\u001b[1;32m    <a href='file:///opt/homebrew/anaconda3/envs/pygraph/lib/python3.9/site-packages/matplotlib/pyplot.py?line=366'>367</a>\u001b[0m _warn_if_gui_out_of_main_thread()\n\u001b[0;32m--> <a href='file:///opt/homebrew/anaconda3/envs/pygraph/lib/python3.9/site-packages/matplotlib/pyplot.py?line=367'>368</a>\u001b[0m \u001b[39mreturn\u001b[39;00m _backend_mod\u001b[39m.\u001b[39;49mshow(\u001b[39m*\u001b[39;49margs, \u001b[39m*\u001b[39;49m\u001b[39m*\u001b[39;49mkwargs)\n",
      "File \u001b[0;32m/opt/homebrew/anaconda3/envs/pygraph/lib/python3.9/site-packages/matplotlib_inline/backend_inline.py:41\u001b[0m, in \u001b[0;36mshow\u001b[0;34m(close, block)\u001b[0m\n\u001b[1;32m     <a href='file:///opt/homebrew/anaconda3/envs/pygraph/lib/python3.9/site-packages/matplotlib_inline/backend_inline.py?line=38'>39</a>\u001b[0m \u001b[39mtry\u001b[39;00m:\n\u001b[1;32m     <a href='file:///opt/homebrew/anaconda3/envs/pygraph/lib/python3.9/site-packages/matplotlib_inline/backend_inline.py?line=39'>40</a>\u001b[0m     \u001b[39mfor\u001b[39;00m figure_manager \u001b[39min\u001b[39;00m Gcf\u001b[39m.\u001b[39mget_all_fig_managers():\n\u001b[0;32m---> <a href='file:///opt/homebrew/anaconda3/envs/pygraph/lib/python3.9/site-packages/matplotlib_inline/backend_inline.py?line=40'>41</a>\u001b[0m         display(\n\u001b[1;32m     <a href='file:///opt/homebrew/anaconda3/envs/pygraph/lib/python3.9/site-packages/matplotlib_inline/backend_inline.py?line=41'>42</a>\u001b[0m             figure_manager\u001b[39m.\u001b[39;49mcanvas\u001b[39m.\u001b[39;49mfigure,\n\u001b[1;32m     <a href='file:///opt/homebrew/anaconda3/envs/pygraph/lib/python3.9/site-packages/matplotlib_inline/backend_inline.py?line=42'>43</a>\u001b[0m             metadata\u001b[39m=\u001b[39;49m_fetch_figure_metadata(figure_manager\u001b[39m.\u001b[39;49mcanvas\u001b[39m.\u001b[39;49mfigure)\n\u001b[1;32m     <a href='file:///opt/homebrew/anaconda3/envs/pygraph/lib/python3.9/site-packages/matplotlib_inline/backend_inline.py?line=43'>44</a>\u001b[0m         )\n\u001b[1;32m     <a href='file:///opt/homebrew/anaconda3/envs/pygraph/lib/python3.9/site-packages/matplotlib_inline/backend_inline.py?line=44'>45</a>\u001b[0m \u001b[39mfinally\u001b[39;00m:\n\u001b[1;32m     <a href='file:///opt/homebrew/anaconda3/envs/pygraph/lib/python3.9/site-packages/matplotlib_inline/backend_inline.py?line=45'>46</a>\u001b[0m     show\u001b[39m.\u001b[39m_to_draw \u001b[39m=\u001b[39m []\n",
      "File \u001b[0;32m/opt/homebrew/anaconda3/envs/pygraph/lib/python3.9/site-packages/IPython/core/display_functions.py:298\u001b[0m, in \u001b[0;36mdisplay\u001b[0;34m(include, exclude, metadata, transient, display_id, raw, clear, *objs, **kwargs)\u001b[0m\n\u001b[1;32m    <a href='file:///opt/homebrew/anaconda3/envs/pygraph/lib/python3.9/site-packages/IPython/core/display_functions.py?line=295'>296</a>\u001b[0m     publish_display_data(data\u001b[39m=\u001b[39mobj, metadata\u001b[39m=\u001b[39mmetadata, \u001b[39m*\u001b[39m\u001b[39m*\u001b[39mkwargs)\n\u001b[1;32m    <a href='file:///opt/homebrew/anaconda3/envs/pygraph/lib/python3.9/site-packages/IPython/core/display_functions.py?line=296'>297</a>\u001b[0m \u001b[39melse\u001b[39;00m:\n\u001b[0;32m--> <a href='file:///opt/homebrew/anaconda3/envs/pygraph/lib/python3.9/site-packages/IPython/core/display_functions.py?line=297'>298</a>\u001b[0m     format_dict, md_dict \u001b[39m=\u001b[39m \u001b[39mformat\u001b[39;49m(obj, include\u001b[39m=\u001b[39;49minclude, exclude\u001b[39m=\u001b[39;49mexclude)\n\u001b[1;32m    <a href='file:///opt/homebrew/anaconda3/envs/pygraph/lib/python3.9/site-packages/IPython/core/display_functions.py?line=298'>299</a>\u001b[0m     \u001b[39mif\u001b[39;00m \u001b[39mnot\u001b[39;00m format_dict:\n\u001b[1;32m    <a href='file:///opt/homebrew/anaconda3/envs/pygraph/lib/python3.9/site-packages/IPython/core/display_functions.py?line=299'>300</a>\u001b[0m         \u001b[39m# nothing to display (e.g. _ipython_display_ took over)\u001b[39;00m\n\u001b[1;32m    <a href='file:///opt/homebrew/anaconda3/envs/pygraph/lib/python3.9/site-packages/IPython/core/display_functions.py?line=300'>301</a>\u001b[0m         \u001b[39mcontinue\u001b[39;00m\n",
      "File \u001b[0;32m/opt/homebrew/anaconda3/envs/pygraph/lib/python3.9/site-packages/IPython/core/formatters.py:178\u001b[0m, in \u001b[0;36mDisplayFormatter.format\u001b[0;34m(self, obj, include, exclude)\u001b[0m\n\u001b[1;32m    <a href='file:///opt/homebrew/anaconda3/envs/pygraph/lib/python3.9/site-packages/IPython/core/formatters.py?line=175'>176</a>\u001b[0m md \u001b[39m=\u001b[39m \u001b[39mNone\u001b[39;00m\n\u001b[1;32m    <a href='file:///opt/homebrew/anaconda3/envs/pygraph/lib/python3.9/site-packages/IPython/core/formatters.py?line=176'>177</a>\u001b[0m \u001b[39mtry\u001b[39;00m:\n\u001b[0;32m--> <a href='file:///opt/homebrew/anaconda3/envs/pygraph/lib/python3.9/site-packages/IPython/core/formatters.py?line=177'>178</a>\u001b[0m     data \u001b[39m=\u001b[39m formatter(obj)\n\u001b[1;32m    <a href='file:///opt/homebrew/anaconda3/envs/pygraph/lib/python3.9/site-packages/IPython/core/formatters.py?line=178'>179</a>\u001b[0m \u001b[39mexcept\u001b[39;00m:\n\u001b[1;32m    <a href='file:///opt/homebrew/anaconda3/envs/pygraph/lib/python3.9/site-packages/IPython/core/formatters.py?line=179'>180</a>\u001b[0m     \u001b[39m# FIXME: log the exception\u001b[39;00m\n\u001b[1;32m    <a href='file:///opt/homebrew/anaconda3/envs/pygraph/lib/python3.9/site-packages/IPython/core/formatters.py?line=180'>181</a>\u001b[0m     \u001b[39mraise\u001b[39;00m\n",
      "File \u001b[0;32m/opt/homebrew/anaconda3/envs/pygraph/lib/python3.9/site-packages/decorator.py:232\u001b[0m, in \u001b[0;36mdecorate.<locals>.fun\u001b[0;34m(*args, **kw)\u001b[0m\n\u001b[1;32m    <a href='file:///opt/homebrew/anaconda3/envs/pygraph/lib/python3.9/site-packages/decorator.py?line=229'>230</a>\u001b[0m \u001b[39mif\u001b[39;00m \u001b[39mnot\u001b[39;00m kwsyntax:\n\u001b[1;32m    <a href='file:///opt/homebrew/anaconda3/envs/pygraph/lib/python3.9/site-packages/decorator.py?line=230'>231</a>\u001b[0m     args, kw \u001b[39m=\u001b[39m fix(args, kw, sig)\n\u001b[0;32m--> <a href='file:///opt/homebrew/anaconda3/envs/pygraph/lib/python3.9/site-packages/decorator.py?line=231'>232</a>\u001b[0m \u001b[39mreturn\u001b[39;00m caller(func, \u001b[39m*\u001b[39;49m(extras \u001b[39m+\u001b[39;49m args), \u001b[39m*\u001b[39;49m\u001b[39m*\u001b[39;49mkw)\n",
      "File \u001b[0;32m/opt/homebrew/anaconda3/envs/pygraph/lib/python3.9/site-packages/IPython/core/formatters.py:222\u001b[0m, in \u001b[0;36mcatch_format_error\u001b[0;34m(method, self, *args, **kwargs)\u001b[0m\n\u001b[1;32m    <a href='file:///opt/homebrew/anaconda3/envs/pygraph/lib/python3.9/site-packages/IPython/core/formatters.py?line=219'>220</a>\u001b[0m \u001b[39m\"\"\"show traceback on failed format call\"\"\"\u001b[39;00m\n\u001b[1;32m    <a href='file:///opt/homebrew/anaconda3/envs/pygraph/lib/python3.9/site-packages/IPython/core/formatters.py?line=220'>221</a>\u001b[0m \u001b[39mtry\u001b[39;00m:\n\u001b[0;32m--> <a href='file:///opt/homebrew/anaconda3/envs/pygraph/lib/python3.9/site-packages/IPython/core/formatters.py?line=221'>222</a>\u001b[0m     r \u001b[39m=\u001b[39m method(\u001b[39mself\u001b[39;49m, \u001b[39m*\u001b[39;49margs, \u001b[39m*\u001b[39;49m\u001b[39m*\u001b[39;49mkwargs)\n\u001b[1;32m    <a href='file:///opt/homebrew/anaconda3/envs/pygraph/lib/python3.9/site-packages/IPython/core/formatters.py?line=222'>223</a>\u001b[0m \u001b[39mexcept\u001b[39;00m \u001b[39mNotImplementedError\u001b[39;00m:\n\u001b[1;32m    <a href='file:///opt/homebrew/anaconda3/envs/pygraph/lib/python3.9/site-packages/IPython/core/formatters.py?line=223'>224</a>\u001b[0m     \u001b[39m# don't warn on NotImplementedErrors\u001b[39;00m\n\u001b[1;32m    <a href='file:///opt/homebrew/anaconda3/envs/pygraph/lib/python3.9/site-packages/IPython/core/formatters.py?line=224'>225</a>\u001b[0m     \u001b[39mreturn\u001b[39;00m \u001b[39mself\u001b[39m\u001b[39m.\u001b[39m_check_return(\u001b[39mNone\u001b[39;00m, args[\u001b[39m0\u001b[39m])\n",
      "File \u001b[0;32m/opt/homebrew/anaconda3/envs/pygraph/lib/python3.9/site-packages/IPython/core/formatters.py:339\u001b[0m, in \u001b[0;36mBaseFormatter.__call__\u001b[0;34m(self, obj)\u001b[0m\n\u001b[1;32m    <a href='file:///opt/homebrew/anaconda3/envs/pygraph/lib/python3.9/site-packages/IPython/core/formatters.py?line=336'>337</a>\u001b[0m     \u001b[39mpass\u001b[39;00m\n\u001b[1;32m    <a href='file:///opt/homebrew/anaconda3/envs/pygraph/lib/python3.9/site-packages/IPython/core/formatters.py?line=337'>338</a>\u001b[0m \u001b[39melse\u001b[39;00m:\n\u001b[0;32m--> <a href='file:///opt/homebrew/anaconda3/envs/pygraph/lib/python3.9/site-packages/IPython/core/formatters.py?line=338'>339</a>\u001b[0m     \u001b[39mreturn\u001b[39;00m printer(obj)\n\u001b[1;32m    <a href='file:///opt/homebrew/anaconda3/envs/pygraph/lib/python3.9/site-packages/IPython/core/formatters.py?line=339'>340</a>\u001b[0m \u001b[39m# Finally look for special method names\u001b[39;00m\n\u001b[1;32m    <a href='file:///opt/homebrew/anaconda3/envs/pygraph/lib/python3.9/site-packages/IPython/core/formatters.py?line=340'>341</a>\u001b[0m method \u001b[39m=\u001b[39m get_real_method(obj, \u001b[39mself\u001b[39m\u001b[39m.\u001b[39mprint_method)\n",
      "File \u001b[0;32m/opt/homebrew/anaconda3/envs/pygraph/lib/python3.9/site-packages/IPython/core/pylabtools.py:151\u001b[0m, in \u001b[0;36mprint_figure\u001b[0;34m(fig, fmt, bbox_inches, base64, **kwargs)\u001b[0m\n\u001b[1;32m    <a href='file:///opt/homebrew/anaconda3/envs/pygraph/lib/python3.9/site-packages/IPython/core/pylabtools.py?line=147'>148</a>\u001b[0m     \u001b[39mfrom\u001b[39;00m \u001b[39mmatplotlib\u001b[39;00m\u001b[39m.\u001b[39;00m\u001b[39mbackend_bases\u001b[39;00m \u001b[39mimport\u001b[39;00m FigureCanvasBase\n\u001b[1;32m    <a href='file:///opt/homebrew/anaconda3/envs/pygraph/lib/python3.9/site-packages/IPython/core/pylabtools.py?line=148'>149</a>\u001b[0m     FigureCanvasBase(fig)\n\u001b[0;32m--> <a href='file:///opt/homebrew/anaconda3/envs/pygraph/lib/python3.9/site-packages/IPython/core/pylabtools.py?line=150'>151</a>\u001b[0m fig\u001b[39m.\u001b[39;49mcanvas\u001b[39m.\u001b[39;49mprint_figure(bytes_io, \u001b[39m*\u001b[39;49m\u001b[39m*\u001b[39;49mkw)\n\u001b[1;32m    <a href='file:///opt/homebrew/anaconda3/envs/pygraph/lib/python3.9/site-packages/IPython/core/pylabtools.py?line=151'>152</a>\u001b[0m data \u001b[39m=\u001b[39m bytes_io\u001b[39m.\u001b[39mgetvalue()\n\u001b[1;32m    <a href='file:///opt/homebrew/anaconda3/envs/pygraph/lib/python3.9/site-packages/IPython/core/pylabtools.py?line=152'>153</a>\u001b[0m \u001b[39mif\u001b[39;00m fmt \u001b[39m==\u001b[39m \u001b[39m'\u001b[39m\u001b[39msvg\u001b[39m\u001b[39m'\u001b[39m:\n",
      "File \u001b[0;32m/opt/homebrew/anaconda3/envs/pygraph/lib/python3.9/site-packages/matplotlib/backend_bases.py:2295\u001b[0m, in \u001b[0;36mFigureCanvasBase.print_figure\u001b[0;34m(self, filename, dpi, facecolor, edgecolor, orientation, format, bbox_inches, pad_inches, bbox_extra_artists, backend, **kwargs)\u001b[0m\n\u001b[1;32m   <a href='file:///opt/homebrew/anaconda3/envs/pygraph/lib/python3.9/site-packages/matplotlib/backend_bases.py?line=2288'>2289</a>\u001b[0m     renderer \u001b[39m=\u001b[39m _get_renderer(\n\u001b[1;32m   <a href='file:///opt/homebrew/anaconda3/envs/pygraph/lib/python3.9/site-packages/matplotlib/backend_bases.py?line=2289'>2290</a>\u001b[0m         \u001b[39mself\u001b[39m\u001b[39m.\u001b[39mfigure,\n\u001b[1;32m   <a href='file:///opt/homebrew/anaconda3/envs/pygraph/lib/python3.9/site-packages/matplotlib/backend_bases.py?line=2290'>2291</a>\u001b[0m         functools\u001b[39m.\u001b[39mpartial(\n\u001b[1;32m   <a href='file:///opt/homebrew/anaconda3/envs/pygraph/lib/python3.9/site-packages/matplotlib/backend_bases.py?line=2291'>2292</a>\u001b[0m             print_method, orientation\u001b[39m=\u001b[39morientation)\n\u001b[1;32m   <a href='file:///opt/homebrew/anaconda3/envs/pygraph/lib/python3.9/site-packages/matplotlib/backend_bases.py?line=2292'>2293</a>\u001b[0m     )\n\u001b[1;32m   <a href='file:///opt/homebrew/anaconda3/envs/pygraph/lib/python3.9/site-packages/matplotlib/backend_bases.py?line=2293'>2294</a>\u001b[0m     \u001b[39mwith\u001b[39;00m \u001b[39mgetattr\u001b[39m(renderer, \u001b[39m\"\u001b[39m\u001b[39m_draw_disabled\u001b[39m\u001b[39m\"\u001b[39m, nullcontext)():\n\u001b[0;32m-> <a href='file:///opt/homebrew/anaconda3/envs/pygraph/lib/python3.9/site-packages/matplotlib/backend_bases.py?line=2294'>2295</a>\u001b[0m         \u001b[39mself\u001b[39;49m\u001b[39m.\u001b[39;49mfigure\u001b[39m.\u001b[39;49mdraw(renderer)\n\u001b[1;32m   <a href='file:///opt/homebrew/anaconda3/envs/pygraph/lib/python3.9/site-packages/matplotlib/backend_bases.py?line=2296'>2297</a>\u001b[0m \u001b[39mif\u001b[39;00m bbox_inches:\n\u001b[1;32m   <a href='file:///opt/homebrew/anaconda3/envs/pygraph/lib/python3.9/site-packages/matplotlib/backend_bases.py?line=2297'>2298</a>\u001b[0m     \u001b[39mif\u001b[39;00m bbox_inches \u001b[39m==\u001b[39m \u001b[39m\"\u001b[39m\u001b[39mtight\u001b[39m\u001b[39m\"\u001b[39m:\n",
      "File \u001b[0;32m/opt/homebrew/anaconda3/envs/pygraph/lib/python3.9/site-packages/matplotlib/artist.py:73\u001b[0m, in \u001b[0;36m_finalize_rasterization.<locals>.draw_wrapper\u001b[0;34m(artist, renderer, *args, **kwargs)\u001b[0m\n\u001b[1;32m     <a href='file:///opt/homebrew/anaconda3/envs/pygraph/lib/python3.9/site-packages/matplotlib/artist.py?line=70'>71</a>\u001b[0m \u001b[39m@wraps\u001b[39m(draw)\n\u001b[1;32m     <a href='file:///opt/homebrew/anaconda3/envs/pygraph/lib/python3.9/site-packages/matplotlib/artist.py?line=71'>72</a>\u001b[0m \u001b[39mdef\u001b[39;00m \u001b[39mdraw_wrapper\u001b[39m(artist, renderer, \u001b[39m*\u001b[39margs, \u001b[39m*\u001b[39m\u001b[39m*\u001b[39mkwargs):\n\u001b[0;32m---> <a href='file:///opt/homebrew/anaconda3/envs/pygraph/lib/python3.9/site-packages/matplotlib/artist.py?line=72'>73</a>\u001b[0m     result \u001b[39m=\u001b[39m draw(artist, renderer, \u001b[39m*\u001b[39;49margs, \u001b[39m*\u001b[39;49m\u001b[39m*\u001b[39;49mkwargs)\n\u001b[1;32m     <a href='file:///opt/homebrew/anaconda3/envs/pygraph/lib/python3.9/site-packages/matplotlib/artist.py?line=73'>74</a>\u001b[0m     \u001b[39mif\u001b[39;00m renderer\u001b[39m.\u001b[39m_rasterizing:\n\u001b[1;32m     <a href='file:///opt/homebrew/anaconda3/envs/pygraph/lib/python3.9/site-packages/matplotlib/artist.py?line=74'>75</a>\u001b[0m         renderer\u001b[39m.\u001b[39mstop_rasterizing()\n",
      "File \u001b[0;32m/opt/homebrew/anaconda3/envs/pygraph/lib/python3.9/site-packages/matplotlib/artist.py:50\u001b[0m, in \u001b[0;36mallow_rasterization.<locals>.draw_wrapper\u001b[0;34m(artist, renderer)\u001b[0m\n\u001b[1;32m     <a href='file:///opt/homebrew/anaconda3/envs/pygraph/lib/python3.9/site-packages/matplotlib/artist.py?line=46'>47</a>\u001b[0m     \u001b[39mif\u001b[39;00m artist\u001b[39m.\u001b[39mget_agg_filter() \u001b[39mis\u001b[39;00m \u001b[39mnot\u001b[39;00m \u001b[39mNone\u001b[39;00m:\n\u001b[1;32m     <a href='file:///opt/homebrew/anaconda3/envs/pygraph/lib/python3.9/site-packages/matplotlib/artist.py?line=47'>48</a>\u001b[0m         renderer\u001b[39m.\u001b[39mstart_filter()\n\u001b[0;32m---> <a href='file:///opt/homebrew/anaconda3/envs/pygraph/lib/python3.9/site-packages/matplotlib/artist.py?line=49'>50</a>\u001b[0m     \u001b[39mreturn\u001b[39;00m draw(artist, renderer)\n\u001b[1;32m     <a href='file:///opt/homebrew/anaconda3/envs/pygraph/lib/python3.9/site-packages/matplotlib/artist.py?line=50'>51</a>\u001b[0m \u001b[39mfinally\u001b[39;00m:\n\u001b[1;32m     <a href='file:///opt/homebrew/anaconda3/envs/pygraph/lib/python3.9/site-packages/matplotlib/artist.py?line=51'>52</a>\u001b[0m     \u001b[39mif\u001b[39;00m artist\u001b[39m.\u001b[39mget_agg_filter() \u001b[39mis\u001b[39;00m \u001b[39mnot\u001b[39;00m \u001b[39mNone\u001b[39;00m:\n",
      "File \u001b[0;32m/opt/homebrew/anaconda3/envs/pygraph/lib/python3.9/site-packages/matplotlib/figure.py:2810\u001b[0m, in \u001b[0;36mFigure.draw\u001b[0;34m(self, renderer)\u001b[0m\n\u001b[1;32m   <a href='file:///opt/homebrew/anaconda3/envs/pygraph/lib/python3.9/site-packages/matplotlib/figure.py?line=2806'>2807</a>\u001b[0m         \u001b[39m# ValueError can occur when resizing a window.\u001b[39;00m\n\u001b[1;32m   <a href='file:///opt/homebrew/anaconda3/envs/pygraph/lib/python3.9/site-packages/matplotlib/figure.py?line=2808'>2809</a>\u001b[0m \u001b[39mself\u001b[39m\u001b[39m.\u001b[39mpatch\u001b[39m.\u001b[39mdraw(renderer)\n\u001b[0;32m-> <a href='file:///opt/homebrew/anaconda3/envs/pygraph/lib/python3.9/site-packages/matplotlib/figure.py?line=2809'>2810</a>\u001b[0m mimage\u001b[39m.\u001b[39;49m_draw_list_compositing_images(\n\u001b[1;32m   <a href='file:///opt/homebrew/anaconda3/envs/pygraph/lib/python3.9/site-packages/matplotlib/figure.py?line=2810'>2811</a>\u001b[0m     renderer, \u001b[39mself\u001b[39;49m, artists, \u001b[39mself\u001b[39;49m\u001b[39m.\u001b[39;49msuppressComposite)\n\u001b[1;32m   <a href='file:///opt/homebrew/anaconda3/envs/pygraph/lib/python3.9/site-packages/matplotlib/figure.py?line=2812'>2813</a>\u001b[0m \u001b[39mfor\u001b[39;00m sfig \u001b[39min\u001b[39;00m \u001b[39mself\u001b[39m\u001b[39m.\u001b[39msubfigs:\n\u001b[1;32m   <a href='file:///opt/homebrew/anaconda3/envs/pygraph/lib/python3.9/site-packages/matplotlib/figure.py?line=2813'>2814</a>\u001b[0m     sfig\u001b[39m.\u001b[39mdraw(renderer)\n",
      "File \u001b[0;32m/opt/homebrew/anaconda3/envs/pygraph/lib/python3.9/site-packages/matplotlib/image.py:132\u001b[0m, in \u001b[0;36m_draw_list_compositing_images\u001b[0;34m(renderer, parent, artists, suppress_composite)\u001b[0m\n\u001b[1;32m    <a href='file:///opt/homebrew/anaconda3/envs/pygraph/lib/python3.9/site-packages/matplotlib/image.py?line=129'>130</a>\u001b[0m \u001b[39mif\u001b[39;00m not_composite \u001b[39mor\u001b[39;00m \u001b[39mnot\u001b[39;00m has_images:\n\u001b[1;32m    <a href='file:///opt/homebrew/anaconda3/envs/pygraph/lib/python3.9/site-packages/matplotlib/image.py?line=130'>131</a>\u001b[0m     \u001b[39mfor\u001b[39;00m a \u001b[39min\u001b[39;00m artists:\n\u001b[0;32m--> <a href='file:///opt/homebrew/anaconda3/envs/pygraph/lib/python3.9/site-packages/matplotlib/image.py?line=131'>132</a>\u001b[0m         a\u001b[39m.\u001b[39;49mdraw(renderer)\n\u001b[1;32m    <a href='file:///opt/homebrew/anaconda3/envs/pygraph/lib/python3.9/site-packages/matplotlib/image.py?line=132'>133</a>\u001b[0m \u001b[39melse\u001b[39;00m:\n\u001b[1;32m    <a href='file:///opt/homebrew/anaconda3/envs/pygraph/lib/python3.9/site-packages/matplotlib/image.py?line=133'>134</a>\u001b[0m     \u001b[39m# Composite any adjacent images together\u001b[39;00m\n\u001b[1;32m    <a href='file:///opt/homebrew/anaconda3/envs/pygraph/lib/python3.9/site-packages/matplotlib/image.py?line=134'>135</a>\u001b[0m     image_group \u001b[39m=\u001b[39m []\n",
      "File \u001b[0;32m/opt/homebrew/anaconda3/envs/pygraph/lib/python3.9/site-packages/matplotlib/artist.py:50\u001b[0m, in \u001b[0;36mallow_rasterization.<locals>.draw_wrapper\u001b[0;34m(artist, renderer)\u001b[0m\n\u001b[1;32m     <a href='file:///opt/homebrew/anaconda3/envs/pygraph/lib/python3.9/site-packages/matplotlib/artist.py?line=46'>47</a>\u001b[0m     \u001b[39mif\u001b[39;00m artist\u001b[39m.\u001b[39mget_agg_filter() \u001b[39mis\u001b[39;00m \u001b[39mnot\u001b[39;00m \u001b[39mNone\u001b[39;00m:\n\u001b[1;32m     <a href='file:///opt/homebrew/anaconda3/envs/pygraph/lib/python3.9/site-packages/matplotlib/artist.py?line=47'>48</a>\u001b[0m         renderer\u001b[39m.\u001b[39mstart_filter()\n\u001b[0;32m---> <a href='file:///opt/homebrew/anaconda3/envs/pygraph/lib/python3.9/site-packages/matplotlib/artist.py?line=49'>50</a>\u001b[0m     \u001b[39mreturn\u001b[39;00m draw(artist, renderer)\n\u001b[1;32m     <a href='file:///opt/homebrew/anaconda3/envs/pygraph/lib/python3.9/site-packages/matplotlib/artist.py?line=50'>51</a>\u001b[0m \u001b[39mfinally\u001b[39;00m:\n\u001b[1;32m     <a href='file:///opt/homebrew/anaconda3/envs/pygraph/lib/python3.9/site-packages/matplotlib/artist.py?line=51'>52</a>\u001b[0m     \u001b[39mif\u001b[39;00m artist\u001b[39m.\u001b[39mget_agg_filter() \u001b[39mis\u001b[39;00m \u001b[39mnot\u001b[39;00m \u001b[39mNone\u001b[39;00m:\n",
      "File \u001b[0;32m/opt/homebrew/anaconda3/envs/pygraph/lib/python3.9/site-packages/matplotlib/axes/_base.py:3082\u001b[0m, in \u001b[0;36m_AxesBase.draw\u001b[0;34m(self, renderer)\u001b[0m\n\u001b[1;32m   <a href='file:///opt/homebrew/anaconda3/envs/pygraph/lib/python3.9/site-packages/matplotlib/axes/_base.py?line=3078'>3079</a>\u001b[0m         a\u001b[39m.\u001b[39mdraw(renderer)\n\u001b[1;32m   <a href='file:///opt/homebrew/anaconda3/envs/pygraph/lib/python3.9/site-packages/matplotlib/axes/_base.py?line=3079'>3080</a>\u001b[0m     renderer\u001b[39m.\u001b[39mstop_rasterizing()\n\u001b[0;32m-> <a href='file:///opt/homebrew/anaconda3/envs/pygraph/lib/python3.9/site-packages/matplotlib/axes/_base.py?line=3081'>3082</a>\u001b[0m mimage\u001b[39m.\u001b[39;49m_draw_list_compositing_images(\n\u001b[1;32m   <a href='file:///opt/homebrew/anaconda3/envs/pygraph/lib/python3.9/site-packages/matplotlib/axes/_base.py?line=3082'>3083</a>\u001b[0m     renderer, \u001b[39mself\u001b[39;49m, artists, \u001b[39mself\u001b[39;49m\u001b[39m.\u001b[39;49mfigure\u001b[39m.\u001b[39;49msuppressComposite)\n\u001b[1;32m   <a href='file:///opt/homebrew/anaconda3/envs/pygraph/lib/python3.9/site-packages/matplotlib/axes/_base.py?line=3084'>3085</a>\u001b[0m renderer\u001b[39m.\u001b[39mclose_group(\u001b[39m'\u001b[39m\u001b[39maxes\u001b[39m\u001b[39m'\u001b[39m)\n\u001b[1;32m   <a href='file:///opt/homebrew/anaconda3/envs/pygraph/lib/python3.9/site-packages/matplotlib/axes/_base.py?line=3085'>3086</a>\u001b[0m \u001b[39mself\u001b[39m\u001b[39m.\u001b[39mstale \u001b[39m=\u001b[39m \u001b[39mFalse\u001b[39;00m\n",
      "File \u001b[0;32m/opt/homebrew/anaconda3/envs/pygraph/lib/python3.9/site-packages/matplotlib/image.py:132\u001b[0m, in \u001b[0;36m_draw_list_compositing_images\u001b[0;34m(renderer, parent, artists, suppress_composite)\u001b[0m\n\u001b[1;32m    <a href='file:///opt/homebrew/anaconda3/envs/pygraph/lib/python3.9/site-packages/matplotlib/image.py?line=129'>130</a>\u001b[0m \u001b[39mif\u001b[39;00m not_composite \u001b[39mor\u001b[39;00m \u001b[39mnot\u001b[39;00m has_images:\n\u001b[1;32m    <a href='file:///opt/homebrew/anaconda3/envs/pygraph/lib/python3.9/site-packages/matplotlib/image.py?line=130'>131</a>\u001b[0m     \u001b[39mfor\u001b[39;00m a \u001b[39min\u001b[39;00m artists:\n\u001b[0;32m--> <a href='file:///opt/homebrew/anaconda3/envs/pygraph/lib/python3.9/site-packages/matplotlib/image.py?line=131'>132</a>\u001b[0m         a\u001b[39m.\u001b[39;49mdraw(renderer)\n\u001b[1;32m    <a href='file:///opt/homebrew/anaconda3/envs/pygraph/lib/python3.9/site-packages/matplotlib/image.py?line=132'>133</a>\u001b[0m \u001b[39melse\u001b[39;00m:\n\u001b[1;32m    <a href='file:///opt/homebrew/anaconda3/envs/pygraph/lib/python3.9/site-packages/matplotlib/image.py?line=133'>134</a>\u001b[0m     \u001b[39m# Composite any adjacent images together\u001b[39;00m\n\u001b[1;32m    <a href='file:///opt/homebrew/anaconda3/envs/pygraph/lib/python3.9/site-packages/matplotlib/image.py?line=134'>135</a>\u001b[0m     image_group \u001b[39m=\u001b[39m []\n",
      "File \u001b[0;32m/opt/homebrew/anaconda3/envs/pygraph/lib/python3.9/site-packages/matplotlib/artist.py:50\u001b[0m, in \u001b[0;36mallow_rasterization.<locals>.draw_wrapper\u001b[0;34m(artist, renderer)\u001b[0m\n\u001b[1;32m     <a href='file:///opt/homebrew/anaconda3/envs/pygraph/lib/python3.9/site-packages/matplotlib/artist.py?line=46'>47</a>\u001b[0m     \u001b[39mif\u001b[39;00m artist\u001b[39m.\u001b[39mget_agg_filter() \u001b[39mis\u001b[39;00m \u001b[39mnot\u001b[39;00m \u001b[39mNone\u001b[39;00m:\n\u001b[1;32m     <a href='file:///opt/homebrew/anaconda3/envs/pygraph/lib/python3.9/site-packages/matplotlib/artist.py?line=47'>48</a>\u001b[0m         renderer\u001b[39m.\u001b[39mstart_filter()\n\u001b[0;32m---> <a href='file:///opt/homebrew/anaconda3/envs/pygraph/lib/python3.9/site-packages/matplotlib/artist.py?line=49'>50</a>\u001b[0m     \u001b[39mreturn\u001b[39;00m draw(artist, renderer)\n\u001b[1;32m     <a href='file:///opt/homebrew/anaconda3/envs/pygraph/lib/python3.9/site-packages/matplotlib/artist.py?line=50'>51</a>\u001b[0m \u001b[39mfinally\u001b[39;00m:\n\u001b[1;32m     <a href='file:///opt/homebrew/anaconda3/envs/pygraph/lib/python3.9/site-packages/matplotlib/artist.py?line=51'>52</a>\u001b[0m     \u001b[39mif\u001b[39;00m artist\u001b[39m.\u001b[39mget_agg_filter() \u001b[39mis\u001b[39;00m \u001b[39mnot\u001b[39;00m \u001b[39mNone\u001b[39;00m:\n",
      "File \u001b[0;32m/opt/homebrew/anaconda3/envs/pygraph/lib/python3.9/site-packages/matplotlib/patches.py:606\u001b[0m, in \u001b[0;36mPatch.draw\u001b[0;34m(self, renderer)\u001b[0m\n\u001b[1;32m    <a href='file:///opt/homebrew/anaconda3/envs/pygraph/lib/python3.9/site-packages/matplotlib/patches.py?line=603'>604</a>\u001b[0m     \u001b[39mreturn\u001b[39;00m\n\u001b[1;32m    <a href='file:///opt/homebrew/anaconda3/envs/pygraph/lib/python3.9/site-packages/matplotlib/patches.py?line=604'>605</a>\u001b[0m \u001b[39m# Patch has traditionally ignored the dashoffset.\u001b[39;00m\n\u001b[0;32m--> <a href='file:///opt/homebrew/anaconda3/envs/pygraph/lib/python3.9/site-packages/matplotlib/patches.py?line=605'>606</a>\u001b[0m \u001b[39mwith\u001b[39;00m cbook\u001b[39m.\u001b[39m_setattr_cm(\u001b[39mself\u001b[39m, _dashoffset\u001b[39m=\u001b[39m\u001b[39m0\u001b[39m), \\\n\u001b[1;32m    <a href='file:///opt/homebrew/anaconda3/envs/pygraph/lib/python3.9/site-packages/matplotlib/patches.py?line=606'>607</a>\u001b[0m         \u001b[39mself\u001b[39m\u001b[39m.\u001b[39m_bind_draw_path_function(renderer) \u001b[39mas\u001b[39;00m draw_path:\n\u001b[1;32m    <a href='file:///opt/homebrew/anaconda3/envs/pygraph/lib/python3.9/site-packages/matplotlib/patches.py?line=607'>608</a>\u001b[0m     path \u001b[39m=\u001b[39m \u001b[39mself\u001b[39m\u001b[39m.\u001b[39mget_path()\n\u001b[1;32m    <a href='file:///opt/homebrew/anaconda3/envs/pygraph/lib/python3.9/site-packages/matplotlib/patches.py?line=608'>609</a>\u001b[0m     transform \u001b[39m=\u001b[39m \u001b[39mself\u001b[39m\u001b[39m.\u001b[39mget_transform()\n",
      "File \u001b[0;32m/opt/homebrew/anaconda3/envs/pygraph/lib/python3.9/contextlib.py:119\u001b[0m, in \u001b[0;36m_GeneratorContextManager.__enter__\u001b[0;34m(self)\u001b[0m\n\u001b[1;32m    <a href='file:///opt/homebrew/anaconda3/envs/pygraph/lib/python3.9/contextlib.py?line=116'>117</a>\u001b[0m \u001b[39mdel\u001b[39;00m \u001b[39mself\u001b[39m\u001b[39m.\u001b[39margs, \u001b[39mself\u001b[39m\u001b[39m.\u001b[39mkwds, \u001b[39mself\u001b[39m\u001b[39m.\u001b[39mfunc\n\u001b[1;32m    <a href='file:///opt/homebrew/anaconda3/envs/pygraph/lib/python3.9/contextlib.py?line=117'>118</a>\u001b[0m \u001b[39mtry\u001b[39;00m:\n\u001b[0;32m--> <a href='file:///opt/homebrew/anaconda3/envs/pygraph/lib/python3.9/contextlib.py?line=118'>119</a>\u001b[0m     \u001b[39mreturn\u001b[39;00m \u001b[39mnext\u001b[39;49m(\u001b[39mself\u001b[39;49m\u001b[39m.\u001b[39;49mgen)\n\u001b[1;32m    <a href='file:///opt/homebrew/anaconda3/envs/pygraph/lib/python3.9/contextlib.py?line=119'>120</a>\u001b[0m \u001b[39mexcept\u001b[39;00m \u001b[39mStopIteration\u001b[39;00m:\n\u001b[1;32m    <a href='file:///opt/homebrew/anaconda3/envs/pygraph/lib/python3.9/contextlib.py?line=120'>121</a>\u001b[0m     \u001b[39mraise\u001b[39;00m \u001b[39mRuntimeError\u001b[39;00m(\u001b[39m\"\u001b[39m\u001b[39mgenerator didn\u001b[39m\u001b[39m'\u001b[39m\u001b[39mt yield\u001b[39m\u001b[39m\"\u001b[39m) \u001b[39mfrom\u001b[39;00m \u001b[39mNone\u001b[39m\n",
      "File \u001b[0;32m/opt/homebrew/anaconda3/envs/pygraph/lib/python3.9/site-packages/matplotlib/patches.py:573\u001b[0m, in \u001b[0;36mPatch._bind_draw_path_function\u001b[0;34m(self, renderer)\u001b[0m\n\u001b[1;32m    <a href='file:///opt/homebrew/anaconda3/envs/pygraph/lib/python3.9/site-packages/matplotlib/patches.py?line=569'>570</a>\u001b[0m gc\u001b[39m.\u001b[39mset_joinstyle(\u001b[39mself\u001b[39m\u001b[39m.\u001b[39m_joinstyle)\n\u001b[1;32m    <a href='file:///opt/homebrew/anaconda3/envs/pygraph/lib/python3.9/site-packages/matplotlib/patches.py?line=571'>572</a>\u001b[0m gc\u001b[39m.\u001b[39mset_antialiased(\u001b[39mself\u001b[39m\u001b[39m.\u001b[39m_antialiased)\n\u001b[0;32m--> <a href='file:///opt/homebrew/anaconda3/envs/pygraph/lib/python3.9/site-packages/matplotlib/patches.py?line=572'>573</a>\u001b[0m \u001b[39mself\u001b[39;49m\u001b[39m.\u001b[39;49m_set_gc_clip(gc)\n\u001b[1;32m    <a href='file:///opt/homebrew/anaconda3/envs/pygraph/lib/python3.9/site-packages/matplotlib/patches.py?line=573'>574</a>\u001b[0m gc\u001b[39m.\u001b[39mset_url(\u001b[39mself\u001b[39m\u001b[39m.\u001b[39m_url)\n\u001b[1;32m    <a href='file:///opt/homebrew/anaconda3/envs/pygraph/lib/python3.9/site-packages/matplotlib/patches.py?line=574'>575</a>\u001b[0m gc\u001b[39m.\u001b[39mset_snap(\u001b[39mself\u001b[39m\u001b[39m.\u001b[39mget_snap())\n",
      "File \u001b[0;32m/opt/homebrew/anaconda3/envs/pygraph/lib/python3.9/site-packages/matplotlib/artist.py:891\u001b[0m, in \u001b[0;36mArtist._set_gc_clip\u001b[0;34m(self, gc)\u001b[0m\n\u001b[1;32m    <a href='file:///opt/homebrew/anaconda3/envs/pygraph/lib/python3.9/site-packages/matplotlib/artist.py?line=888'>889</a>\u001b[0m     \u001b[39mif\u001b[39;00m \u001b[39mself\u001b[39m\u001b[39m.\u001b[39mclipbox \u001b[39mis\u001b[39;00m \u001b[39mnot\u001b[39;00m \u001b[39mNone\u001b[39;00m:\n\u001b[1;32m    <a href='file:///opt/homebrew/anaconda3/envs/pygraph/lib/python3.9/site-packages/matplotlib/artist.py?line=889'>890</a>\u001b[0m         gc\u001b[39m.\u001b[39mset_clip_rectangle(\u001b[39mself\u001b[39m\u001b[39m.\u001b[39mclipbox)\n\u001b[0;32m--> <a href='file:///opt/homebrew/anaconda3/envs/pygraph/lib/python3.9/site-packages/matplotlib/artist.py?line=890'>891</a>\u001b[0m     gc\u001b[39m.\u001b[39;49mset_clip_path(\u001b[39mself\u001b[39;49m\u001b[39m.\u001b[39;49m_clippath)\n\u001b[1;32m    <a href='file:///opt/homebrew/anaconda3/envs/pygraph/lib/python3.9/site-packages/matplotlib/artist.py?line=891'>892</a>\u001b[0m \u001b[39melse\u001b[39;00m:\n\u001b[1;32m    <a href='file:///opt/homebrew/anaconda3/envs/pygraph/lib/python3.9/site-packages/matplotlib/artist.py?line=892'>893</a>\u001b[0m     gc\u001b[39m.\u001b[39mset_clip_rectangle(\u001b[39mNone\u001b[39;00m)\n",
      "\u001b[0;31mKeyboardInterrupt\u001b[0m: "
     ]
    }
   ],
   "source": [
    "ax = plt.subplot()\n",
    "ax.hist(t[0], bins=100)\n",
    "\n",
    "plt.show()"
   ]
  }
 ],
 "metadata": {
  "interpreter": {
   "hash": "284a17d5edba1b82bbb8793a64a3a9f6114640b8c8687fac297a1d74e5a299a9"
  },
  "kernelspec": {
   "display_name": "Python 3.9.7 ('pygraph')",
   "language": "python",
   "name": "python3"
  },
  "language_info": {
   "codemirror_mode": {
    "name": "ipython",
    "version": 3
   },
   "file_extension": ".py",
   "mimetype": "text/x-python",
   "name": "python",
   "nbconvert_exporter": "python",
   "pygments_lexer": "ipython3",
   "version": "3.9.7"
  },
  "orig_nbformat": 4
 },
 "nbformat": 4,
 "nbformat_minor": 2
}
