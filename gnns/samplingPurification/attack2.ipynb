{
 "cells": [
  {
   "cell_type": "code",
   "execution_count": 1,
   "metadata": {},
   "outputs": [],
   "source": [
    "import torch\n",
    "import random\n",
    "from torch_geometric.nn import Sequential, DenseGCNConv\n",
    "from torch.nn import Linear, ReLU\n",
    "\n",
    "\n",
    "def get_neighbor_subgraphs(adj: torch.Tensor, size: int, n: int) -> torch.Tensor:\n",
    "    \"\"\"\n",
    "    Returns a tensor ~ `(n * size)` of node indices for `n` supgraphs of size `size`\n",
    "    \"\"\"\n",
    "    res = torch.zeros([n, size], dtype=torch.long)\n",
    "\n",
    "    for i in range(n):\n",
    "        out = []\n",
    "        stack = [random.randint(0, adj.shape[0] - 1)]\n",
    "        while len(out) < size:\n",
    "            if len(stack) == 0:\n",
    "                stack.append(random.randint(0, adj.shape[0] - 1))\n",
    "            curNode = stack.pop()\n",
    "            if curNode not in out:\n",
    "                out.append(curNode)\n",
    "                children = adj[curNode].nonzero().t()[0].cpu().tolist()\n",
    "                stack = children + stack\n",
    "        res[i] = torch.tensor(out)\n",
    "\n",
    "    return res\n",
    "\n",
    "\n",
    "class PGDAttack:\n",
    "    def __init__(self, \n",
    "                 adj: torch.Tensor, feat: torch.Tensor, label: torch.Tensor, \n",
    "                 sample_size=64, num_samples=1000, device='cpu') -> None:\n",
    "        self.adj = adj\n",
    "        self.feat = feat\n",
    "        self.label = label\n",
    "        self.device = device\n",
    "        self.sample_size = sample_size\n",
    "        self.num_samples = num_samples\n",
    "        self.device = device\n",
    "        self.subgraph_ids = get_neighbor_subgraphs(adj, 64, num_samples)\n",
    "    \n",
    "    def attack(self, num_epochs=1000, ptb_rate=0.25, hid=16) -> torch.Tensor:\n",
    "        surrogate_gcn = Sequential('x, adj', [\n",
    "            (DenseGCNConv(self.feat.shape[1], hid), 'x, adj -> x'),\n",
    "            ReLU(inplace=True),\n",
    "            (DenseGCNConv(hid, hid), 'x, adj -> x'),\n",
    "            ReLU(inplace=True),\n",
    "            Linear(hid, int(self.label.max()) + 1),\n",
    "        ]).to(self.device)\n",
    "        return torch.zeros([1,1])"
   ]
  }
 ],
 "metadata": {
  "kernelspec": {
   "display_name": "pytorch_c116",
   "language": "python",
   "name": "python3"
  },
  "language_info": {
   "codemirror_mode": {
    "name": "ipython",
    "version": 3
   },
   "file_extension": ".py",
   "mimetype": "text/x-python",
   "name": "python",
   "nbconvert_exporter": "python",
   "pygments_lexer": "ipython3",
   "version": "3.10.4"
  },
  "orig_nbformat": 4
 },
 "nbformat": 4,
 "nbformat_minor": 2
}
