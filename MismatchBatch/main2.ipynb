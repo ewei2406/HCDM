{
 "cells": [
  {
   "cell_type": "code",
   "execution_count": 28,
   "metadata": {},
   "outputs": [],
   "source": [
    "import torch\n",
    "device = \"cuda:1\" if torch.cuda.is_available() else \"cpu\"\n",
    "num_samples = 1024\n",
    "sample_size = 64"
   ]
  },
  {
   "cell_type": "code",
   "execution_count": 61,
   "metadata": {},
   "outputs": [
    {
     "name": "stdout",
     "output_type": "stream",
     "text": [
      "Loading uai dataset...\n"
     ]
    }
   ],
   "source": [
    "import utils\n",
    "adj, feat, label, train_mask, val_mask, test_mask = utils.load_data(\"UAI\", 123, device=device)"
   ]
  },
  {
   "cell_type": "code",
   "execution_count": 63,
   "metadata": {},
   "outputs": [],
   "source": [
    "import numpy as np\n",
    "def evaluate(A):\n",
    "    results = {}\n",
    "\n",
    "    # Eval using regular\n",
    "    gcn = utils.get_gcn(feat.shape[1], int(label.max().item() + 1))\n",
    "    utils.train_adj(gcn, feat, A, label, train_mask, 100)\n",
    "    reg_acc = utils.eval_adj(gcn, adj, feat, label, test_mask)\n",
    "    print(f\"Reg acc: {reg_acc:.2%}\")\n",
    "    results[f\"acc_full\"] = reg_acc\n",
    "\n",
    "    # Eval with batched\n",
    "    for sample in [256, 64, 32, 16]:\n",
    "        ct = int((A.shape[0] * A.shape[0]) / (np.sqrt(sample) * 1000))\n",
    "        gcn = utils.get_gcn(feat.shape[1], int(label.max().item() + 1))\n",
    "        utils.train(gcn, utils.get_dataloader(A, feat, label, train_mask, ct, sample, 64), 100)\n",
    "        acc = utils.eval_adj(gcn, adj, feat, label, test_mask)\n",
    "        print(f\"S({sample}, {ct}) acc: {acc:.2%}\")\n",
    "        results[f\"acc_{sample}\"] = acc\n",
    "\n",
    "    \n",
    "    return results"
   ]
  },
  {
   "cell_type": "code",
   "execution_count": 64,
   "metadata": {},
   "outputs": [],
   "source": [
    "import attacks\n",
    "import importlib\n",
    "importlib.reload(attacks)\n",
    "\n",
    "budget = int(0.5 * adj.sum().item())\n",
    "def get_pgd(budget, surrogate_lr=1e-2, epochs=30, attack_lr=1.0):\n",
    "    return attacks.PGD_Attack(adj, feat, budget, label, train_mask, val_mask, epochs=epochs, device=device, surrogate_lr=surrogate_lr, attack_lr=attack_lr)\n",
    "def get_partition_pgd(budget, k):\n",
    "    return attacks.Partition_PGD(k, adj, feat, budget, label, train_mask, val_mask, device=device)\n",
    "def get_sample_pgd(budget, s_size, s_ct):\n",
    "    return attacks.Batch_PGD(s_size, s_ct, adj, feat, budget, label, train_mask, val_mask, device=device)\n",
    "\n"
   ]
  },
  {
   "cell_type": "code",
   "execution_count": 65,
   "metadata": {},
   "outputs": [],
   "source": [
    "import export\n",
    "\n",
    "baseargs = {\n",
    "    'dataset': 'UAI',\n",
    "    'method': 'clean'\n",
    "}"
   ]
  },
  {
   "cell_type": "code",
   "execution_count": 69,
   "metadata": {},
   "outputs": [
    {
     "name": "stderr",
     "output_type": "stream",
     "text": [
      "Model training: 100%|██████████| 100/100 [00:07<00:00, 13.37it/s, loss=3.31]\n"
     ]
    },
    {
     "name": "stdout",
     "output_type": "stream",
     "text": [
      "Reg acc: 22.09%\n"
     ]
    },
    {
     "name": "stderr",
     "output_type": "stream",
     "text": [
      "Model training: 100%|██████████| 100/100 [01:44<00:00,  1.04s/it, loss=2.33]\n"
     ]
    },
    {
     "name": "stdout",
     "output_type": "stream",
     "text": [
      "S(256, 587) acc: 13.45%\n"
     ]
    },
    {
     "name": "stderr",
     "output_type": "stream",
     "text": [
      "Model training: 100%|██████████| 100/100 [01:03<00:00,  1.56it/s, loss=2.37]\n"
     ]
    },
    {
     "name": "stdout",
     "output_type": "stream",
     "text": [
      "S(64, 1175) acc: 7.17%\n"
     ]
    },
    {
     "name": "stderr",
     "output_type": "stream",
     "text": [
      "Model training: 100%|██████████| 100/100 [00:53<00:00,  1.87it/s, loss=2.14]\n"
     ]
    },
    {
     "name": "stdout",
     "output_type": "stream",
     "text": [
      "S(32, 1662) acc: 13.33%\n"
     ]
    },
    {
     "name": "stderr",
     "output_type": "stream",
     "text": [
      "Model training: 100%|██████████| 100/100 [00:29<00:00,  3.38it/s, loss=2.19]\n"
     ]
    },
    {
     "name": "stdout",
     "output_type": "stream",
     "text": [
      "S(16, 2351) acc: 13.73%\n"
     ]
    }
   ],
   "source": [
    "results = evaluate(adj)\n",
    "baseargs.update(results)\n",
    "export.saveData(\"results.csv\", baseargs)"
   ]
  },
  {
   "cell_type": "code",
   "execution_count": 70,
   "metadata": {},
   "outputs": [
    {
     "name": "stderr",
     "output_type": "stream",
     "text": [
      "100%|██████████| 30/30 [00:32<00:00,  1.09s/it, loss=1.28e+5]\n",
      "Model training: 100%|██████████| 100/100 [00:06<00:00, 14.29it/s, loss=2.53]\n"
     ]
    },
    {
     "name": "stdout",
     "output_type": "stream",
     "text": [
      "Reg acc: 21.60%\n"
     ]
    },
    {
     "name": "stderr",
     "output_type": "stream",
     "text": [
      "Model training: 100%|██████████| 100/100 [01:48<00:00,  1.08s/it, loss=2.29]\n"
     ]
    },
    {
     "name": "stdout",
     "output_type": "stream",
     "text": [
      "S(256, 587) acc: 7.17%\n"
     ]
    },
    {
     "name": "stderr",
     "output_type": "stream",
     "text": [
      "Model training: 100%|██████████| 100/100 [01:03<00:00,  1.58it/s, loss=1.89]\n"
     ]
    },
    {
     "name": "stdout",
     "output_type": "stream",
     "text": [
      "S(64, 1175) acc: 7.58%\n"
     ]
    },
    {
     "name": "stderr",
     "output_type": "stream",
     "text": [
      "Model training: 100%|██████████| 100/100 [00:51<00:00,  1.95it/s, loss=2.16]\n"
     ]
    },
    {
     "name": "stdout",
     "output_type": "stream",
     "text": [
      "S(32, 1662) acc: 7.17%\n"
     ]
    },
    {
     "name": "stderr",
     "output_type": "stream",
     "text": [
      "Model training: 100%|██████████| 100/100 [00:34<00:00,  2.89it/s, loss=2.07]\n"
     ]
    },
    {
     "name": "stdout",
     "output_type": "stream",
     "text": [
      "S(16, 2351) acc: 11.29%\n"
     ]
    }
   ],
   "source": [
    "baseargs.update({'method': 'pgd-0.5'})\n",
    "results = evaluate(get_pgd(int(0.5 * adj.sum().item()), epochs=30, surrogate_lr=1e-2, attack_lr=1))\n",
    "baseargs.update(results)\n",
    "export.saveData(\"results.csv\", baseargs)"
   ]
  },
  {
   "cell_type": "code",
   "execution_count": 59,
   "metadata": {},
   "outputs": [
    {
     "name": "stderr",
     "output_type": "stream",
     "text": [
      "100%|██████████| 30/30 [00:01<00:00, 22.86it/s, loss=7.4] \n",
      "100%|██████████| 30/30 [00:01<00:00, 23.46it/s, loss=13.5]\n",
      "Model training: 100%|██████████| 100/100 [00:01<00:00, 51.45it/s, loss=1.16]\n"
     ]
    },
    {
     "name": "stdout",
     "output_type": "stream",
     "text": [
      "Reg acc: 56.81%\n"
     ]
    },
    {
     "name": "stderr",
     "output_type": "stream",
     "text": [
      "Model training: 100%|██████████| 100/100 [00:34<00:00,  2.89it/s, loss=0.11]\n"
     ]
    },
    {
     "name": "stdout",
     "output_type": "stream",
     "text": [
      "S(256, 278) acc: 64.28%\n"
     ]
    },
    {
     "name": "stderr",
     "output_type": "stream",
     "text": [
      "Model training: 100%|██████████| 100/100 [00:22<00:00,  4.52it/s, loss=0.01]\n"
     ]
    },
    {
     "name": "stdout",
     "output_type": "stream",
     "text": [
      "S(64, 556) acc: 66.59%\n"
     ]
    },
    {
     "name": "stderr",
     "output_type": "stream",
     "text": [
      "Model training: 100%|██████████| 100/100 [00:12<00:00,  8.05it/s, loss=0]  \n"
     ]
    },
    {
     "name": "stdout",
     "output_type": "stream",
     "text": [
      "S(32, 787) acc: 64.87%\n"
     ]
    },
    {
     "name": "stderr",
     "output_type": "stream",
     "text": [
      "Model training: 100%|██████████| 100/100 [00:14<00:00,  6.72it/s, loss=0]  \n"
     ]
    },
    {
     "name": "stdout",
     "output_type": "stream",
     "text": [
      "S(16, 1113) acc: 65.64%\n"
     ]
    },
    {
     "name": "stderr",
     "output_type": "stream",
     "text": [
      "100%|██████████| 30/30 [00:00<00:00, 59.24it/s, loss=2.48]\n",
      "100%|██████████| 30/30 [00:00<00:00, 46.90it/s, loss=4.71]\n",
      "100%|██████████| 30/30 [00:00<00:00, 38.30it/s, loss=4.46]\n",
      "100%|██████████| 30/30 [00:01<00:00, 29.36it/s, loss=4.61]\n",
      "Model training: 100%|██████████| 100/100 [00:02<00:00, 49.12it/s, loss=0.7]\n"
     ]
    },
    {
     "name": "stdout",
     "output_type": "stream",
     "text": [
      "Reg acc: 64.93%\n"
     ]
    },
    {
     "name": "stderr",
     "output_type": "stream",
     "text": [
      "Model training: 100%|██████████| 100/100 [00:35<00:00,  2.84it/s, loss=0.11]\n"
     ]
    },
    {
     "name": "stdout",
     "output_type": "stream",
     "text": [
      "S(256, 278) acc: 64.34%\n"
     ]
    },
    {
     "name": "stderr",
     "output_type": "stream",
     "text": [
      "Model training: 100%|██████████| 100/100 [00:22<00:00,  4.40it/s, loss=0.01]\n"
     ]
    },
    {
     "name": "stdout",
     "output_type": "stream",
     "text": [
      "S(64, 556) acc: 63.92%\n"
     ]
    },
    {
     "name": "stderr",
     "output_type": "stream",
     "text": [
      "Model training: 100%|██████████| 100/100 [00:12<00:00,  8.03it/s, loss=0]  \n"
     ]
    },
    {
     "name": "stdout",
     "output_type": "stream",
     "text": [
      "S(32, 787) acc: 64.75%\n"
     ]
    },
    {
     "name": "stderr",
     "output_type": "stream",
     "text": [
      "Model training: 100%|██████████| 100/100 [00:11<00:00,  8.40it/s, loss=0]  \n"
     ]
    },
    {
     "name": "stdout",
     "output_type": "stream",
     "text": [
      "S(16, 1113) acc: 65.82%\n"
     ]
    },
    {
     "name": "stderr",
     "output_type": "stream",
     "text": [
      "100%|██████████| 30/30 [00:00<00:00, 114.52it/s, loss=2.2] \n",
      "100%|██████████| 30/30 [00:00<00:00, 93.47it/s, loss=2.08] \n",
      "100%|██████████| 30/30 [00:00<00:00, 84.52it/s, loss=1.89]\n",
      "100%|██████████| 30/30 [00:00<00:00, 91.73it/s, loss=1.79]\n",
      "100%|██████████| 30/30 [00:00<00:00, 81.54it/s, loss=2.02]\n",
      "100%|██████████| 30/30 [00:00<00:00, 89.97it/s, loss=3.8] \n",
      "100%|██████████| 30/30 [00:00<00:00, 88.33it/s, loss=5.92]\n",
      "100%|██████████| 30/30 [00:00<00:00, 83.40it/s, loss=4.3] \n",
      "100%|██████████| 30/30 [00:00<00:00, 81.20it/s, loss=2.43]\n",
      "100%|██████████| 30/30 [00:00<00:00, 79.77it/s, loss=2.66]\n",
      "100%|██████████| 30/30 [00:00<00:00, 96.17it/s, loss=5.18] \n",
      "100%|██████████| 30/30 [00:00<00:00, 89.30it/s, loss=2.82] \n",
      "100%|██████████| 30/30 [00:00<00:00, 78.27it/s, loss=4.52]\n",
      "100%|██████████| 30/30 [00:00<00:00, 82.35it/s, loss=2.76]\n",
      "100%|██████████| 30/30 [00:00<00:00, 87.60it/s, loss=3.64]\n",
      "100%|██████████| 30/30 [00:00<00:00, 74.78it/s, loss=5.43]\n",
      "Model training: 100%|██████████| 100/100 [00:02<00:00, 49.92it/s, loss=0.65]\n"
     ]
    },
    {
     "name": "stdout",
     "output_type": "stream",
     "text": [
      "Reg acc: 62.56%\n"
     ]
    },
    {
     "name": "stderr",
     "output_type": "stream",
     "text": [
      "Model training: 100%|██████████| 100/100 [00:34<00:00,  2.91it/s, loss=0.07]\n"
     ]
    },
    {
     "name": "stdout",
     "output_type": "stream",
     "text": [
      "S(256, 278) acc: 66.41%\n"
     ]
    },
    {
     "name": "stderr",
     "output_type": "stream",
     "text": [
      "Model training: 100%|██████████| 100/100 [00:22<00:00,  4.48it/s, loss=0.03]\n"
     ]
    },
    {
     "name": "stdout",
     "output_type": "stream",
     "text": [
      "S(64, 556) acc: 65.52%\n"
     ]
    },
    {
     "name": "stderr",
     "output_type": "stream",
     "text": [
      "Model training: 100%|██████████| 100/100 [00:11<00:00,  8.35it/s, loss=0.02]\n"
     ]
    },
    {
     "name": "stdout",
     "output_type": "stream",
     "text": [
      "S(32, 787) acc: 64.10%\n"
     ]
    },
    {
     "name": "stderr",
     "output_type": "stream",
     "text": [
      "Model training: 100%|██████████| 100/100 [00:13<00:00,  7.39it/s, loss=0]  \n"
     ]
    },
    {
     "name": "stdout",
     "output_type": "stream",
     "text": [
      "S(16, 1113) acc: 66.35%\n"
     ]
    }
   ],
   "source": [
    "for k in [2, 4, 16]:\n",
    "    baseargs.update({'method': f\"pgd_partition_{k}-0.5\"})\n",
    "    results = evaluate(get_partition_pgd(int(0.5 * adj.sum().item()), k))\n",
    "    baseargs.update(results)\n",
    "    export.saveData(\"results.csv\", baseargs)"
   ]
  },
  {
   "cell_type": "code",
   "execution_count": 60,
   "metadata": {},
   "outputs": [
    {
     "name": "stderr",
     "output_type": "stream",
     "text": [
      "100%|██████████| 30/30 [00:01<00:00, 29.13it/s, loss=2.2] \n",
      "100%|██████████| 30/30 [00:00<00:00, 58.27it/s, loss=2.12]\n",
      "100%|██████████| 30/30 [00:00<00:00, 59.37it/s, loss=2.68]\n",
      "100%|██████████| 30/30 [00:00<00:00, 67.77it/s, loss=1.95]\n",
      "100%|██████████| 30/30 [00:00<00:00, 55.59it/s, loss=3.85]\n",
      "100%|██████████| 30/30 [00:00<00:00, 57.23it/s, loss=2.78]\n",
      "100%|██████████| 30/30 [00:00<00:00, 61.87it/s, loss=1.94]\n",
      "100%|██████████| 30/30 [00:00<00:00, 58.26it/s, loss=2.84]\n",
      "100%|██████████| 30/30 [00:00<00:00, 62.65it/s, loss=2.8] \n",
      "100%|██████████| 30/30 [00:00<00:00, 58.45it/s, loss=1.84]\n",
      "100%|██████████| 30/30 [00:00<00:00, 61.51it/s, loss=2.05]\n",
      "100%|██████████| 30/30 [00:00<00:00, 55.48it/s, loss=2.42]\n",
      "100%|██████████| 30/30 [00:00<00:00, 54.93it/s, loss=4.53]\n",
      "100%|██████████| 30/30 [00:00<00:00, 55.98it/s, loss=2.94]\n",
      "100%|██████████| 30/30 [00:00<00:00, 43.50it/s, loss=2.23]\n",
      "100%|██████████| 30/30 [00:00<00:00, 55.92it/s, loss=2.6] \n",
      "100%|██████████| 30/30 [00:00<00:00, 52.31it/s, loss=2.05]\n",
      "100%|██████████| 30/30 [00:00<00:00, 52.20it/s, loss=2.5] \n",
      "100%|██████████| 30/30 [00:00<00:00, 51.72it/s, loss=2.49]\n",
      "100%|██████████| 30/30 [00:00<00:00, 55.15it/s, loss=2.25]\n",
      "Model training: 100%|██████████| 100/100 [00:01<00:00, 50.43it/s, loss=0.38]\n"
     ]
    },
    {
     "name": "stdout",
     "output_type": "stream",
     "text": [
      "Reg acc: 67.12%\n"
     ]
    },
    {
     "name": "stderr",
     "output_type": "stream",
     "text": [
      "Model training: 100%|██████████| 100/100 [00:34<00:00,  2.86it/s, loss=0]  \n"
     ]
    },
    {
     "name": "stdout",
     "output_type": "stream",
     "text": [
      "S(256, 278) acc: 69.79%\n"
     ]
    },
    {
     "name": "stderr",
     "output_type": "stream",
     "text": [
      "Model training: 100%|██████████| 100/100 [00:23<00:00,  4.34it/s, loss=0]  \n"
     ]
    },
    {
     "name": "stdout",
     "output_type": "stream",
     "text": [
      "S(64, 556) acc: 67.42%\n"
     ]
    },
    {
     "name": "stderr",
     "output_type": "stream",
     "text": [
      "Model training: 100%|██████████| 100/100 [00:12<00:00,  8.17it/s, loss=0]  \n"
     ]
    },
    {
     "name": "stdout",
     "output_type": "stream",
     "text": [
      "S(32, 787) acc: 66.17%\n"
     ]
    },
    {
     "name": "stderr",
     "output_type": "stream",
     "text": [
      "Model training: 100%|██████████| 100/100 [00:14<00:00,  6.85it/s, loss=0]  \n"
     ]
    },
    {
     "name": "stdout",
     "output_type": "stream",
     "text": [
      "S(16, 1113) acc: 67.89%\n"
     ]
    },
    {
     "name": "stderr",
     "output_type": "stream",
     "text": [
      "100%|██████████| 30/30 [00:00<00:00, 109.75it/s, loss=1.98]\n",
      "100%|██████████| 30/30 [00:00<00:00, 98.80it/s, loss=1.9]  \n",
      "100%|██████████| 30/30 [00:00<00:00, 84.92it/s, loss=1.95]\n",
      "100%|██████████| 30/30 [00:00<00:00, 83.90it/s, loss=2.12]\n",
      "100%|██████████| 30/30 [00:00<00:00, 88.58it/s, loss=1.95]\n",
      "100%|██████████| 30/30 [00:00<00:00, 90.04it/s, loss=2.13]\n",
      "100%|██████████| 30/30 [00:00<00:00, 87.20it/s, loss=1.97]\n",
      "100%|██████████| 30/30 [00:00<00:00, 81.29it/s, loss=1.85]\n",
      "100%|██████████| 30/30 [00:00<00:00, 81.23it/s, loss=1.86]\n",
      "100%|██████████| 30/30 [00:00<00:00, 80.42it/s, loss=2.28]\n",
      "100%|██████████| 30/30 [00:00<00:00, 81.37it/s, loss=2.12]\n",
      "100%|██████████| 30/30 [00:00<00:00, 87.78it/s, loss=1.89]\n",
      "100%|██████████| 30/30 [00:00<00:00, 84.99it/s, loss=1.91]\n",
      "100%|██████████| 30/30 [00:00<00:00, 85.72it/s, loss=2.43]\n",
      "100%|██████████| 30/30 [00:00<00:00, 73.53it/s, loss=3.57]\n",
      "100%|██████████| 30/30 [00:00<00:00, 77.94it/s, loss=2.68]\n",
      "100%|██████████| 30/30 [00:00<00:00, 86.57it/s, loss=2.22]\n",
      "100%|██████████| 30/30 [00:00<00:00, 90.48it/s, loss=1.99]\n",
      "100%|██████████| 30/30 [00:00<00:00, 92.45it/s, loss=2.16]\n",
      "100%|██████████| 30/30 [00:00<00:00, 83.84it/s, loss=2.44]\n",
      "100%|██████████| 30/30 [00:00<00:00, 84.99it/s, loss=2.22]\n",
      "100%|██████████| 30/30 [00:00<00:00, 85.28it/s, loss=1.86]\n",
      "100%|██████████| 30/30 [00:00<00:00, 79.01it/s, loss=1.99]\n",
      "100%|██████████| 30/30 [00:00<00:00, 88.09it/s, loss=2.69]\n",
      "100%|██████████| 30/30 [00:00<00:00, 83.16it/s, loss=2.36]\n",
      "100%|██████████| 30/30 [00:00<00:00, 80.82it/s, loss=2.68]\n",
      "100%|██████████| 30/30 [00:00<00:00, 80.29it/s, loss=2.14]\n",
      "100%|██████████| 30/30 [00:00<00:00, 96.06it/s, loss=1.98]\n",
      "100%|██████████| 30/30 [00:00<00:00, 93.80it/s, loss=2.43] \n",
      "100%|██████████| 30/30 [00:00<00:00, 86.64it/s, loss=2.26]\n",
      "Model training: 100%|██████████| 100/100 [00:01<00:00, 51.92it/s, loss=0.04]\n"
     ]
    },
    {
     "name": "stdout",
     "output_type": "stream",
     "text": [
      "Reg acc: 70.08%\n"
     ]
    },
    {
     "name": "stderr",
     "output_type": "stream",
     "text": [
      "Model training: 100%|██████████| 100/100 [00:34<00:00,  2.93it/s, loss=0]  \n"
     ]
    },
    {
     "name": "stdout",
     "output_type": "stream",
     "text": [
      "S(256, 278) acc: 68.19%\n"
     ]
    },
    {
     "name": "stderr",
     "output_type": "stream",
     "text": [
      "Model training: 100%|██████████| 100/100 [00:22<00:00,  4.40it/s, loss=0]  \n"
     ]
    },
    {
     "name": "stdout",
     "output_type": "stream",
     "text": [
      "S(64, 556) acc: 67.95%\n"
     ]
    },
    {
     "name": "stderr",
     "output_type": "stream",
     "text": [
      "Model training: 100%|██████████| 100/100 [00:14<00:00,  6.86it/s, loss=0]  \n"
     ]
    },
    {
     "name": "stdout",
     "output_type": "stream",
     "text": [
      "S(32, 787) acc: 68.25%\n"
     ]
    },
    {
     "name": "stderr",
     "output_type": "stream",
     "text": [
      "Model training: 100%|██████████| 100/100 [00:13<00:00,  7.48it/s, loss=0]  \n"
     ]
    },
    {
     "name": "stdout",
     "output_type": "stream",
     "text": [
      "S(16, 1113) acc: 66.82%\n"
     ]
    }
   ],
   "source": [
    "for sample in [[256, 20], [128, 30]]:\n",
    "    # ct = int((adj.shape[0] * adj.shape[0]) / (np.sqrt(sample) * 1000))\n",
    "    baseargs.update({'method': f\"pgd_batch_{sample[0]}_{sample[1]}-0.5\"})\n",
    "    results = evaluate(get_sample_pgd(int(0.5 * adj.sum().item()), sample[0], sample[1]))\n",
    "    baseargs.update(results)\n",
    "    export.saveData(\"results.csv\", baseargs)"
   ]
  },
  {
   "cell_type": "code",
   "execution_count": 43,
   "metadata": {},
   "outputs": [
    {
     "data": {
      "text/plain": [
       "{'dataset': 'Cora',\n",
       " 'budget_pct': 0.5,\n",
       " 'k': 'random',\n",
       " 's_size': 10,\n",
       " 's_ct': -1,\n",
       " 'method': 'clean',\n",
       " 'acc_16': 0.7419517040252686,\n",
       " 'acc_32': 0.7751508951187134,\n",
       " 'acc_64': 0.7615694403648376,\n",
       " 'acc_128': 0.7842052578926086,\n",
       " 'acc_256': 0.7655935883522034,\n",
       " 'acc_2485': 0.6916499137878418}"
      ]
     },
     "execution_count": 43,
     "metadata": {},
     "output_type": "execute_result"
    }
   ],
   "source": [
    "baseargs = {\n",
    "    'dataset': 0.5,\n",
    "    'k': 'random',\n",
    "    's_size': 10,\n",
    "    's_ct': -1,\n",
    "}"
   ]
  },
  {
   "cell_type": "code",
   "execution_count": 32,
   "metadata": {},
   "outputs": [
    {
     "name": "stdout",
     "output_type": "stream",
     "text": [
      "1029\n",
      "727\n",
      "514\n",
      "363\n",
      "257\n",
      "181\n"
     ]
    }
   ],
   "source": [
    "import numpy as np\n",
    "A = adj\n",
    "for sample in [16, 32, 64, 128, 256, 512]:\n",
    "    ct = int((A.shape[0] * A.shape[0]) / (np.sqrt(sample) * 1500))\n",
    "    print(ct)"
   ]
  }
 ],
 "metadata": {
  "kernelspec": {
   "display_name": "pytorch_c116",
   "language": "python",
   "name": "python3"
  },
  "language_info": {
   "codemirror_mode": {
    "name": "ipython",
    "version": 3
   },
   "file_extension": ".py",
   "mimetype": "text/x-python",
   "name": "python",
   "nbconvert_exporter": "python",
   "pygments_lexer": "ipython3",
   "version": "3.10.4"
  },
  "orig_nbformat": 4
 },
 "nbformat": 4,
 "nbformat_minor": 2
}
